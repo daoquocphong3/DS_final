{
 "cells": [
  {
   "cell_type": "markdown",
   "id": "b29780eb",
   "metadata": {},
   "source": [
    "## Đồ án cuối kỳ - Lập trình cho Khoa học Dữ liệu"
   ]
  },
  {
   "cell_type": "markdown",
   "id": "ad998c48",
   "metadata": {},
   "source": [
    "|Danh sách thành viên|MSSV|Tiến độ hoàn thành|\n",
    "|---|---|---|---|\n",
    "|Đào Quốc Phong|18120505||\n",
    "|Hồ Hoàng Duy|19120207||"
   ]
  },
  {
   "cell_type": "markdown",
   "id": "89796d0d",
   "metadata": {},
   "source": [
    "## Thu thập dữ liệu"
   ]
  },
  {
   "cell_type": "markdown",
   "id": "4b8c0541",
   "metadata": {},
   "source": [
    "Dữ liệu trong đồ án lần này là về Phân tích Tính cách của Khách hàng (link [kaggle](https://www.kaggle.com/imakash3011/customer-personality-analysis)). Đây là một phân tích chi tiết về những khách hàng lý tưởng của một công ty. Nó giúp doanh nghiệp hiểu rõ hơn về khách hàng của mình và giúp họ dễ dàng sửa đổi sản phẩm theo nhu cầu, hành vi và mối quan tâm cụ thể của các loại khách hàng khác nhau.\n",
    "\n",
    "Thông qua việc phân tích tính cách khách hàng giúp doanh nghiệp sửa đổi sản phẩm của mình dựa trên khách hàng mục tiêu từ các loại phân khúc khách hàng khác nhau. Ví dụ: thay vì chi tiền để tiếp thị một sản phẩm mới cho mọi khách hàng trong cơ sở dữ liệu của công ty, một công ty có thể phân tích phân khúc khách hàng nào có nhiều khả năng mua sản phẩm nhất và sau đó chỉ tiếp thị sản phẩm trên phân khúc cụ thể đó.\n",
    "\n",
    "Data được cung cấp bởi Dr. Omar Romero-Hernandez. "
   ]
  },
  {
   "cell_type": "markdown",
   "id": "325f0107",
   "metadata": {},
   "source": [
    "## Import các thư viện cơ bản"
   ]
  },
  {
   "cell_type": "code",
   "execution_count": 1,
   "id": "d2c4bd94",
   "metadata": {},
   "outputs": [],
   "source": [
    "import pandas as pd\n",
    "import numpy as np\n",
    "import matplotlib.pyplot as plt\n",
    "import seaborn as sns"
   ]
  },
  {
   "cell_type": "markdown",
   "id": "6605a341",
   "metadata": {},
   "source": [
    "## Khám phá dữ liệu\n",
    "### Đọc dữ liệu đầu vào"
   ]
  },
  {
   "cell_type": "code",
   "execution_count": 2,
   "id": "fa909c1e",
   "metadata": {},
   "outputs": [
    {
     "data": {
      "text/html": [
       "<div>\n",
       "<style scoped>\n",
       "    .dataframe tbody tr th:only-of-type {\n",
       "        vertical-align: middle;\n",
       "    }\n",
       "\n",
       "    .dataframe tbody tr th {\n",
       "        vertical-align: top;\n",
       "    }\n",
       "\n",
       "    .dataframe thead th {\n",
       "        text-align: right;\n",
       "    }\n",
       "</style>\n",
       "<table border=\"1\" class=\"dataframe\">\n",
       "  <thead>\n",
       "    <tr style=\"text-align: right;\">\n",
       "      <th></th>\n",
       "      <th>ID</th>\n",
       "      <th>Year_Birth</th>\n",
       "      <th>Education</th>\n",
       "      <th>Marital_Status</th>\n",
       "      <th>Income</th>\n",
       "      <th>Kidhome</th>\n",
       "      <th>Teenhome</th>\n",
       "      <th>Dt_Customer</th>\n",
       "      <th>Recency</th>\n",
       "      <th>MntWines</th>\n",
       "      <th>...</th>\n",
       "      <th>NumWebVisitsMonth</th>\n",
       "      <th>AcceptedCmp3</th>\n",
       "      <th>AcceptedCmp4</th>\n",
       "      <th>AcceptedCmp5</th>\n",
       "      <th>AcceptedCmp1</th>\n",
       "      <th>AcceptedCmp2</th>\n",
       "      <th>Complain</th>\n",
       "      <th>Z_CostContact</th>\n",
       "      <th>Z_Revenue</th>\n",
       "      <th>Response</th>\n",
       "    </tr>\n",
       "  </thead>\n",
       "  <tbody>\n",
       "    <tr>\n",
       "      <th>0</th>\n",
       "      <td>5524</td>\n",
       "      <td>1957</td>\n",
       "      <td>Graduation</td>\n",
       "      <td>Single</td>\n",
       "      <td>58138.0</td>\n",
       "      <td>0</td>\n",
       "      <td>0</td>\n",
       "      <td>04-09-2012</td>\n",
       "      <td>58</td>\n",
       "      <td>635</td>\n",
       "      <td>...</td>\n",
       "      <td>7</td>\n",
       "      <td>0</td>\n",
       "      <td>0</td>\n",
       "      <td>0</td>\n",
       "      <td>0</td>\n",
       "      <td>0</td>\n",
       "      <td>0</td>\n",
       "      <td>3</td>\n",
       "      <td>11</td>\n",
       "      <td>1</td>\n",
       "    </tr>\n",
       "    <tr>\n",
       "      <th>1</th>\n",
       "      <td>2174</td>\n",
       "      <td>1954</td>\n",
       "      <td>Graduation</td>\n",
       "      <td>Single</td>\n",
       "      <td>46344.0</td>\n",
       "      <td>1</td>\n",
       "      <td>1</td>\n",
       "      <td>08-03-2014</td>\n",
       "      <td>38</td>\n",
       "      <td>11</td>\n",
       "      <td>...</td>\n",
       "      <td>5</td>\n",
       "      <td>0</td>\n",
       "      <td>0</td>\n",
       "      <td>0</td>\n",
       "      <td>0</td>\n",
       "      <td>0</td>\n",
       "      <td>0</td>\n",
       "      <td>3</td>\n",
       "      <td>11</td>\n",
       "      <td>0</td>\n",
       "    </tr>\n",
       "    <tr>\n",
       "      <th>2</th>\n",
       "      <td>4141</td>\n",
       "      <td>1965</td>\n",
       "      <td>Graduation</td>\n",
       "      <td>Together</td>\n",
       "      <td>71613.0</td>\n",
       "      <td>0</td>\n",
       "      <td>0</td>\n",
       "      <td>21-08-2013</td>\n",
       "      <td>26</td>\n",
       "      <td>426</td>\n",
       "      <td>...</td>\n",
       "      <td>4</td>\n",
       "      <td>0</td>\n",
       "      <td>0</td>\n",
       "      <td>0</td>\n",
       "      <td>0</td>\n",
       "      <td>0</td>\n",
       "      <td>0</td>\n",
       "      <td>3</td>\n",
       "      <td>11</td>\n",
       "      <td>0</td>\n",
       "    </tr>\n",
       "    <tr>\n",
       "      <th>3</th>\n",
       "      <td>6182</td>\n",
       "      <td>1984</td>\n",
       "      <td>Graduation</td>\n",
       "      <td>Together</td>\n",
       "      <td>26646.0</td>\n",
       "      <td>1</td>\n",
       "      <td>0</td>\n",
       "      <td>10-02-2014</td>\n",
       "      <td>26</td>\n",
       "      <td>11</td>\n",
       "      <td>...</td>\n",
       "      <td>6</td>\n",
       "      <td>0</td>\n",
       "      <td>0</td>\n",
       "      <td>0</td>\n",
       "      <td>0</td>\n",
       "      <td>0</td>\n",
       "      <td>0</td>\n",
       "      <td>3</td>\n",
       "      <td>11</td>\n",
       "      <td>0</td>\n",
       "    </tr>\n",
       "    <tr>\n",
       "      <th>4</th>\n",
       "      <td>5324</td>\n",
       "      <td>1981</td>\n",
       "      <td>PhD</td>\n",
       "      <td>Married</td>\n",
       "      <td>58293.0</td>\n",
       "      <td>1</td>\n",
       "      <td>0</td>\n",
       "      <td>19-01-2014</td>\n",
       "      <td>94</td>\n",
       "      <td>173</td>\n",
       "      <td>...</td>\n",
       "      <td>5</td>\n",
       "      <td>0</td>\n",
       "      <td>0</td>\n",
       "      <td>0</td>\n",
       "      <td>0</td>\n",
       "      <td>0</td>\n",
       "      <td>0</td>\n",
       "      <td>3</td>\n",
       "      <td>11</td>\n",
       "      <td>0</td>\n",
       "    </tr>\n",
       "  </tbody>\n",
       "</table>\n",
       "<p>5 rows × 29 columns</p>\n",
       "</div>"
      ],
      "text/plain": [
       "     ID  Year_Birth   Education Marital_Status   Income  Kidhome  Teenhome  \\\n",
       "0  5524        1957  Graduation         Single  58138.0        0         0   \n",
       "1  2174        1954  Graduation         Single  46344.0        1         1   \n",
       "2  4141        1965  Graduation       Together  71613.0        0         0   \n",
       "3  6182        1984  Graduation       Together  26646.0        1         0   \n",
       "4  5324        1981         PhD        Married  58293.0        1         0   \n",
       "\n",
       "  Dt_Customer  Recency  MntWines  ...  NumWebVisitsMonth  AcceptedCmp3  \\\n",
       "0  04-09-2012       58       635  ...                  7             0   \n",
       "1  08-03-2014       38        11  ...                  5             0   \n",
       "2  21-08-2013       26       426  ...                  4             0   \n",
       "3  10-02-2014       26        11  ...                  6             0   \n",
       "4  19-01-2014       94       173  ...                  5             0   \n",
       "\n",
       "   AcceptedCmp4  AcceptedCmp5  AcceptedCmp1  AcceptedCmp2  Complain  \\\n",
       "0             0             0             0             0         0   \n",
       "1             0             0             0             0         0   \n",
       "2             0             0             0             0         0   \n",
       "3             0             0             0             0         0   \n",
       "4             0             0             0             0         0   \n",
       "\n",
       "   Z_CostContact  Z_Revenue  Response  \n",
       "0              3         11         1  \n",
       "1              3         11         0  \n",
       "2              3         11         0  \n",
       "3              3         11         0  \n",
       "4              3         11         0  \n",
       "\n",
       "[5 rows x 29 columns]"
      ]
     },
     "execution_count": 2,
     "metadata": {},
     "output_type": "execute_result"
    }
   ],
   "source": [
    "customer_df = pd.read_csv(\"marketing_campaign.csv\", sep=\"\\t\")\n",
    "customer_df.head()"
   ]
  },
  {
   "cell_type": "markdown",
   "id": "f1792df2",
   "metadata": {},
   "source": [
    "### Bộ dữ liệu có bao nhiêu hàng và cột?"
   ]
  },
  {
   "cell_type": "code",
   "execution_count": 3,
   "id": "6ec636b9",
   "metadata": {},
   "outputs": [
    {
     "name": "stdout",
     "output_type": "stream",
     "text": [
      "Dữ liệu có 2240 dòng và 29 cột\n"
     ]
    }
   ],
   "source": [
    "num_rows, num_cols = customer_df.shape\n",
    "print('Dữ liệu có {} dòng và {} cột'.format(num_rows, num_cols))"
   ]
  },
  {
   "cell_type": "markdown",
   "id": "b912118b",
   "metadata": {},
   "source": [
    "### Mỗi dòng có ý nghĩa gì? Có vấn đề các dòng có ý nghĩa khác nhau không?"
   ]
  },
  {
   "cell_type": "markdown",
   "id": "4a1da1f5",
   "metadata": {},
   "source": [
    "Mỗi dòng là chi tiết thông tin của một khách hàng được thu thập. Có vẻ không có dòng nào có ý nghĩa khác."
   ]
  },
  {
   "cell_type": "markdown",
   "id": "eb202fab",
   "metadata": {},
   "source": [
    "### Dữ liệu có dòng nào bị trùng không?"
   ]
  },
  {
   "cell_type": "code",
   "execution_count": 4,
   "id": "071a71e5",
   "metadata": {},
   "outputs": [
    {
     "name": "stdout",
     "output_type": "stream",
     "text": [
      "Có 0 dòng bị lặp.\n"
     ]
    }
   ],
   "source": [
    "duplicated_rows = customer_df.duplicated()\n",
    "num_duplicated_rows = len(customer_df[duplicated_rows])\n",
    "print(\"Có {} dòng bị lặp.\".format(num_duplicated_rows))"
   ]
  },
  {
   "cell_type": "markdown",
   "id": "d889b581",
   "metadata": {},
   "source": [
    "### Mỗi cột có ý nghĩa gì?"
   ]
  },
  {
   "cell_type": "markdown",
   "id": "8d021ae5",
   "metadata": {},
   "source": [
    "Dưới đây là mô tả ý nghĩa của các cột trong file `marketing_campaign.csv`:   \n",
    "\n",
    "*People*\n",
    "\n",
    "ID: Customer's unique identifier ID khách hàng (duy nhất)  \n",
    "Year_Birth: Customer's birth year (Năm sinh của khách hàng)  \n",
    "Education: Customer's education level (Trình độ học vấn của khách hàng)  \n",
    "Marital_Status: Customer's marital status (Tình trạng hôn nhân của khách hàng)  \n",
    "Income: Customer's yearly household income (Thu nhập hộ gia đình của khách hàng)  \n",
    "Kidhome: Number of children in customer's household (Số lượng trẻ con trong gia đình)  \n",
    "Teenhome: Number of teenagers in customer's household (Số lượng trẻ thành niên trong gia đình)  \n",
    "Dt_Customer: Date of customer's enrollment with the company (Ngày KH đăng ký thành viên)  \n",
    "Recency: Number of days since customer's last purchase (Số ngày kể từ lần mua hàng gần nhất)  \n",
    "Complain: 1 if the customer complained in the last 2 years, 0 otherwise (1 nếu có phàn nàn trong vòng 2 năm gần đây, 0 nếu ngược lại)  \n",
    "\n",
    "*Products*\n",
    "\n",
    "MntWines: Amount spent on wine in last 2 years (Số tiền chi cho rượu trong vòng 2 năm gần đây)  \n",
    "MntFruits: Amount spent on fruits in last 2 years (Số tiền chi cho trái cây trong vòng 2 năm gần đây)  \n",
    "MntMeatProducts: Amount spent on meat in last 2 years (Số tiền chi cho thịt trong vòng 2 năm gần đây)  \n",
    "MntFishProducts: Amount spent on fish in last 2 years (Số tiền chi cho cá trong vòng 2 năm gần đây)  \n",
    "MntSweetProducts: Amount spent on sweets in last 2 years (Số tiền chi cho đồ ngọt trong vòng 2 năm gần đây)  \n",
    "MntGoldProds: Amount spent on gold in last 2 years (Số tiền chi cho vàng trong vòng 2 năm gần đây)  \n",
    "\n",
    "*Promotion*\n",
    "\n",
    "NumDealsPurchases: Number of purchases made with a discount (Số lần mua hàng có giảm giá)  \n",
    "AcceptedCmp1: 1 if customer accepted the offer in the 1st campaign, 0 otherwise  \n",
    "AcceptedCmp2: 1 if customer accepted the offer in the 2nd campaign, 0 otherwise  \n",
    "AcceptedCmp3: 1 if customer accepted the offer in the 3rd campaign, 0 otherwise  \n",
    "AcceptedCmp4: 1 if customer accepted the offer in the 4th campaign, 0 otherwise  \n",
    "AcceptedCmp5: 1 if customer accepted the offer in the 5th campaign, 0 otherwise  \n",
    "Response: 1 if customer accepted the offer in the last campaign, 0 otherwise  \n",
    "\n",
    "*Place*\n",
    "\n",
    "NumWebPurchases: Number of purchases made through the company’s website (Số lần mua hàng qua website công ty)  \n",
    "NumCatalogPurchases: Number of purchases made using a catalogue (Số lần mua hàng bằng catalogue)  \n",
    "NumStorePurchases: Number of purchases made directly in stores (Số lần mua hàng trực tiếp ở cửa hàng)  \n",
    "NumWebVisitsMonth: Number of visits to company’s website in the last month (Số lần truy cập website công ty trong tháng trước)  "
   ]
  },
  {
   "cell_type": "markdown",
   "id": "8c855165",
   "metadata": {},
   "source": [
    "### Mỗi cột hiện đang có kiểu dữ liệu gì? Có cột nào cần thay đổi kiểu dữ liệu không?"
   ]
  },
  {
   "cell_type": "code",
   "execution_count": 5,
   "id": "ea2ffa55",
   "metadata": {
    "scrolled": true
   },
   "outputs": [
    {
     "data": {
      "text/plain": [
       "ID                       int64\n",
       "Year_Birth               int64\n",
       "Education               object\n",
       "Marital_Status          object\n",
       "Income                 float64\n",
       "Kidhome                  int64\n",
       "Teenhome                 int64\n",
       "Dt_Customer             object\n",
       "Recency                  int64\n",
       "MntWines                 int64\n",
       "MntFruits                int64\n",
       "MntMeatProducts          int64\n",
       "MntFishProducts          int64\n",
       "MntSweetProducts         int64\n",
       "MntGoldProds             int64\n",
       "NumDealsPurchases        int64\n",
       "NumWebPurchases          int64\n",
       "NumCatalogPurchases      int64\n",
       "NumStorePurchases        int64\n",
       "NumWebVisitsMonth        int64\n",
       "AcceptedCmp3             int64\n",
       "AcceptedCmp4             int64\n",
       "AcceptedCmp5             int64\n",
       "AcceptedCmp1             int64\n",
       "AcceptedCmp2             int64\n",
       "Complain                 int64\n",
       "Z_CostContact            int64\n",
       "Z_Revenue                int64\n",
       "Response                 int64\n",
       "dtype: object"
      ]
     },
     "execution_count": 5,
     "metadata": {},
     "output_type": "execute_result"
    }
   ],
   "source": [
    "col_dtypes = customer_df.dtypes\n",
    "col_dtypes"
   ]
  },
  {
   "cell_type": "markdown",
   "id": "92703646",
   "metadata": {},
   "source": [
    "Ta thấy có 3 cột có kiểu dữ liệu là `object` là: `Education`, `Marital_Status`, `Dt_Customer`. Quan sát vài bộ dữ liệu thì ta có thể đoán cột `Education` và `Marital_Status` có kiểu dữ liệu `str` và thuộc dạng categorical, cột `Dt_Customer` có dạng \"Ngày tháng năm\". Các cột còn lại có dạng numerical"
   ]
  },
  {
   "cell_type": "markdown",
   "id": "0e44a60f",
   "metadata": {},
   "source": [
    "Để khẳng định 3 cột có kiểu `object` có kiểu dữ liệu là `str` ta viết hàm `open_object_dtype` (tương tự `HW3`):"
   ]
  },
  {
   "cell_type": "code",
   "execution_count": 6,
   "id": "cf730cf1",
   "metadata": {},
   "outputs": [],
   "source": [
    "def open_object_dtype(s):\n",
    "    dtypes = set()\n",
    "    for i in s:\n",
    "        dtypes.add(type(i))\n",
    "    return dtypes"
   ]
  },
  {
   "cell_type": "code",
   "execution_count": 7,
   "id": "f7205f95",
   "metadata": {},
   "outputs": [],
   "source": [
    "#TEST\n",
    "assert open_object_dtype(customer_df['Education']) == {str}\n",
    "assert open_object_dtype(customer_df['Marital_Status']) == {str}\n",
    "assert open_object_dtype(customer_df['Dt_Customer']) == {str}"
   ]
  },
  {
   "cell_type": "markdown",
   "id": "57ae156c",
   "metadata": {},
   "source": [
    "Cột `Dt_Customer` đang biểu diễn dạng `Datetime` nên ta cần chuyển cột này từ `str` về `datetime`"
   ]
  },
  {
   "cell_type": "markdown",
   "id": "20b232a0",
   "metadata": {},
   "source": [
    "## Tiền xử lý"
   ]
  },
  {
   "cell_type": "markdown",
   "id": "4aa61ecf",
   "metadata": {},
   "source": [
    "Ta nhận thấy 2 cột `Z_CostContact` và `Z_Revenue` đều có độ lệch chuẩn = 0 và mỗi cột chỉ có duy nhất 1 giá trị nên ta có thể tiến hành bỏ đi 2 cột này"
   ]
  },
  {
   "cell_type": "code",
   "execution_count": 8,
   "id": "4c5f8a91",
   "metadata": {},
   "outputs": [
    {
     "data": {
      "text/html": [
       "<div>\n",
       "<style scoped>\n",
       "    .dataframe tbody tr th:only-of-type {\n",
       "        vertical-align: middle;\n",
       "    }\n",
       "\n",
       "    .dataframe tbody tr th {\n",
       "        vertical-align: top;\n",
       "    }\n",
       "\n",
       "    .dataframe thead th {\n",
       "        text-align: right;\n",
       "    }\n",
       "</style>\n",
       "<table border=\"1\" class=\"dataframe\">\n",
       "  <thead>\n",
       "    <tr style=\"text-align: right;\">\n",
       "      <th></th>\n",
       "      <th>ID</th>\n",
       "      <th>Year_Birth</th>\n",
       "      <th>Education</th>\n",
       "      <th>Marital_Status</th>\n",
       "      <th>Income</th>\n",
       "      <th>Kidhome</th>\n",
       "      <th>Teenhome</th>\n",
       "      <th>Dt_Customer</th>\n",
       "      <th>Recency</th>\n",
       "      <th>MntWines</th>\n",
       "      <th>...</th>\n",
       "      <th>NumCatalogPurchases</th>\n",
       "      <th>NumStorePurchases</th>\n",
       "      <th>NumWebVisitsMonth</th>\n",
       "      <th>AcceptedCmp3</th>\n",
       "      <th>AcceptedCmp4</th>\n",
       "      <th>AcceptedCmp5</th>\n",
       "      <th>AcceptedCmp1</th>\n",
       "      <th>AcceptedCmp2</th>\n",
       "      <th>Complain</th>\n",
       "      <th>Response</th>\n",
       "    </tr>\n",
       "  </thead>\n",
       "  <tbody>\n",
       "    <tr>\n",
       "      <th>0</th>\n",
       "      <td>5524</td>\n",
       "      <td>1957</td>\n",
       "      <td>Graduation</td>\n",
       "      <td>Single</td>\n",
       "      <td>58138.0</td>\n",
       "      <td>0</td>\n",
       "      <td>0</td>\n",
       "      <td>04-09-2012</td>\n",
       "      <td>58</td>\n",
       "      <td>635</td>\n",
       "      <td>...</td>\n",
       "      <td>10</td>\n",
       "      <td>4</td>\n",
       "      <td>7</td>\n",
       "      <td>0</td>\n",
       "      <td>0</td>\n",
       "      <td>0</td>\n",
       "      <td>0</td>\n",
       "      <td>0</td>\n",
       "      <td>0</td>\n",
       "      <td>1</td>\n",
       "    </tr>\n",
       "    <tr>\n",
       "      <th>1</th>\n",
       "      <td>2174</td>\n",
       "      <td>1954</td>\n",
       "      <td>Graduation</td>\n",
       "      <td>Single</td>\n",
       "      <td>46344.0</td>\n",
       "      <td>1</td>\n",
       "      <td>1</td>\n",
       "      <td>08-03-2014</td>\n",
       "      <td>38</td>\n",
       "      <td>11</td>\n",
       "      <td>...</td>\n",
       "      <td>1</td>\n",
       "      <td>2</td>\n",
       "      <td>5</td>\n",
       "      <td>0</td>\n",
       "      <td>0</td>\n",
       "      <td>0</td>\n",
       "      <td>0</td>\n",
       "      <td>0</td>\n",
       "      <td>0</td>\n",
       "      <td>0</td>\n",
       "    </tr>\n",
       "    <tr>\n",
       "      <th>2</th>\n",
       "      <td>4141</td>\n",
       "      <td>1965</td>\n",
       "      <td>Graduation</td>\n",
       "      <td>Together</td>\n",
       "      <td>71613.0</td>\n",
       "      <td>0</td>\n",
       "      <td>0</td>\n",
       "      <td>21-08-2013</td>\n",
       "      <td>26</td>\n",
       "      <td>426</td>\n",
       "      <td>...</td>\n",
       "      <td>2</td>\n",
       "      <td>10</td>\n",
       "      <td>4</td>\n",
       "      <td>0</td>\n",
       "      <td>0</td>\n",
       "      <td>0</td>\n",
       "      <td>0</td>\n",
       "      <td>0</td>\n",
       "      <td>0</td>\n",
       "      <td>0</td>\n",
       "    </tr>\n",
       "    <tr>\n",
       "      <th>3</th>\n",
       "      <td>6182</td>\n",
       "      <td>1984</td>\n",
       "      <td>Graduation</td>\n",
       "      <td>Together</td>\n",
       "      <td>26646.0</td>\n",
       "      <td>1</td>\n",
       "      <td>0</td>\n",
       "      <td>10-02-2014</td>\n",
       "      <td>26</td>\n",
       "      <td>11</td>\n",
       "      <td>...</td>\n",
       "      <td>0</td>\n",
       "      <td>4</td>\n",
       "      <td>6</td>\n",
       "      <td>0</td>\n",
       "      <td>0</td>\n",
       "      <td>0</td>\n",
       "      <td>0</td>\n",
       "      <td>0</td>\n",
       "      <td>0</td>\n",
       "      <td>0</td>\n",
       "    </tr>\n",
       "    <tr>\n",
       "      <th>4</th>\n",
       "      <td>5324</td>\n",
       "      <td>1981</td>\n",
       "      <td>PhD</td>\n",
       "      <td>Married</td>\n",
       "      <td>58293.0</td>\n",
       "      <td>1</td>\n",
       "      <td>0</td>\n",
       "      <td>19-01-2014</td>\n",
       "      <td>94</td>\n",
       "      <td>173</td>\n",
       "      <td>...</td>\n",
       "      <td>3</td>\n",
       "      <td>6</td>\n",
       "      <td>5</td>\n",
       "      <td>0</td>\n",
       "      <td>0</td>\n",
       "      <td>0</td>\n",
       "      <td>0</td>\n",
       "      <td>0</td>\n",
       "      <td>0</td>\n",
       "      <td>0</td>\n",
       "    </tr>\n",
       "    <tr>\n",
       "      <th>...</th>\n",
       "      <td>...</td>\n",
       "      <td>...</td>\n",
       "      <td>...</td>\n",
       "      <td>...</td>\n",
       "      <td>...</td>\n",
       "      <td>...</td>\n",
       "      <td>...</td>\n",
       "      <td>...</td>\n",
       "      <td>...</td>\n",
       "      <td>...</td>\n",
       "      <td>...</td>\n",
       "      <td>...</td>\n",
       "      <td>...</td>\n",
       "      <td>...</td>\n",
       "      <td>...</td>\n",
       "      <td>...</td>\n",
       "      <td>...</td>\n",
       "      <td>...</td>\n",
       "      <td>...</td>\n",
       "      <td>...</td>\n",
       "      <td>...</td>\n",
       "    </tr>\n",
       "    <tr>\n",
       "      <th>2235</th>\n",
       "      <td>10870</td>\n",
       "      <td>1967</td>\n",
       "      <td>Graduation</td>\n",
       "      <td>Married</td>\n",
       "      <td>61223.0</td>\n",
       "      <td>0</td>\n",
       "      <td>1</td>\n",
       "      <td>13-06-2013</td>\n",
       "      <td>46</td>\n",
       "      <td>709</td>\n",
       "      <td>...</td>\n",
       "      <td>3</td>\n",
       "      <td>4</td>\n",
       "      <td>5</td>\n",
       "      <td>0</td>\n",
       "      <td>0</td>\n",
       "      <td>0</td>\n",
       "      <td>0</td>\n",
       "      <td>0</td>\n",
       "      <td>0</td>\n",
       "      <td>0</td>\n",
       "    </tr>\n",
       "    <tr>\n",
       "      <th>2236</th>\n",
       "      <td>4001</td>\n",
       "      <td>1946</td>\n",
       "      <td>PhD</td>\n",
       "      <td>Together</td>\n",
       "      <td>64014.0</td>\n",
       "      <td>2</td>\n",
       "      <td>1</td>\n",
       "      <td>10-06-2014</td>\n",
       "      <td>56</td>\n",
       "      <td>406</td>\n",
       "      <td>...</td>\n",
       "      <td>2</td>\n",
       "      <td>5</td>\n",
       "      <td>7</td>\n",
       "      <td>0</td>\n",
       "      <td>0</td>\n",
       "      <td>0</td>\n",
       "      <td>1</td>\n",
       "      <td>0</td>\n",
       "      <td>0</td>\n",
       "      <td>0</td>\n",
       "    </tr>\n",
       "    <tr>\n",
       "      <th>2237</th>\n",
       "      <td>7270</td>\n",
       "      <td>1981</td>\n",
       "      <td>Graduation</td>\n",
       "      <td>Divorced</td>\n",
       "      <td>56981.0</td>\n",
       "      <td>0</td>\n",
       "      <td>0</td>\n",
       "      <td>25-01-2014</td>\n",
       "      <td>91</td>\n",
       "      <td>908</td>\n",
       "      <td>...</td>\n",
       "      <td>3</td>\n",
       "      <td>13</td>\n",
       "      <td>6</td>\n",
       "      <td>0</td>\n",
       "      <td>1</td>\n",
       "      <td>0</td>\n",
       "      <td>0</td>\n",
       "      <td>0</td>\n",
       "      <td>0</td>\n",
       "      <td>0</td>\n",
       "    </tr>\n",
       "    <tr>\n",
       "      <th>2238</th>\n",
       "      <td>8235</td>\n",
       "      <td>1956</td>\n",
       "      <td>Master</td>\n",
       "      <td>Together</td>\n",
       "      <td>69245.0</td>\n",
       "      <td>0</td>\n",
       "      <td>1</td>\n",
       "      <td>24-01-2014</td>\n",
       "      <td>8</td>\n",
       "      <td>428</td>\n",
       "      <td>...</td>\n",
       "      <td>5</td>\n",
       "      <td>10</td>\n",
       "      <td>3</td>\n",
       "      <td>0</td>\n",
       "      <td>0</td>\n",
       "      <td>0</td>\n",
       "      <td>0</td>\n",
       "      <td>0</td>\n",
       "      <td>0</td>\n",
       "      <td>0</td>\n",
       "    </tr>\n",
       "    <tr>\n",
       "      <th>2239</th>\n",
       "      <td>9405</td>\n",
       "      <td>1954</td>\n",
       "      <td>PhD</td>\n",
       "      <td>Married</td>\n",
       "      <td>52869.0</td>\n",
       "      <td>1</td>\n",
       "      <td>1</td>\n",
       "      <td>15-10-2012</td>\n",
       "      <td>40</td>\n",
       "      <td>84</td>\n",
       "      <td>...</td>\n",
       "      <td>1</td>\n",
       "      <td>4</td>\n",
       "      <td>7</td>\n",
       "      <td>0</td>\n",
       "      <td>0</td>\n",
       "      <td>0</td>\n",
       "      <td>0</td>\n",
       "      <td>0</td>\n",
       "      <td>0</td>\n",
       "      <td>1</td>\n",
       "    </tr>\n",
       "  </tbody>\n",
       "</table>\n",
       "<p>2240 rows × 27 columns</p>\n",
       "</div>"
      ],
      "text/plain": [
       "         ID  Year_Birth   Education Marital_Status   Income  Kidhome  \\\n",
       "0      5524        1957  Graduation         Single  58138.0        0   \n",
       "1      2174        1954  Graduation         Single  46344.0        1   \n",
       "2      4141        1965  Graduation       Together  71613.0        0   \n",
       "3      6182        1984  Graduation       Together  26646.0        1   \n",
       "4      5324        1981         PhD        Married  58293.0        1   \n",
       "...     ...         ...         ...            ...      ...      ...   \n",
       "2235  10870        1967  Graduation        Married  61223.0        0   \n",
       "2236   4001        1946         PhD       Together  64014.0        2   \n",
       "2237   7270        1981  Graduation       Divorced  56981.0        0   \n",
       "2238   8235        1956      Master       Together  69245.0        0   \n",
       "2239   9405        1954         PhD        Married  52869.0        1   \n",
       "\n",
       "      Teenhome Dt_Customer  Recency  MntWines  ...  NumCatalogPurchases  \\\n",
       "0            0  04-09-2012       58       635  ...                   10   \n",
       "1            1  08-03-2014       38        11  ...                    1   \n",
       "2            0  21-08-2013       26       426  ...                    2   \n",
       "3            0  10-02-2014       26        11  ...                    0   \n",
       "4            0  19-01-2014       94       173  ...                    3   \n",
       "...        ...         ...      ...       ...  ...                  ...   \n",
       "2235         1  13-06-2013       46       709  ...                    3   \n",
       "2236         1  10-06-2014       56       406  ...                    2   \n",
       "2237         0  25-01-2014       91       908  ...                    3   \n",
       "2238         1  24-01-2014        8       428  ...                    5   \n",
       "2239         1  15-10-2012       40        84  ...                    1   \n",
       "\n",
       "      NumStorePurchases  NumWebVisitsMonth  AcceptedCmp3  AcceptedCmp4  \\\n",
       "0                     4                  7             0             0   \n",
       "1                     2                  5             0             0   \n",
       "2                    10                  4             0             0   \n",
       "3                     4                  6             0             0   \n",
       "4                     6                  5             0             0   \n",
       "...                 ...                ...           ...           ...   \n",
       "2235                  4                  5             0             0   \n",
       "2236                  5                  7             0             0   \n",
       "2237                 13                  6             0             1   \n",
       "2238                 10                  3             0             0   \n",
       "2239                  4                  7             0             0   \n",
       "\n",
       "      AcceptedCmp5  AcceptedCmp1  AcceptedCmp2  Complain  Response  \n",
       "0                0             0             0         0         1  \n",
       "1                0             0             0         0         0  \n",
       "2                0             0             0         0         0  \n",
       "3                0             0             0         0         0  \n",
       "4                0             0             0         0         0  \n",
       "...            ...           ...           ...       ...       ...  \n",
       "2235             0             0             0         0         0  \n",
       "2236             0             1             0         0         0  \n",
       "2237             0             0             0         0         0  \n",
       "2238             0             0             0         0         0  \n",
       "2239             0             0             0         0         1  \n",
       "\n",
       "[2240 rows x 27 columns]"
      ]
     },
     "execution_count": 8,
     "metadata": {},
     "output_type": "execute_result"
    }
   ],
   "source": [
    "customer_df.drop('Z_CostContact',axis=1,inplace=True)\n",
    "customer_df.drop('Z_Revenue',axis=1,inplace=True)\n",
    "customer_df"
   ]
  },
  {
   "cell_type": "markdown",
   "id": "782ebe01",
   "metadata": {},
   "source": [
    "Trong bảng dữ liệu này có khá nhiều các cột gần tương tự nhau, ta có thể tạo một cột mới để gộp tổng các giá trị các cột này rồi sẽ bỏ các cột đó đi để bảng dữ liệu trở nên gọn hơn.   \n",
    "\n",
    "Đầu tiên ta sẽ nội suy cột năm sinh `Year_Birth` thành cột tuổi `Age` để dễ dàng trong việc kết luận."
   ]
  },
  {
   "cell_type": "code",
   "execution_count": 9,
   "id": "38acb60e",
   "metadata": {},
   "outputs": [],
   "source": [
    "customer_df['Age'] = 2021 - customer_df['Year_Birth']"
   ]
  },
  {
   "cell_type": "markdown",
   "id": "e4d92be5",
   "metadata": {},
   "source": [
    "### Cột `Education`:"
   ]
  },
  {
   "cell_type": "code",
   "execution_count": 10,
   "id": "5017f28c",
   "metadata": {},
   "outputs": [
    {
     "data": {
      "text/plain": [
       "Graduation    1127\n",
       "PhD            486\n",
       "Master         370\n",
       "2n Cycle       203\n",
       "Basic           54\n",
       "Name: Education, dtype: int64"
      ]
     },
     "execution_count": 10,
     "metadata": {},
     "output_type": "execute_result"
    }
   ],
   "source": [
    "customer_df['Education'].value_counts()"
   ]
  },
  {
   "cell_type": "markdown",
   "id": "47f215a4",
   "metadata": {},
   "source": [
    "Để đơn giản, ta sẽ chuẩn hóa cột `Education` về chỉ còn 2 giá trị `PostGrad` và `UnderGrad` tương ứng với đã tốt nghiệp Đại học và chưa tốt nghiệp Đại học."
   ]
  },
  {
   "cell_type": "code",
   "execution_count": 11,
   "id": "d1a69d88",
   "metadata": {},
   "outputs": [],
   "source": [
    "customer_df['Education'] = customer_df['Education'].replace(['PhD','Graduation', 'Master'], 'PostGrad')  \n",
    "customer_df['Education'] = customer_df['Education'].replace(['Basic','2n Cycle'], 'UnderGrad')"
   ]
  },
  {
   "cell_type": "markdown",
   "id": "1d778692",
   "metadata": {},
   "source": [
    "### Cột `Marital_Status`:"
   ]
  },
  {
   "cell_type": "code",
   "execution_count": 12,
   "id": "5dc4e818",
   "metadata": {
    "scrolled": true
   },
   "outputs": [
    {
     "data": {
      "text/plain": [
       "Married     864\n",
       "Together    580\n",
       "Single      480\n",
       "Divorced    232\n",
       "Widow        77\n",
       "Alone         3\n",
       "Absurd        2\n",
       "YOLO          2\n",
       "Name: Marital_Status, dtype: int64"
      ]
     },
     "execution_count": 12,
     "metadata": {},
     "output_type": "execute_result"
    }
   ],
   "source": [
    "customer_df['Marital_Status'].value_counts()"
   ]
  },
  {
   "cell_type": "markdown",
   "id": "066fcf6b",
   "metadata": {},
   "source": [
    "Ta cũng sẽ chuyển hóa cột này về chỉ còn 2 giá trị: `InRelationship` (gồm `Married` và `Together`) và `Single` (gồm `Single` (trong bảng dữ liệu cũ), `Divorced`, `Widow`, `Alone`, `Absurd`, `YOLO`)"
   ]
  },
  {
   "cell_type": "code",
   "execution_count": 13,
   "id": "fd6bda86",
   "metadata": {},
   "outputs": [],
   "source": [
    "customer_df['Marital_Status'] = customer_df['Marital_Status'].replace(['Married', 'Together'], 'InRelationship')\n",
    "customer_df['Marital_Status'] = customer_df['Marital_Status'].replace(['Divorced', 'Widow', 'Alone', 'Absurd', 'YOLO'], 'Single')"
   ]
  },
  {
   "cell_type": "code",
   "execution_count": 14,
   "id": "a5943b71",
   "metadata": {},
   "outputs": [
    {
     "data": {
      "text/plain": [
       "InRelationship    1444\n",
       "Single             796\n",
       "Name: Marital_Status, dtype: int64"
      ]
     },
     "execution_count": 14,
     "metadata": {},
     "output_type": "execute_result"
    }
   ],
   "source": [
    "customer_df['Marital_Status'].value_counts()"
   ]
  },
  {
   "cell_type": "markdown",
   "id": "f8287143",
   "metadata": {},
   "source": [
    "### Các cột khác"
   ]
  },
  {
   "cell_type": "code",
   "execution_count": 15,
   "id": "0dfe1e93",
   "metadata": {},
   "outputs": [],
   "source": [
    "# Kidhome + Teenhome = Kids\n",
    "customer_df['Kids'] = customer_df['Kidhome'] + customer_df['Teenhome']\n",
    "# MntWines + MntFruits + MntMeatProducts + MntFishProducts + MntSweetProducts + MntGoldProds = Expenses\n",
    "customer_df['Expenses'] = customer_df['MntWines'] + customer_df['MntFruits'] + customer_df['MntMeatProducts'] + customer_df['MntFishProducts'] + customer_df['MntSweetProducts'] + customer_df['MntGoldProds']\n",
    "# AcceptedCmp1 + AcceptedCmp2 + AcceptedCmp3 + AcceptedCmp4 + AcceptedCmp5 + Response = TotalAcceptedCmp\n",
    "customer_df['TotalAcceptedCmp'] = customer_df['AcceptedCmp1'] + customer_df['AcceptedCmp2'] + customer_df['AcceptedCmp3'] + customer_df['AcceptedCmp4'] + customer_df['AcceptedCmp5'] + customer_df['Response']\n",
    "# NumWebPurchases + NumCatalogPurchases + NumStorePurchases + NumDealsPurchases = NumTotalPurchases\n",
    "customer_df['NumTotalPurchases'] = customer_df['NumWebPurchases'] + customer_df['NumCatalogPurchases'] + customer_df['NumStorePurchases'] + customer_df['NumDealsPurchases']"
   ]
  },
  {
   "cell_type": "markdown",
   "id": "770c6064",
   "metadata": {},
   "source": [
    "### Xóa các cột để giảm số chiều của dữ liệu"
   ]
  },
  {
   "cell_type": "code",
   "execution_count": 16,
   "id": "2ed2aaa4",
   "metadata": {},
   "outputs": [
    {
     "data": {
      "text/html": [
       "<div>\n",
       "<style scoped>\n",
       "    .dataframe tbody tr th:only-of-type {\n",
       "        vertical-align: middle;\n",
       "    }\n",
       "\n",
       "    .dataframe tbody tr th {\n",
       "        vertical-align: top;\n",
       "    }\n",
       "\n",
       "    .dataframe thead th {\n",
       "        text-align: right;\n",
       "    }\n",
       "</style>\n",
       "<table border=\"1\" class=\"dataframe\">\n",
       "  <thead>\n",
       "    <tr style=\"text-align: right;\">\n",
       "      <th></th>\n",
       "      <th>ID</th>\n",
       "      <th>Year_Birth</th>\n",
       "      <th>Education</th>\n",
       "      <th>Marital_Status</th>\n",
       "      <th>Income</th>\n",
       "      <th>Dt_Customer</th>\n",
       "      <th>Recency</th>\n",
       "      <th>MntWines</th>\n",
       "      <th>MntFruits</th>\n",
       "      <th>MntMeatProducts</th>\n",
       "      <th>MntFishProducts</th>\n",
       "      <th>MntSweetProducts</th>\n",
       "      <th>MntGoldProds</th>\n",
       "      <th>NumWebVisitsMonth</th>\n",
       "      <th>Complain</th>\n",
       "      <th>Age</th>\n",
       "      <th>Kids</th>\n",
       "      <th>Expenses</th>\n",
       "      <th>TotalAcceptedCmp</th>\n",
       "      <th>NumTotalPurchases</th>\n",
       "    </tr>\n",
       "  </thead>\n",
       "  <tbody>\n",
       "    <tr>\n",
       "      <th>0</th>\n",
       "      <td>5524</td>\n",
       "      <td>1957</td>\n",
       "      <td>PostGrad</td>\n",
       "      <td>Single</td>\n",
       "      <td>58138.0</td>\n",
       "      <td>04-09-2012</td>\n",
       "      <td>58</td>\n",
       "      <td>635</td>\n",
       "      <td>88</td>\n",
       "      <td>546</td>\n",
       "      <td>172</td>\n",
       "      <td>88</td>\n",
       "      <td>88</td>\n",
       "      <td>7</td>\n",
       "      <td>0</td>\n",
       "      <td>64</td>\n",
       "      <td>0</td>\n",
       "      <td>1617</td>\n",
       "      <td>1</td>\n",
       "      <td>25</td>\n",
       "    </tr>\n",
       "    <tr>\n",
       "      <th>1</th>\n",
       "      <td>2174</td>\n",
       "      <td>1954</td>\n",
       "      <td>PostGrad</td>\n",
       "      <td>Single</td>\n",
       "      <td>46344.0</td>\n",
       "      <td>08-03-2014</td>\n",
       "      <td>38</td>\n",
       "      <td>11</td>\n",
       "      <td>1</td>\n",
       "      <td>6</td>\n",
       "      <td>2</td>\n",
       "      <td>1</td>\n",
       "      <td>6</td>\n",
       "      <td>5</td>\n",
       "      <td>0</td>\n",
       "      <td>67</td>\n",
       "      <td>2</td>\n",
       "      <td>27</td>\n",
       "      <td>0</td>\n",
       "      <td>6</td>\n",
       "    </tr>\n",
       "    <tr>\n",
       "      <th>2</th>\n",
       "      <td>4141</td>\n",
       "      <td>1965</td>\n",
       "      <td>PostGrad</td>\n",
       "      <td>InRelationship</td>\n",
       "      <td>71613.0</td>\n",
       "      <td>21-08-2013</td>\n",
       "      <td>26</td>\n",
       "      <td>426</td>\n",
       "      <td>49</td>\n",
       "      <td>127</td>\n",
       "      <td>111</td>\n",
       "      <td>21</td>\n",
       "      <td>42</td>\n",
       "      <td>4</td>\n",
       "      <td>0</td>\n",
       "      <td>56</td>\n",
       "      <td>0</td>\n",
       "      <td>776</td>\n",
       "      <td>0</td>\n",
       "      <td>21</td>\n",
       "    </tr>\n",
       "    <tr>\n",
       "      <th>3</th>\n",
       "      <td>6182</td>\n",
       "      <td>1984</td>\n",
       "      <td>PostGrad</td>\n",
       "      <td>InRelationship</td>\n",
       "      <td>26646.0</td>\n",
       "      <td>10-02-2014</td>\n",
       "      <td>26</td>\n",
       "      <td>11</td>\n",
       "      <td>4</td>\n",
       "      <td>20</td>\n",
       "      <td>10</td>\n",
       "      <td>3</td>\n",
       "      <td>5</td>\n",
       "      <td>6</td>\n",
       "      <td>0</td>\n",
       "      <td>37</td>\n",
       "      <td>1</td>\n",
       "      <td>53</td>\n",
       "      <td>0</td>\n",
       "      <td>8</td>\n",
       "    </tr>\n",
       "    <tr>\n",
       "      <th>4</th>\n",
       "      <td>5324</td>\n",
       "      <td>1981</td>\n",
       "      <td>PostGrad</td>\n",
       "      <td>InRelationship</td>\n",
       "      <td>58293.0</td>\n",
       "      <td>19-01-2014</td>\n",
       "      <td>94</td>\n",
       "      <td>173</td>\n",
       "      <td>43</td>\n",
       "      <td>118</td>\n",
       "      <td>46</td>\n",
       "      <td>27</td>\n",
       "      <td>15</td>\n",
       "      <td>5</td>\n",
       "      <td>0</td>\n",
       "      <td>40</td>\n",
       "      <td>1</td>\n",
       "      <td>422</td>\n",
       "      <td>0</td>\n",
       "      <td>19</td>\n",
       "    </tr>\n",
       "    <tr>\n",
       "      <th>5</th>\n",
       "      <td>7446</td>\n",
       "      <td>1967</td>\n",
       "      <td>PostGrad</td>\n",
       "      <td>InRelationship</td>\n",
       "      <td>62513.0</td>\n",
       "      <td>09-09-2013</td>\n",
       "      <td>16</td>\n",
       "      <td>520</td>\n",
       "      <td>42</td>\n",
       "      <td>98</td>\n",
       "      <td>0</td>\n",
       "      <td>42</td>\n",
       "      <td>14</td>\n",
       "      <td>6</td>\n",
       "      <td>0</td>\n",
       "      <td>54</td>\n",
       "      <td>1</td>\n",
       "      <td>716</td>\n",
       "      <td>0</td>\n",
       "      <td>22</td>\n",
       "    </tr>\n",
       "    <tr>\n",
       "      <th>6</th>\n",
       "      <td>965</td>\n",
       "      <td>1971</td>\n",
       "      <td>PostGrad</td>\n",
       "      <td>Single</td>\n",
       "      <td>55635.0</td>\n",
       "      <td>13-11-2012</td>\n",
       "      <td>34</td>\n",
       "      <td>235</td>\n",
       "      <td>65</td>\n",
       "      <td>164</td>\n",
       "      <td>50</td>\n",
       "      <td>49</td>\n",
       "      <td>27</td>\n",
       "      <td>6</td>\n",
       "      <td>0</td>\n",
       "      <td>50</td>\n",
       "      <td>1</td>\n",
       "      <td>590</td>\n",
       "      <td>0</td>\n",
       "      <td>21</td>\n",
       "    </tr>\n",
       "    <tr>\n",
       "      <th>7</th>\n",
       "      <td>6177</td>\n",
       "      <td>1985</td>\n",
       "      <td>PostGrad</td>\n",
       "      <td>InRelationship</td>\n",
       "      <td>33454.0</td>\n",
       "      <td>08-05-2013</td>\n",
       "      <td>32</td>\n",
       "      <td>76</td>\n",
       "      <td>10</td>\n",
       "      <td>56</td>\n",
       "      <td>3</td>\n",
       "      <td>1</td>\n",
       "      <td>23</td>\n",
       "      <td>8</td>\n",
       "      <td>0</td>\n",
       "      <td>36</td>\n",
       "      <td>1</td>\n",
       "      <td>169</td>\n",
       "      <td>0</td>\n",
       "      <td>10</td>\n",
       "    </tr>\n",
       "    <tr>\n",
       "      <th>8</th>\n",
       "      <td>4855</td>\n",
       "      <td>1974</td>\n",
       "      <td>PostGrad</td>\n",
       "      <td>InRelationship</td>\n",
       "      <td>30351.0</td>\n",
       "      <td>06-06-2013</td>\n",
       "      <td>19</td>\n",
       "      <td>14</td>\n",
       "      <td>0</td>\n",
       "      <td>24</td>\n",
       "      <td>3</td>\n",
       "      <td>3</td>\n",
       "      <td>2</td>\n",
       "      <td>9</td>\n",
       "      <td>0</td>\n",
       "      <td>47</td>\n",
       "      <td>1</td>\n",
       "      <td>46</td>\n",
       "      <td>1</td>\n",
       "      <td>6</td>\n",
       "    </tr>\n",
       "    <tr>\n",
       "      <th>9</th>\n",
       "      <td>5899</td>\n",
       "      <td>1950</td>\n",
       "      <td>PostGrad</td>\n",
       "      <td>InRelationship</td>\n",
       "      <td>5648.0</td>\n",
       "      <td>13-03-2014</td>\n",
       "      <td>68</td>\n",
       "      <td>28</td>\n",
       "      <td>0</td>\n",
       "      <td>6</td>\n",
       "      <td>1</td>\n",
       "      <td>1</td>\n",
       "      <td>13</td>\n",
       "      <td>20</td>\n",
       "      <td>0</td>\n",
       "      <td>71</td>\n",
       "      <td>2</td>\n",
       "      <td>49</td>\n",
       "      <td>1</td>\n",
       "      <td>2</td>\n",
       "    </tr>\n",
       "  </tbody>\n",
       "</table>\n",
       "</div>"
      ],
      "text/plain": [
       "     ID  Year_Birth Education  Marital_Status   Income Dt_Customer  Recency  \\\n",
       "0  5524        1957  PostGrad          Single  58138.0  04-09-2012       58   \n",
       "1  2174        1954  PostGrad          Single  46344.0  08-03-2014       38   \n",
       "2  4141        1965  PostGrad  InRelationship  71613.0  21-08-2013       26   \n",
       "3  6182        1984  PostGrad  InRelationship  26646.0  10-02-2014       26   \n",
       "4  5324        1981  PostGrad  InRelationship  58293.0  19-01-2014       94   \n",
       "5  7446        1967  PostGrad  InRelationship  62513.0  09-09-2013       16   \n",
       "6   965        1971  PostGrad          Single  55635.0  13-11-2012       34   \n",
       "7  6177        1985  PostGrad  InRelationship  33454.0  08-05-2013       32   \n",
       "8  4855        1974  PostGrad  InRelationship  30351.0  06-06-2013       19   \n",
       "9  5899        1950  PostGrad  InRelationship   5648.0  13-03-2014       68   \n",
       "\n",
       "   MntWines  MntFruits  MntMeatProducts  MntFishProducts  MntSweetProducts  \\\n",
       "0       635         88              546              172                88   \n",
       "1        11          1                6                2                 1   \n",
       "2       426         49              127              111                21   \n",
       "3        11          4               20               10                 3   \n",
       "4       173         43              118               46                27   \n",
       "5       520         42               98                0                42   \n",
       "6       235         65              164               50                49   \n",
       "7        76         10               56                3                 1   \n",
       "8        14          0               24                3                 3   \n",
       "9        28          0                6                1                 1   \n",
       "\n",
       "   MntGoldProds  NumWebVisitsMonth  Complain  Age  Kids  Expenses  \\\n",
       "0            88                  7         0   64     0      1617   \n",
       "1             6                  5         0   67     2        27   \n",
       "2            42                  4         0   56     0       776   \n",
       "3             5                  6         0   37     1        53   \n",
       "4            15                  5         0   40     1       422   \n",
       "5            14                  6         0   54     1       716   \n",
       "6            27                  6         0   50     1       590   \n",
       "7            23                  8         0   36     1       169   \n",
       "8             2                  9         0   47     1        46   \n",
       "9            13                 20         0   71     2        49   \n",
       "\n",
       "   TotalAcceptedCmp  NumTotalPurchases  \n",
       "0                 1                 25  \n",
       "1                 0                  6  \n",
       "2                 0                 21  \n",
       "3                 0                  8  \n",
       "4                 0                 19  \n",
       "5                 0                 22  \n",
       "6                 0                 21  \n",
       "7                 0                 10  \n",
       "8                 1                  6  \n",
       "9                 1                  2  "
      ]
     },
     "execution_count": 16,
     "metadata": {},
     "output_type": "execute_result"
    }
   ],
   "source": [
    "col_del = [\"AcceptedCmp1\" , \"AcceptedCmp2\", \"AcceptedCmp3\" , \"AcceptedCmp4\", \"AcceptedCmp5\", \"Response\", \n",
    "           \"NumWebPurchases\", \"NumCatalogPurchases\", \"NumStorePurchases\", \"NumDealsPurchases\", \n",
    "           \"Kidhome\", \"Teenhome\"]\n",
    "customer_df = customer_df.drop(columns=col_del,axis=1)\n",
    "customer_df.head(10)"
   ]
  },
  {
   "cell_type": "markdown",
   "id": "806cffed",
   "metadata": {},
   "source": [
    "Chuyển `dtype` của cột `Dt_Customer` sang kiểu dữ liệu thời gian:"
   ]
  },
  {
   "cell_type": "code",
   "execution_count": 17,
   "id": "e78f9d78",
   "metadata": {},
   "outputs": [],
   "source": [
    "customer_df['Dt_Customer'] = pd.to_datetime(customer_df['Dt_Customer'], format='%d-%m-%Y')"
   ]
  },
  {
   "cell_type": "code",
   "execution_count": 18,
   "id": "ab4952db",
   "metadata": {},
   "outputs": [],
   "source": [
    "# TEST \n",
    "# Nếu dtype của cột \"Date\" đã được chuyển sang datetime thì phải dùng được .dt.\n",
    "assert customer_df['Dt_Customer'].dt.year.min() == 2012"
   ]
  },
  {
   "cell_type": "markdown",
   "id": "4d9f1ac3",
   "metadata": {},
   "source": [
    "## Khám phá dữ liệu (tiếp tục)"
   ]
  },
  {
   "cell_type": "markdown",
   "id": "e97ac683",
   "metadata": {},
   "source": [
    "Ta thấy cột `Income` là cột duy nhất có giá trị thiếu."
   ]
  },
  {
   "cell_type": "code",
   "execution_count": 19,
   "id": "ecbe31f1",
   "metadata": {},
   "outputs": [
    {
     "name": "stdout",
     "output_type": "stream",
     "text": [
      "Có 24 dòng có giá trị thiếu\n"
     ]
    }
   ],
   "source": [
    "num_of_missing_income = customer_df['Income'].isnull().sum()\n",
    "print(f'Có {num_of_missing_income} dòng có giá trị thiếu')"
   ]
  },
  {
   "cell_type": "markdown",
   "id": "b7222cd7",
   "metadata": {},
   "source": [
    "Do tỷ lệ mẫu thiếu khá nhỏ so với tổng thể nên trong đồ án này, nhóm sẽ tiến hành bỏ các dòng thiếu thông tin cột `Income` đi."
   ]
  },
  {
   "cell_type": "code",
   "execution_count": 20,
   "id": "6d5f3ae0",
   "metadata": {},
   "outputs": [
    {
     "data": {
      "text/html": [
       "<div>\n",
       "<style scoped>\n",
       "    .dataframe tbody tr th:only-of-type {\n",
       "        vertical-align: middle;\n",
       "    }\n",
       "\n",
       "    .dataframe tbody tr th {\n",
       "        vertical-align: top;\n",
       "    }\n",
       "\n",
       "    .dataframe thead th {\n",
       "        text-align: right;\n",
       "    }\n",
       "</style>\n",
       "<table border=\"1\" class=\"dataframe\">\n",
       "  <thead>\n",
       "    <tr style=\"text-align: right;\">\n",
       "      <th></th>\n",
       "      <th>ID</th>\n",
       "      <th>Year_Birth</th>\n",
       "      <th>Education</th>\n",
       "      <th>Marital_Status</th>\n",
       "      <th>Income</th>\n",
       "      <th>Dt_Customer</th>\n",
       "      <th>Recency</th>\n",
       "      <th>MntWines</th>\n",
       "      <th>MntFruits</th>\n",
       "      <th>MntMeatProducts</th>\n",
       "      <th>MntFishProducts</th>\n",
       "      <th>MntSweetProducts</th>\n",
       "      <th>MntGoldProds</th>\n",
       "      <th>NumWebVisitsMonth</th>\n",
       "      <th>Complain</th>\n",
       "      <th>Age</th>\n",
       "      <th>Kids</th>\n",
       "      <th>Expenses</th>\n",
       "      <th>TotalAcceptedCmp</th>\n",
       "      <th>NumTotalPurchases</th>\n",
       "    </tr>\n",
       "  </thead>\n",
       "  <tbody>\n",
       "    <tr>\n",
       "      <th>0</th>\n",
       "      <td>5524</td>\n",
       "      <td>1957</td>\n",
       "      <td>PostGrad</td>\n",
       "      <td>Single</td>\n",
       "      <td>58138.0</td>\n",
       "      <td>2012-09-04</td>\n",
       "      <td>58</td>\n",
       "      <td>635</td>\n",
       "      <td>88</td>\n",
       "      <td>546</td>\n",
       "      <td>172</td>\n",
       "      <td>88</td>\n",
       "      <td>88</td>\n",
       "      <td>7</td>\n",
       "      <td>0</td>\n",
       "      <td>64</td>\n",
       "      <td>0</td>\n",
       "      <td>1617</td>\n",
       "      <td>1</td>\n",
       "      <td>25</td>\n",
       "    </tr>\n",
       "    <tr>\n",
       "      <th>1</th>\n",
       "      <td>2174</td>\n",
       "      <td>1954</td>\n",
       "      <td>PostGrad</td>\n",
       "      <td>Single</td>\n",
       "      <td>46344.0</td>\n",
       "      <td>2014-03-08</td>\n",
       "      <td>38</td>\n",
       "      <td>11</td>\n",
       "      <td>1</td>\n",
       "      <td>6</td>\n",
       "      <td>2</td>\n",
       "      <td>1</td>\n",
       "      <td>6</td>\n",
       "      <td>5</td>\n",
       "      <td>0</td>\n",
       "      <td>67</td>\n",
       "      <td>2</td>\n",
       "      <td>27</td>\n",
       "      <td>0</td>\n",
       "      <td>6</td>\n",
       "    </tr>\n",
       "    <tr>\n",
       "      <th>2</th>\n",
       "      <td>4141</td>\n",
       "      <td>1965</td>\n",
       "      <td>PostGrad</td>\n",
       "      <td>InRelationship</td>\n",
       "      <td>71613.0</td>\n",
       "      <td>2013-08-21</td>\n",
       "      <td>26</td>\n",
       "      <td>426</td>\n",
       "      <td>49</td>\n",
       "      <td>127</td>\n",
       "      <td>111</td>\n",
       "      <td>21</td>\n",
       "      <td>42</td>\n",
       "      <td>4</td>\n",
       "      <td>0</td>\n",
       "      <td>56</td>\n",
       "      <td>0</td>\n",
       "      <td>776</td>\n",
       "      <td>0</td>\n",
       "      <td>21</td>\n",
       "    </tr>\n",
       "    <tr>\n",
       "      <th>3</th>\n",
       "      <td>6182</td>\n",
       "      <td>1984</td>\n",
       "      <td>PostGrad</td>\n",
       "      <td>InRelationship</td>\n",
       "      <td>26646.0</td>\n",
       "      <td>2014-02-10</td>\n",
       "      <td>26</td>\n",
       "      <td>11</td>\n",
       "      <td>4</td>\n",
       "      <td>20</td>\n",
       "      <td>10</td>\n",
       "      <td>3</td>\n",
       "      <td>5</td>\n",
       "      <td>6</td>\n",
       "      <td>0</td>\n",
       "      <td>37</td>\n",
       "      <td>1</td>\n",
       "      <td>53</td>\n",
       "      <td>0</td>\n",
       "      <td>8</td>\n",
       "    </tr>\n",
       "    <tr>\n",
       "      <th>4</th>\n",
       "      <td>5324</td>\n",
       "      <td>1981</td>\n",
       "      <td>PostGrad</td>\n",
       "      <td>InRelationship</td>\n",
       "      <td>58293.0</td>\n",
       "      <td>2014-01-19</td>\n",
       "      <td>94</td>\n",
       "      <td>173</td>\n",
       "      <td>43</td>\n",
       "      <td>118</td>\n",
       "      <td>46</td>\n",
       "      <td>27</td>\n",
       "      <td>15</td>\n",
       "      <td>5</td>\n",
       "      <td>0</td>\n",
       "      <td>40</td>\n",
       "      <td>1</td>\n",
       "      <td>422</td>\n",
       "      <td>0</td>\n",
       "      <td>19</td>\n",
       "    </tr>\n",
       "    <tr>\n",
       "      <th>...</th>\n",
       "      <td>...</td>\n",
       "      <td>...</td>\n",
       "      <td>...</td>\n",
       "      <td>...</td>\n",
       "      <td>...</td>\n",
       "      <td>...</td>\n",
       "      <td>...</td>\n",
       "      <td>...</td>\n",
       "      <td>...</td>\n",
       "      <td>...</td>\n",
       "      <td>...</td>\n",
       "      <td>...</td>\n",
       "      <td>...</td>\n",
       "      <td>...</td>\n",
       "      <td>...</td>\n",
       "      <td>...</td>\n",
       "      <td>...</td>\n",
       "      <td>...</td>\n",
       "      <td>...</td>\n",
       "      <td>...</td>\n",
       "    </tr>\n",
       "    <tr>\n",
       "      <th>2235</th>\n",
       "      <td>10870</td>\n",
       "      <td>1967</td>\n",
       "      <td>PostGrad</td>\n",
       "      <td>InRelationship</td>\n",
       "      <td>61223.0</td>\n",
       "      <td>2013-06-13</td>\n",
       "      <td>46</td>\n",
       "      <td>709</td>\n",
       "      <td>43</td>\n",
       "      <td>182</td>\n",
       "      <td>42</td>\n",
       "      <td>118</td>\n",
       "      <td>247</td>\n",
       "      <td>5</td>\n",
       "      <td>0</td>\n",
       "      <td>54</td>\n",
       "      <td>1</td>\n",
       "      <td>1341</td>\n",
       "      <td>0</td>\n",
       "      <td>18</td>\n",
       "    </tr>\n",
       "    <tr>\n",
       "      <th>2236</th>\n",
       "      <td>4001</td>\n",
       "      <td>1946</td>\n",
       "      <td>PostGrad</td>\n",
       "      <td>InRelationship</td>\n",
       "      <td>64014.0</td>\n",
       "      <td>2014-06-10</td>\n",
       "      <td>56</td>\n",
       "      <td>406</td>\n",
       "      <td>0</td>\n",
       "      <td>30</td>\n",
       "      <td>0</td>\n",
       "      <td>0</td>\n",
       "      <td>8</td>\n",
       "      <td>7</td>\n",
       "      <td>0</td>\n",
       "      <td>75</td>\n",
       "      <td>3</td>\n",
       "      <td>444</td>\n",
       "      <td>1</td>\n",
       "      <td>22</td>\n",
       "    </tr>\n",
       "    <tr>\n",
       "      <th>2237</th>\n",
       "      <td>7270</td>\n",
       "      <td>1981</td>\n",
       "      <td>PostGrad</td>\n",
       "      <td>Single</td>\n",
       "      <td>56981.0</td>\n",
       "      <td>2014-01-25</td>\n",
       "      <td>91</td>\n",
       "      <td>908</td>\n",
       "      <td>48</td>\n",
       "      <td>217</td>\n",
       "      <td>32</td>\n",
       "      <td>12</td>\n",
       "      <td>24</td>\n",
       "      <td>6</td>\n",
       "      <td>0</td>\n",
       "      <td>40</td>\n",
       "      <td>0</td>\n",
       "      <td>1241</td>\n",
       "      <td>1</td>\n",
       "      <td>19</td>\n",
       "    </tr>\n",
       "    <tr>\n",
       "      <th>2238</th>\n",
       "      <td>8235</td>\n",
       "      <td>1956</td>\n",
       "      <td>PostGrad</td>\n",
       "      <td>InRelationship</td>\n",
       "      <td>69245.0</td>\n",
       "      <td>2014-01-24</td>\n",
       "      <td>8</td>\n",
       "      <td>428</td>\n",
       "      <td>30</td>\n",
       "      <td>214</td>\n",
       "      <td>80</td>\n",
       "      <td>30</td>\n",
       "      <td>61</td>\n",
       "      <td>3</td>\n",
       "      <td>0</td>\n",
       "      <td>65</td>\n",
       "      <td>1</td>\n",
       "      <td>843</td>\n",
       "      <td>0</td>\n",
       "      <td>23</td>\n",
       "    </tr>\n",
       "    <tr>\n",
       "      <th>2239</th>\n",
       "      <td>9405</td>\n",
       "      <td>1954</td>\n",
       "      <td>PostGrad</td>\n",
       "      <td>InRelationship</td>\n",
       "      <td>52869.0</td>\n",
       "      <td>2012-10-15</td>\n",
       "      <td>40</td>\n",
       "      <td>84</td>\n",
       "      <td>3</td>\n",
       "      <td>61</td>\n",
       "      <td>2</td>\n",
       "      <td>1</td>\n",
       "      <td>21</td>\n",
       "      <td>7</td>\n",
       "      <td>0</td>\n",
       "      <td>67</td>\n",
       "      <td>2</td>\n",
       "      <td>172</td>\n",
       "      <td>1</td>\n",
       "      <td>11</td>\n",
       "    </tr>\n",
       "  </tbody>\n",
       "</table>\n",
       "<p>2216 rows × 20 columns</p>\n",
       "</div>"
      ],
      "text/plain": [
       "         ID  Year_Birth Education  Marital_Status   Income Dt_Customer  \\\n",
       "0      5524        1957  PostGrad          Single  58138.0  2012-09-04   \n",
       "1      2174        1954  PostGrad          Single  46344.0  2014-03-08   \n",
       "2      4141        1965  PostGrad  InRelationship  71613.0  2013-08-21   \n",
       "3      6182        1984  PostGrad  InRelationship  26646.0  2014-02-10   \n",
       "4      5324        1981  PostGrad  InRelationship  58293.0  2014-01-19   \n",
       "...     ...         ...       ...             ...      ...         ...   \n",
       "2235  10870        1967  PostGrad  InRelationship  61223.0  2013-06-13   \n",
       "2236   4001        1946  PostGrad  InRelationship  64014.0  2014-06-10   \n",
       "2237   7270        1981  PostGrad          Single  56981.0  2014-01-25   \n",
       "2238   8235        1956  PostGrad  InRelationship  69245.0  2014-01-24   \n",
       "2239   9405        1954  PostGrad  InRelationship  52869.0  2012-10-15   \n",
       "\n",
       "      Recency  MntWines  MntFruits  MntMeatProducts  MntFishProducts  \\\n",
       "0          58       635         88              546              172   \n",
       "1          38        11          1                6                2   \n",
       "2          26       426         49              127              111   \n",
       "3          26        11          4               20               10   \n",
       "4          94       173         43              118               46   \n",
       "...       ...       ...        ...              ...              ...   \n",
       "2235       46       709         43              182               42   \n",
       "2236       56       406          0               30                0   \n",
       "2237       91       908         48              217               32   \n",
       "2238        8       428         30              214               80   \n",
       "2239       40        84          3               61                2   \n",
       "\n",
       "      MntSweetProducts  MntGoldProds  NumWebVisitsMonth  Complain  Age  Kids  \\\n",
       "0                   88            88                  7         0   64     0   \n",
       "1                    1             6                  5         0   67     2   \n",
       "2                   21            42                  4         0   56     0   \n",
       "3                    3             5                  6         0   37     1   \n",
       "4                   27            15                  5         0   40     1   \n",
       "...                ...           ...                ...       ...  ...   ...   \n",
       "2235               118           247                  5         0   54     1   \n",
       "2236                 0             8                  7         0   75     3   \n",
       "2237                12            24                  6         0   40     0   \n",
       "2238                30            61                  3         0   65     1   \n",
       "2239                 1            21                  7         0   67     2   \n",
       "\n",
       "      Expenses  TotalAcceptedCmp  NumTotalPurchases  \n",
       "0         1617                 1                 25  \n",
       "1           27                 0                  6  \n",
       "2          776                 0                 21  \n",
       "3           53                 0                  8  \n",
       "4          422                 0                 19  \n",
       "...        ...               ...                ...  \n",
       "2235      1341                 0                 18  \n",
       "2236       444                 1                 22  \n",
       "2237      1241                 1                 19  \n",
       "2238       843                 0                 23  \n",
       "2239       172                 1                 11  \n",
       "\n",
       "[2216 rows x 20 columns]"
      ]
     },
     "execution_count": 20,
     "metadata": {},
     "output_type": "execute_result"
    }
   ],
   "source": [
    "customer_df = customer_df.dropna(axis=0)\n",
    "customer_df"
   ]
  },
  {
   "cell_type": "markdown",
   "id": "3af211f8",
   "metadata": {},
   "source": [
    "### Xử lý ngoại lai (outlier)"
   ]
  },
  {
   "cell_type": "code",
   "execution_count": 21,
   "id": "351741d6",
   "metadata": {
    "scrolled": false
   },
   "outputs": [
    {
     "name": "stderr",
     "output_type": "stream",
     "text": [
      "/home/hhduy/miniconda3/envs/min_ds-env/lib/python3.8/site-packages/seaborn/_decorators.py:36: FutureWarning: Pass the following variable as a keyword arg: x. From version 0.12, the only valid positional argument will be `data`, and passing other arguments without an explicit keyword will result in an error or misinterpretation.\n",
      "  warnings.warn(\n"
     ]
    },
    {
     "data": {
      "image/png": "[encoded data removed]",
      "text/plain": [
       "<Figure size 432x288 with 1 Axes>"
      ]
     },
     "metadata": {
      "needs_background": "light"
     },
     "output_type": "display_data"
    },
    {
     "name": "stderr",
     "output_type": "stream",
     "text": [
      "/home/hhduy/miniconda3/envs/min_ds-env/lib/python3.8/site-packages/seaborn/_decorators.py:36: FutureWarning: Pass the following variable as a keyword arg: x. From version 0.12, the only valid positional argument will be `data`, and passing other arguments without an explicit keyword will result in an error or misinterpretation.\n",
      "  warnings.warn(\n"
     ]
    },
    {
     "data": {
      "image/png": "[encoded data removed]",
      "text/plain": [
       "<Figure size 432x288 with 1 Axes>"
      ]
     },
     "metadata": {
      "needs_background": "light"
     },
     "output_type": "display_data"
    },
    {
     "name": "stderr",
     "output_type": "stream",
     "text": [
      "/home/hhduy/miniconda3/envs/min_ds-env/lib/python3.8/site-packages/seaborn/_decorators.py:36: FutureWarning: Pass the following variable as a keyword arg: x. From version 0.12, the only valid positional argument will be `data`, and passing other arguments without an explicit keyword will result in an error or misinterpretation.\n",
      "  warnings.warn(\n"
     ]
    },
    {
     "data": {
      "image/png": "[encoded data removed]",
      "text/plain": [
       "<Figure size 432x288 with 1 Axes>"
      ]
     },
     "metadata": {
      "needs_background": "light"
     },
     "output_type": "display_data"
    },
    {
     "name": "stderr",
     "output_type": "stream",
     "text": [
      "/home/hhduy/miniconda3/envs/min_ds-env/lib/python3.8/site-packages/seaborn/_decorators.py:36: FutureWarning: Pass the following variable as a keyword arg: x. From version 0.12, the only valid positional argument will be `data`, and passing other arguments without an explicit keyword will result in an error or misinterpretation.\n",
      "  warnings.warn(\n"
     ]
    },
    {
     "data": {
      "image/png": "[encoded data removed]",
      "text/plain": [
       "<Figure size 432x288 with 1 Axes>"
      ]
     },
     "metadata": {
      "needs_background": "light"
     },
     "output_type": "display_data"
    },
    {
     "name": "stderr",
     "output_type": "stream",
     "text": [
      "/home/hhduy/miniconda3/envs/min_ds-env/lib/python3.8/site-packages/seaborn/_decorators.py:36: FutureWarning: Pass the following variable as a keyword arg: x. From version 0.12, the only valid positional argument will be `data`, and passing other arguments without an explicit keyword will result in an error or misinterpretation.\n",
      "  warnings.warn(\n"
     ]
    },
    {
     "data": {
      "image/png": "[encoded data removed]",
      "text/plain": [
       "<Figure size 432x288 with 1 Axes>"
      ]
     },
     "metadata": {
      "needs_background": "light"
     },
     "output_type": "display_data"
    },
    {
     "name": "stderr",
     "output_type": "stream",
     "text": [
      "/home/hhduy/miniconda3/envs/min_ds-env/lib/python3.8/site-packages/seaborn/_decorators.py:36: FutureWarning: Pass the following variable as a keyword arg: x. From version 0.12, the only valid positional argument will be `data`, and passing other arguments without an explicit keyword will result in an error or misinterpretation.\n",
      "  warnings.warn(\n"
     ]
    },
    {
     "data": {
      "image/png": "[encoded data removed]",
      "text/plain": [
       "<Figure size 432x288 with 1 Axes>"
      ]
     },
     "metadata": {
      "needs_background": "light"
     },
     "output_type": "display_data"
    },
    {
     "name": "stderr",
     "output_type": "stream",
     "text": [
      "/home/hhduy/miniconda3/envs/min_ds-env/lib/python3.8/site-packages/seaborn/_decorators.py:36: FutureWarning: Pass the following variable as a keyword arg: x. From version 0.12, the only valid positional argument will be `data`, and passing other arguments without an explicit keyword will result in an error or misinterpretation.\n",
      "  warnings.warn(\n"
     ]
    },
    {
     "data": {
      "image/png": "[encoded data removed]",
      "text/plain": [
       "<Figure size 432x288 with 1 Axes>"
      ]
     },
     "metadata": {
      "needs_background": "light"
     },
     "output_type": "display_data"
    },
    {
     "name": "stderr",
     "output_type": "stream",
     "text": [
      "/home/hhduy/miniconda3/envs/min_ds-env/lib/python3.8/site-packages/seaborn/_decorators.py:36: FutureWarning: Pass the following variable as a keyword arg: x. From version 0.12, the only valid positional argument will be `data`, and passing other arguments without an explicit keyword will result in an error or misinterpretation.\n",
      "  warnings.warn(\n"
     ]
    },
    {
     "data": {
      "image/png": "[encoded data removed]",
      "text/plain": [
       "<Figure size 432x288 with 1 Axes>"
      ]
     },
     "metadata": {
      "needs_background": "light"
     },
     "output_type": "display_data"
    },
    {
     "name": "stderr",
     "output_type": "stream",
     "text": [
      "/home/hhduy/miniconda3/envs/min_ds-env/lib/python3.8/site-packages/seaborn/_decorators.py:36: FutureWarning: Pass the following variable as a keyword arg: x. From version 0.12, the only valid positional argument will be `data`, and passing other arguments without an explicit keyword will result in an error or misinterpretation.\n",
      "  warnings.warn(\n"
     ]
    },
    {
     "data": {
      "image/png": "[encoded data removed]",
      "text/plain": [
       "<Figure size 432x288 with 1 Axes>"
      ]
     },
     "metadata": {
      "needs_background": "light"
     },
     "output_type": "display_data"
    },
    {
     "name": "stderr",
     "output_type": "stream",
     "text": [
      "/home/hhduy/miniconda3/envs/min_ds-env/lib/python3.8/site-packages/seaborn/_decorators.py:36: FutureWarning: Pass the following variable as a keyword arg: x. From version 0.12, the only valid positional argument will be `data`, and passing other arguments without an explicit keyword will result in an error or misinterpretation.\n",
      "  warnings.warn(\n"
     ]
    },
    {
     "data": {
      "image/png": "[encoded data removed]",
      "text/plain": [
       "<Figure size 432x288 with 1 Axes>"
      ]
     },
     "metadata": {
      "needs_background": "light"
     },
     "output_type": "display_data"
    },
    {
     "name": "stderr",
     "output_type": "stream",
     "text": [
      "/home/hhduy/miniconda3/envs/min_ds-env/lib/python3.8/site-packages/seaborn/_decorators.py:36: FutureWarning: Pass the following variable as a keyword arg: x. From version 0.12, the only valid positional argument will be `data`, and passing other arguments without an explicit keyword will result in an error or misinterpretation.\n",
      "  warnings.warn(\n"
     ]
    },
    {
     "data": {
      "image/png": "[encoded data removed]",
      "text/plain": [
       "<Figure size 432x288 with 1 Axes>"
      ]
     },
     "metadata": {
      "needs_background": "light"
     },
     "output_type": "display_data"
    },
    {
     "name": "stderr",
     "output_type": "stream",
     "text": [
      "/home/hhduy/miniconda3/envs/min_ds-env/lib/python3.8/site-packages/seaborn/_decorators.py:36: FutureWarning: Pass the following variable as a keyword arg: x. From version 0.12, the only valid positional argument will be `data`, and passing other arguments without an explicit keyword will result in an error or misinterpretation.\n",
      "  warnings.warn(\n"
     ]
    },
    {
     "data": {
      "image/png": "[encoded data removed]",
      "text/plain": [
       "<Figure size 432x288 with 1 Axes>"
      ]
     },
     "metadata": {
      "needs_background": "light"
     },
     "output_type": "display_data"
    },
    {
     "name": "stderr",
     "output_type": "stream",
     "text": [
      "/home/hhduy/miniconda3/envs/min_ds-env/lib/python3.8/site-packages/seaborn/_decorators.py:36: FutureWarning: Pass the following variable as a keyword arg: x. From version 0.12, the only valid positional argument will be `data`, and passing other arguments without an explicit keyword will result in an error or misinterpretation.\n",
      "  warnings.warn(\n"
     ]
    },
    {
     "data": {
      "image/png": "[encoded data removed]",
      "text/plain": [
       "<Figure size 432x288 with 1 Axes>"
      ]
     },
     "metadata": {
      "needs_background": "light"
     },
     "output_type": "display_data"
    },
    {
     "name": "stderr",
     "output_type": "stream",
     "text": [
      "/home/hhduy/miniconda3/envs/min_ds-env/lib/python3.8/site-packages/seaborn/_decorators.py:36: FutureWarning: Pass the following variable as a keyword arg: x. From version 0.12, the only valid positional argument will be `data`, and passing other arguments without an explicit keyword will result in an error or misinterpretation.\n",
      "  warnings.warn(\n"
     ]
    },
    {
     "data": {
      "image/png": "[encoded data removed]",
      "text/plain": [
       "<Figure size 432x288 with 1 Axes>"
      ]
     },
     "metadata": {
      "needs_background": "light"
     },
     "output_type": "display_data"
    },
    {
     "name": "stderr",
     "output_type": "stream",
     "text": [
      "/home/hhduy/miniconda3/envs/min_ds-env/lib/python3.8/site-packages/seaborn/_decorators.py:36: FutureWarning: Pass the following variable as a keyword arg: x. From version 0.12, the only valid positional argument will be `data`, and passing other arguments without an explicit keyword will result in an error or misinterpretation.\n",
      "  warnings.warn(\n"
     ]
    },
    {
     "data": {
      "image/png": "[encoded data removed]",
      "text/plain": [
       "<Figure size 432x288 with 1 Axes>"
      ]
     },
     "metadata": {
      "needs_background": "light"
     },
     "output_type": "display_data"
    },
    {
     "name": "stderr",
     "output_type": "stream",
     "text": [
      "/home/hhduy/miniconda3/envs/min_ds-env/lib/python3.8/site-packages/seaborn/_decorators.py:36: FutureWarning: Pass the following variable as a keyword arg: x. From version 0.12, the only valid positional argument will be `data`, and passing other arguments without an explicit keyword will result in an error or misinterpretation.\n",
      "  warnings.warn(\n"
     ]
    },
    {
     "data": {
      "image/png": "[encoded data removed]",
      "text/plain": [
       "<Figure size 432x288 with 1 Axes>"
      ]
     },
     "metadata": {
      "needs_background": "light"
     },
     "output_type": "display_data"
    },
    {
     "name": "stderr",
     "output_type": "stream",
     "text": [
      "/home/hhduy/miniconda3/envs/min_ds-env/lib/python3.8/site-packages/seaborn/_decorators.py:36: FutureWarning: Pass the following variable as a keyword arg: x. From version 0.12, the only valid positional argument will be `data`, and passing other arguments without an explicit keyword will result in an error or misinterpretation.\n",
      "  warnings.warn(\n"
     ]
    },
    {
     "data": {
      "image/png": "[encoded data removed]",
      "text/plain": [
       "<Figure size 432x288 with 1 Axes>"
      ]
     },
     "metadata": {
      "needs_background": "light"
     },
     "output_type": "display_data"
    }
   ],
   "source": [
    "def detect_outliers(frame):\n",
    "    for i in frame.columns:\n",
    "        if(frame[i].dtype == 'int64'):\n",
    "            sns.boxplot(frame[i])\n",
    "            plt.show()\n",
    "            \n",
    "        elif(frame[i].dtype == 'float64'):\n",
    "            sns.boxplot(frame[i])\n",
    "            plt.show()\n",
    "            \n",
    "detect_outliers(customer_df)"
   ]
  },
  {
   "cell_type": "markdown",
   "id": "2541db9b",
   "metadata": {},
   "source": [
    "Cột `Income` có giá trị lớn nhất là 666000, đây là thu nhập vượt quá ngưỡng outlier theo IQR nên ta sẽ bỏ dòng chứa có giá trị từ 600000 trở lên."
   ]
  },
  {
   "cell_type": "code",
   "execution_count": 22,
   "id": "00ac604e",
   "metadata": {},
   "outputs": [
    {
     "data": {
      "text/html": [
       "<div>\n",
       "<style scoped>\n",
       "    .dataframe tbody tr th:only-of-type {\n",
       "        vertical-align: middle;\n",
       "    }\n",
       "\n",
       "    .dataframe tbody tr th {\n",
       "        vertical-align: top;\n",
       "    }\n",
       "\n",
       "    .dataframe thead th {\n",
       "        text-align: right;\n",
       "    }\n",
       "</style>\n",
       "<table border=\"1\" class=\"dataframe\">\n",
       "  <thead>\n",
       "    <tr style=\"text-align: right;\">\n",
       "      <th></th>\n",
       "      <th>ID</th>\n",
       "      <th>Year_Birth</th>\n",
       "      <th>Education</th>\n",
       "      <th>Marital_Status</th>\n",
       "      <th>Income</th>\n",
       "      <th>Dt_Customer</th>\n",
       "      <th>Recency</th>\n",
       "      <th>MntWines</th>\n",
       "      <th>MntFruits</th>\n",
       "      <th>MntMeatProducts</th>\n",
       "      <th>MntFishProducts</th>\n",
       "      <th>MntSweetProducts</th>\n",
       "      <th>MntGoldProds</th>\n",
       "      <th>NumWebVisitsMonth</th>\n",
       "      <th>Complain</th>\n",
       "      <th>Age</th>\n",
       "      <th>Kids</th>\n",
       "      <th>Expenses</th>\n",
       "      <th>TotalAcceptedCmp</th>\n",
       "      <th>NumTotalPurchases</th>\n",
       "    </tr>\n",
       "  </thead>\n",
       "  <tbody>\n",
       "    <tr>\n",
       "      <th>0</th>\n",
       "      <td>5524</td>\n",
       "      <td>1957</td>\n",
       "      <td>PostGrad</td>\n",
       "      <td>Single</td>\n",
       "      <td>58138.0</td>\n",
       "      <td>2012-09-04</td>\n",
       "      <td>58</td>\n",
       "      <td>635</td>\n",
       "      <td>88</td>\n",
       "      <td>546</td>\n",
       "      <td>172</td>\n",
       "      <td>88</td>\n",
       "      <td>88</td>\n",
       "      <td>7</td>\n",
       "      <td>0</td>\n",
       "      <td>64</td>\n",
       "      <td>0</td>\n",
       "      <td>1617</td>\n",
       "      <td>1</td>\n",
       "      <td>25</td>\n",
       "    </tr>\n",
       "    <tr>\n",
       "      <th>1</th>\n",
       "      <td>2174</td>\n",
       "      <td>1954</td>\n",
       "      <td>PostGrad</td>\n",
       "      <td>Single</td>\n",
       "      <td>46344.0</td>\n",
       "      <td>2014-03-08</td>\n",
       "      <td>38</td>\n",
       "      <td>11</td>\n",
       "      <td>1</td>\n",
       "      <td>6</td>\n",
       "      <td>2</td>\n",
       "      <td>1</td>\n",
       "      <td>6</td>\n",
       "      <td>5</td>\n",
       "      <td>0</td>\n",
       "      <td>67</td>\n",
       "      <td>2</td>\n",
       "      <td>27</td>\n",
       "      <td>0</td>\n",
       "      <td>6</td>\n",
       "    </tr>\n",
       "    <tr>\n",
       "      <th>2</th>\n",
       "      <td>4141</td>\n",
       "      <td>1965</td>\n",
       "      <td>PostGrad</td>\n",
       "      <td>InRelationship</td>\n",
       "      <td>71613.0</td>\n",
       "      <td>2013-08-21</td>\n",
       "      <td>26</td>\n",
       "      <td>426</td>\n",
       "      <td>49</td>\n",
       "      <td>127</td>\n",
       "      <td>111</td>\n",
       "      <td>21</td>\n",
       "      <td>42</td>\n",
       "      <td>4</td>\n",
       "      <td>0</td>\n",
       "      <td>56</td>\n",
       "      <td>0</td>\n",
       "      <td>776</td>\n",
       "      <td>0</td>\n",
       "      <td>21</td>\n",
       "    </tr>\n",
       "    <tr>\n",
       "      <th>3</th>\n",
       "      <td>6182</td>\n",
       "      <td>1984</td>\n",
       "      <td>PostGrad</td>\n",
       "      <td>InRelationship</td>\n",
       "      <td>26646.0</td>\n",
       "      <td>2014-02-10</td>\n",
       "      <td>26</td>\n",
       "      <td>11</td>\n",
       "      <td>4</td>\n",
       "      <td>20</td>\n",
       "      <td>10</td>\n",
       "      <td>3</td>\n",
       "      <td>5</td>\n",
       "      <td>6</td>\n",
       "      <td>0</td>\n",
       "      <td>37</td>\n",
       "      <td>1</td>\n",
       "      <td>53</td>\n",
       "      <td>0</td>\n",
       "      <td>8</td>\n",
       "    </tr>\n",
       "    <tr>\n",
       "      <th>4</th>\n",
       "      <td>5324</td>\n",
       "      <td>1981</td>\n",
       "      <td>PostGrad</td>\n",
       "      <td>InRelationship</td>\n",
       "      <td>58293.0</td>\n",
       "      <td>2014-01-19</td>\n",
       "      <td>94</td>\n",
       "      <td>173</td>\n",
       "      <td>43</td>\n",
       "      <td>118</td>\n",
       "      <td>46</td>\n",
       "      <td>27</td>\n",
       "      <td>15</td>\n",
       "      <td>5</td>\n",
       "      <td>0</td>\n",
       "      <td>40</td>\n",
       "      <td>1</td>\n",
       "      <td>422</td>\n",
       "      <td>0</td>\n",
       "      <td>19</td>\n",
       "    </tr>\n",
       "    <tr>\n",
       "      <th>...</th>\n",
       "      <td>...</td>\n",
       "      <td>...</td>\n",
       "      <td>...</td>\n",
       "      <td>...</td>\n",
       "      <td>...</td>\n",
       "      <td>...</td>\n",
       "      <td>...</td>\n",
       "      <td>...</td>\n",
       "      <td>...</td>\n",
       "      <td>...</td>\n",
       "      <td>...</td>\n",
       "      <td>...</td>\n",
       "      <td>...</td>\n",
       "      <td>...</td>\n",
       "      <td>...</td>\n",
       "      <td>...</td>\n",
       "      <td>...</td>\n",
       "      <td>...</td>\n",
       "      <td>...</td>\n",
       "      <td>...</td>\n",
       "    </tr>\n",
       "    <tr>\n",
       "      <th>2235</th>\n",
       "      <td>10870</td>\n",
       "      <td>1967</td>\n",
       "      <td>PostGrad</td>\n",
       "      <td>InRelationship</td>\n",
       "      <td>61223.0</td>\n",
       "      <td>2013-06-13</td>\n",
       "      <td>46</td>\n",
       "      <td>709</td>\n",
       "      <td>43</td>\n",
       "      <td>182</td>\n",
       "      <td>42</td>\n",
       "      <td>118</td>\n",
       "      <td>247</td>\n",
       "      <td>5</td>\n",
       "      <td>0</td>\n",
       "      <td>54</td>\n",
       "      <td>1</td>\n",
       "      <td>1341</td>\n",
       "      <td>0</td>\n",
       "      <td>18</td>\n",
       "    </tr>\n",
       "    <tr>\n",
       "      <th>2236</th>\n",
       "      <td>4001</td>\n",
       "      <td>1946</td>\n",
       "      <td>PostGrad</td>\n",
       "      <td>InRelationship</td>\n",
       "      <td>64014.0</td>\n",
       "      <td>2014-06-10</td>\n",
       "      <td>56</td>\n",
       "      <td>406</td>\n",
       "      <td>0</td>\n",
       "      <td>30</td>\n",
       "      <td>0</td>\n",
       "      <td>0</td>\n",
       "      <td>8</td>\n",
       "      <td>7</td>\n",
       "      <td>0</td>\n",
       "      <td>75</td>\n",
       "      <td>3</td>\n",
       "      <td>444</td>\n",
       "      <td>1</td>\n",
       "      <td>22</td>\n",
       "    </tr>\n",
       "    <tr>\n",
       "      <th>2237</th>\n",
       "      <td>7270</td>\n",
       "      <td>1981</td>\n",
       "      <td>PostGrad</td>\n",
       "      <td>Single</td>\n",
       "      <td>56981.0</td>\n",
       "      <td>2014-01-25</td>\n",
       "      <td>91</td>\n",
       "      <td>908</td>\n",
       "      <td>48</td>\n",
       "      <td>217</td>\n",
       "      <td>32</td>\n",
       "      <td>12</td>\n",
       "      <td>24</td>\n",
       "      <td>6</td>\n",
       "      <td>0</td>\n",
       "      <td>40</td>\n",
       "      <td>0</td>\n",
       "      <td>1241</td>\n",
       "      <td>1</td>\n",
       "      <td>19</td>\n",
       "    </tr>\n",
       "    <tr>\n",
       "      <th>2238</th>\n",
       "      <td>8235</td>\n",
       "      <td>1956</td>\n",
       "      <td>PostGrad</td>\n",
       "      <td>InRelationship</td>\n",
       "      <td>69245.0</td>\n",
       "      <td>2014-01-24</td>\n",
       "      <td>8</td>\n",
       "      <td>428</td>\n",
       "      <td>30</td>\n",
       "      <td>214</td>\n",
       "      <td>80</td>\n",
       "      <td>30</td>\n",
       "      <td>61</td>\n",
       "      <td>3</td>\n",
       "      <td>0</td>\n",
       "      <td>65</td>\n",
       "      <td>1</td>\n",
       "      <td>843</td>\n",
       "      <td>0</td>\n",
       "      <td>23</td>\n",
       "    </tr>\n",
       "    <tr>\n",
       "      <th>2239</th>\n",
       "      <td>9405</td>\n",
       "      <td>1954</td>\n",
       "      <td>PostGrad</td>\n",
       "      <td>InRelationship</td>\n",
       "      <td>52869.0</td>\n",
       "      <td>2012-10-15</td>\n",
       "      <td>40</td>\n",
       "      <td>84</td>\n",
       "      <td>3</td>\n",
       "      <td>61</td>\n",
       "      <td>2</td>\n",
       "      <td>1</td>\n",
       "      <td>21</td>\n",
       "      <td>7</td>\n",
       "      <td>0</td>\n",
       "      <td>67</td>\n",
       "      <td>2</td>\n",
       "      <td>172</td>\n",
       "      <td>1</td>\n",
       "      <td>11</td>\n",
       "    </tr>\n",
       "  </tbody>\n",
       "</table>\n",
       "<p>2215 rows × 20 columns</p>\n",
       "</div>"
      ],
      "text/plain": [
       "         ID  Year_Birth Education  Marital_Status   Income Dt_Customer  \\\n",
       "0      5524        1957  PostGrad          Single  58138.0  2012-09-04   \n",
       "1      2174        1954  PostGrad          Single  46344.0  2014-03-08   \n",
       "2      4141        1965  PostGrad  InRelationship  71613.0  2013-08-21   \n",
       "3      6182        1984  PostGrad  InRelationship  26646.0  2014-02-10   \n",
       "4      5324        1981  PostGrad  InRelationship  58293.0  2014-01-19   \n",
       "...     ...         ...       ...             ...      ...         ...   \n",
       "2235  10870        1967  PostGrad  InRelationship  61223.0  2013-06-13   \n",
       "2236   4001        1946  PostGrad  InRelationship  64014.0  2014-06-10   \n",
       "2237   7270        1981  PostGrad          Single  56981.0  2014-01-25   \n",
       "2238   8235        1956  PostGrad  InRelationship  69245.0  2014-01-24   \n",
       "2239   9405        1954  PostGrad  InRelationship  52869.0  2012-10-15   \n",
       "\n",
       "      Recency  MntWines  MntFruits  MntMeatProducts  MntFishProducts  \\\n",
       "0          58       635         88              546              172   \n",
       "1          38        11          1                6                2   \n",
       "2          26       426         49              127              111   \n",
       "3          26        11          4               20               10   \n",
       "4          94       173         43              118               46   \n",
       "...       ...       ...        ...              ...              ...   \n",
       "2235       46       709         43              182               42   \n",
       "2236       56       406          0               30                0   \n",
       "2237       91       908         48              217               32   \n",
       "2238        8       428         30              214               80   \n",
       "2239       40        84          3               61                2   \n",
       "\n",
       "      MntSweetProducts  MntGoldProds  NumWebVisitsMonth  Complain  Age  Kids  \\\n",
       "0                   88            88                  7         0   64     0   \n",
       "1                    1             6                  5         0   67     2   \n",
       "2                   21            42                  4         0   56     0   \n",
       "3                    3             5                  6         0   37     1   \n",
       "4                   27            15                  5         0   40     1   \n",
       "...                ...           ...                ...       ...  ...   ...   \n",
       "2235               118           247                  5         0   54     1   \n",
       "2236                 0             8                  7         0   75     3   \n",
       "2237                12            24                  6         0   40     0   \n",
       "2238                30            61                  3         0   65     1   \n",
       "2239                 1            21                  7         0   67     2   \n",
       "\n",
       "      Expenses  TotalAcceptedCmp  NumTotalPurchases  \n",
       "0         1617                 1                 25  \n",
       "1           27                 0                  6  \n",
       "2          776                 0                 21  \n",
       "3           53                 0                  8  \n",
       "4          422                 0                 19  \n",
       "...        ...               ...                ...  \n",
       "2235      1341                 0                 18  \n",
       "2236       444                 1                 22  \n",
       "2237      1241                 1                 19  \n",
       "2238       843                 0                 23  \n",
       "2239       172                 1                 11  \n",
       "\n",
       "[2215 rows x 20 columns]"
      ]
     },
     "execution_count": 22,
     "metadata": {},
     "output_type": "execute_result"
    }
   ],
   "source": [
    "customer_df = customer_df[customer_df['Income'] < 600000.0]\n",
    "customer_df"
   ]
  },
  {
   "cell_type": "markdown",
   "id": "fc399225",
   "metadata": {},
   "source": [
    "Ta tìm tỷ lệ phân bố các cột numeric: dựa vào giá trị các cột có kiểu dữ liệu `int64` hoặc `float64` ta có thể nhận ra các cột thực chất là numeric gồm: `Age`, `Income`, `Kids`, `Dt_Customer`, `Recency`, `Expenses`, `NumTotalPurchases`, `MntWines`, `MntFruits`, `MntMeatProducts`, `MntFishProducts`, `MntSweetProducts`, `MntGoldProds`, `NumWebVisitsMonth` với 3 dòng `Missing Ratio`, `Min`, `Max`"
   ]
  },
  {
   "cell_type": "code",
   "execution_count": 23,
   "id": "70607f97",
   "metadata": {
    "scrolled": false
   },
   "outputs": [
    {
     "data": {
      "text/html": [
       "<div>\n",
       "<style scoped>\n",
       "    .dataframe tbody tr th:only-of-type {\n",
       "        vertical-align: middle;\n",
       "    }\n",
       "\n",
       "    .dataframe tbody tr th {\n",
       "        vertical-align: top;\n",
       "    }\n",
       "\n",
       "    .dataframe thead th {\n",
       "        text-align: right;\n",
       "    }\n",
       "</style>\n",
       "<table border=\"1\" class=\"dataframe\">\n",
       "  <thead>\n",
       "    <tr style=\"text-align: right;\">\n",
       "      <th></th>\n",
       "      <th>Age</th>\n",
       "      <th>Income</th>\n",
       "      <th>Kids</th>\n",
       "      <th>Dt_Customer</th>\n",
       "      <th>Recency</th>\n",
       "      <th>Expenses</th>\n",
       "      <th>NumWebVisitsMonth</th>\n",
       "      <th>MntWines</th>\n",
       "      <th>MntFruits</th>\n",
       "      <th>MntMeatProducts</th>\n",
       "      <th>MntFishProducts</th>\n",
       "      <th>MntSweetProducts</th>\n",
       "      <th>MntGoldProds</th>\n",
       "      <th>NumTotalPurchases</th>\n",
       "    </tr>\n",
       "  </thead>\n",
       "  <tbody>\n",
       "    <tr>\n",
       "      <th>Missing Ratio</th>\n",
       "      <td>0.000000</td>\n",
       "      <td>0.0000</td>\n",
       "      <td>0.000000</td>\n",
       "      <td>0.0</td>\n",
       "      <td>0.000000</td>\n",
       "      <td>0.000000</td>\n",
       "      <td>0.000000</td>\n",
       "      <td>0.000000</td>\n",
       "      <td>0.000000</td>\n",
       "      <td>0.000000</td>\n",
       "      <td>0.000000</td>\n",
       "      <td>0.000000</td>\n",
       "      <td>0.000000</td>\n",
       "      <td>0.000000</td>\n",
       "    </tr>\n",
       "    <tr>\n",
       "      <th>Min</th>\n",
       "      <td>25.000000</td>\n",
       "      <td>1730.0000</td>\n",
       "      <td>0.000000</td>\n",
       "      <td>2012-07-30 00:00:00</td>\n",
       "      <td>0.000000</td>\n",
       "      <td>5.000000</td>\n",
       "      <td>0.000000</td>\n",
       "      <td>0.000000</td>\n",
       "      <td>0.000000</td>\n",
       "      <td>0.000000</td>\n",
       "      <td>0.000000</td>\n",
       "      <td>0.000000</td>\n",
       "      <td>0.000000</td>\n",
       "      <td>0.000000</td>\n",
       "    </tr>\n",
       "    <tr>\n",
       "      <th>Mean</th>\n",
       "      <td>52.183296</td>\n",
       "      <td>51969.8614</td>\n",
       "      <td>0.947178</td>\n",
       "      <td>0</td>\n",
       "      <td>49.024379</td>\n",
       "      <td>607.321445</td>\n",
       "      <td>5.318736</td>\n",
       "      <td>305.225282</td>\n",
       "      <td>26.361625</td>\n",
       "      <td>167.063205</td>\n",
       "      <td>37.651016</td>\n",
       "      <td>27.040632</td>\n",
       "      <td>43.979684</td>\n",
       "      <td>14.882619</td>\n",
       "    </tr>\n",
       "    <tr>\n",
       "      <th>Max</th>\n",
       "      <td>128.000000</td>\n",
       "      <td>162397.0000</td>\n",
       "      <td>3.000000</td>\n",
       "      <td>2014-06-29 00:00:00</td>\n",
       "      <td>99.000000</td>\n",
       "      <td>2525.000000</td>\n",
       "      <td>20.000000</td>\n",
       "      <td>1493.000000</td>\n",
       "      <td>199.000000</td>\n",
       "      <td>1725.000000</td>\n",
       "      <td>259.000000</td>\n",
       "      <td>262.000000</td>\n",
       "      <td>321.000000</td>\n",
       "      <td>44.000000</td>\n",
       "    </tr>\n",
       "  </tbody>\n",
       "</table>\n",
       "</div>"
      ],
      "text/plain": [
       "                      Age       Income      Kids          Dt_Customer  \\\n",
       "Missing Ratio    0.000000       0.0000  0.000000                  0.0   \n",
       "Min             25.000000    1730.0000  0.000000  2012-07-30 00:00:00   \n",
       "Mean            52.183296   51969.8614  0.947178                    0   \n",
       "Max            128.000000  162397.0000  3.000000  2014-06-29 00:00:00   \n",
       "\n",
       "                 Recency     Expenses  NumWebVisitsMonth     MntWines  \\\n",
       "Missing Ratio   0.000000     0.000000           0.000000     0.000000   \n",
       "Min             0.000000     5.000000           0.000000     0.000000   \n",
       "Mean           49.024379   607.321445           5.318736   305.225282   \n",
       "Max            99.000000  2525.000000          20.000000  1493.000000   \n",
       "\n",
       "                MntFruits  MntMeatProducts  MntFishProducts  MntSweetProducts  \\\n",
       "Missing Ratio    0.000000         0.000000         0.000000          0.000000   \n",
       "Min              0.000000         0.000000         0.000000          0.000000   \n",
       "Mean            26.361625       167.063205        37.651016         27.040632   \n",
       "Max            199.000000      1725.000000       259.000000        262.000000   \n",
       "\n",
       "               MntGoldProds  NumTotalPurchases  \n",
       "Missing Ratio      0.000000           0.000000  \n",
       "Min                0.000000           0.000000  \n",
       "Mean              43.979684          14.882619  \n",
       "Max              321.000000          44.000000  "
      ]
     },
     "execution_count": 23,
     "metadata": {},
     "output_type": "execute_result"
    }
   ],
   "source": [
    "# init numpy matrix\n",
    "nume_col_profiles_df = pd.DataFrame(np.ones((0,0)))\n",
    "# calculate 'Dt_Customer' and 'Year_Birth' first\n",
    "# nume_col_profiles_df['Dt_Customer'] =[(customer_df['Dt_Customer'].isnull().sum() * 100 / len(customer_df)).round(3), customer_df['Dt_Customer'].min(), customer_df['Dt_Customer'].max()]\n",
    "# nume_col_profiles_df['Year_Birth'] =[(customer_df['Year_Birth'].isnull().sum() * 100 / len(customer_df)).round(3), customer_df['Year_Birth'].min(), customer_df['Year_Birth'].max()]\n",
    "\n",
    "nume_col = ['Age', 'Income', 'Kids', 'Dt_Customer', 'Recency', 'Expenses', 'NumWebVisitsMonth', \n",
    "            'MntWines', 'MntFruits', 'MntMeatProducts', 'MntFishProducts', 'MntSweetProducts', \n",
    "            'MntGoldProds', 'NumTotalPurchases']\n",
    "for col in nume_col:\n",
    "    nume_col_profiles_df[col]= [(customer_df[col].isnull().sum() * 100 / len(customer_df)).round(3), \n",
    "                                customer_df[col].min(), \n",
    "                                customer_df[col].mean() if col != 'Dt_Customer' else 0,\n",
    "                                customer_df[col].max()]\n",
    "nume_col_profiles_df.rename(index={0: \"Missing Ratio\", 1: \"Min\", 2: \"Mean\", 3: \"Max\"}, inplace = True)\n",
    "nume_col_profiles_df"
   ]
  },
  {
   "cell_type": "markdown",
   "id": "c704a27d",
   "metadata": {},
   "source": [
    "Ta tìm tỷ lệ phân bố các cột categorical: `ID`, `Education`, `Marital_Status`, `TotalAcceptedCmp`, `Complain` với 3 dòng `Missing Ratio`, `num_diff_vals`, `diff_vals`"
   ]
  },
  {
   "cell_type": "code",
   "execution_count": 24,
   "id": "6ce09fe3",
   "metadata": {
    "scrolled": false
   },
   "outputs": [
    {
     "data": {
      "text/html": [
       "<div>\n",
       "<style scoped>\n",
       "    .dataframe tbody tr th:only-of-type {\n",
       "        vertical-align: middle;\n",
       "    }\n",
       "\n",
       "    .dataframe tbody tr th {\n",
       "        vertical-align: top;\n",
       "    }\n",
       "\n",
       "    .dataframe thead th {\n",
       "        text-align: right;\n",
       "    }\n",
       "</style>\n",
       "<table border=\"1\" class=\"dataframe\">\n",
       "  <thead>\n",
       "    <tr style=\"text-align: right;\">\n",
       "      <th></th>\n",
       "      <th>ID</th>\n",
       "      <th>Education</th>\n",
       "      <th>Marital_Status</th>\n",
       "      <th>TotalAcceptedCmp</th>\n",
       "      <th>Complain</th>\n",
       "    </tr>\n",
       "  </thead>\n",
       "  <tbody>\n",
       "    <tr>\n",
       "      <th>Missing Ratio</th>\n",
       "      <td>0.0</td>\n",
       "      <td>0.0</td>\n",
       "      <td>0.0</td>\n",
       "      <td>0.0</td>\n",
       "      <td>0.0</td>\n",
       "    </tr>\n",
       "    <tr>\n",
       "      <th>num_diff_vals</th>\n",
       "      <td>2215</td>\n",
       "      <td>2</td>\n",
       "      <td>2</td>\n",
       "      <td>6</td>\n",
       "      <td>2</td>\n",
       "    </tr>\n",
       "    <tr>\n",
       "      <th>diff_vals</th>\n",
       "      <td>[0, 663, 4743, 10888, 2698, 1064, 6798, 3479, ...</td>\n",
       "      <td>[PostGrad, UnderGrad]</td>\n",
       "      <td>[InRelationship, Single]</td>\n",
       "      <td>[0, 1, 2, 3, 4, 5]</td>\n",
       "      <td>[0, 1]</td>\n",
       "    </tr>\n",
       "  </tbody>\n",
       "</table>\n",
       "</div>"
      ],
      "text/plain": [
       "                                                              ID  \\\n",
       "Missing Ratio                                                0.0   \n",
       "num_diff_vals                                               2215   \n",
       "diff_vals      [0, 663, 4743, 10888, 2698, 1064, 6798, 3479, ...   \n",
       "\n",
       "                           Education            Marital_Status  \\\n",
       "Missing Ratio                    0.0                       0.0   \n",
       "num_diff_vals                      2                         2   \n",
       "diff_vals      [PostGrad, UnderGrad]  [InRelationship, Single]   \n",
       "\n",
       "                 TotalAcceptedCmp Complain  \n",
       "Missing Ratio                 0.0      0.0  \n",
       "num_diff_vals                   6        2  \n",
       "diff_vals      [0, 1, 2, 3, 4, 5]   [0, 1]  "
      ]
     },
     "execution_count": 24,
     "metadata": {},
     "output_type": "execute_result"
    }
   ],
   "source": [
    "cate_col_profiles_df = pd.DataFrame(np.ones((0,0)))\n",
    "cate_col = ['ID', 'Education', 'Marital_Status', 'TotalAcceptedCmp', 'Complain']\n",
    "for col in cate_col:\n",
    "    cate_col_profiles_df[col]= [(customer_df[col].isnull().sum() * 100 / len(customer_df)).round(3), \n",
    "                                customer_df[col].value_counts().shape[0], \n",
    "                                list(customer_df[col].value_counts().index)]\n",
    "cate_col_profiles_df.rename(index={0: \"Missing Ratio\", 1: \"num_diff_vals\", 2: \"diff_vals\"}, inplace = True)\n",
    "cate_col_profiles_df"
   ]
  },
  {
   "cell_type": "markdown",
   "id": "9aaa46f4",
   "metadata": {},
   "source": [
    "### EDA"
   ]
  },
  {
   "cell_type": "code",
   "execution_count": 25,
   "id": "33b1357a",
   "metadata": {},
   "outputs": [
    {
     "data": {
      "text/plain": [
       "Kids\n",
       "0    488.072670\n",
       "1    268.749104\n",
       "2    142.146635\n",
       "3    161.340000\n",
       "Name: MntWines, dtype: float64"
      ]
     },
     "execution_count": 25,
     "metadata": {},
     "output_type": "execute_result"
    }
   ],
   "source": [
    "#Average Spending on Wines\n",
    "wine_spent = customer_df.groupby(\"Kids\").mean()['MntWines']\n",
    "wine_spent"
   ]
  },
  {
   "cell_type": "code",
   "execution_count": 26,
   "id": "0d2245a9",
   "metadata": {},
   "outputs": [
    {
     "data": {
      "text/plain": [
       "Kids\n",
       "0    52.274882\n",
       "1    19.474014\n",
       "2     7.858173\n",
       "3     5.980000\n",
       "Name: MntFruits, dtype: float64"
      ]
     },
     "execution_count": 26,
     "metadata": {},
     "output_type": "execute_result"
    }
   ],
   "source": [
    "#Average Spending on Fruits\n",
    "fruit_spent = customer_df.groupby(\"Kids\").mean()['MntFruits']\n",
    "fruit_spent"
   ]
  },
  {
   "cell_type": "code",
   "execution_count": 27,
   "id": "85112069",
   "metadata": {},
   "outputs": [
    {
     "data": {
      "text/plain": [
       "Kids\n",
       "0    370.865719\n",
       "1     99.284946\n",
       "2     51.692308\n",
       "3     59.620000\n",
       "Name: MntMeatProducts, dtype: float64"
      ]
     },
     "execution_count": 27,
     "metadata": {},
     "output_type": "execute_result"
    }
   ],
   "source": [
    "#Average Spending on Meat Products\n",
    "meat_spent = customer_df.groupby(\"Kids\").mean()['MntMeatProducts']\n",
    "meat_spent"
   ]
  },
  {
   "cell_type": "code",
   "execution_count": 28,
   "id": "340c9c7d",
   "metadata": {},
   "outputs": [
    {
     "data": {
      "text/plain": [
       "Kids\n",
       "0    76.619273\n",
       "1    26.823477\n",
       "2    11.283654\n",
       "3     5.360000\n",
       "Name: MntFishProducts, dtype: float64"
      ]
     },
     "execution_count": 28,
     "metadata": {},
     "output_type": "execute_result"
    }
   ],
   "source": [
    "#Average Spending on Fish Products\n",
    "fish_spent = customer_df.groupby(\"Kids\").mean()['MntFishProducts']\n",
    "fish_spent"
   ]
  },
  {
   "cell_type": "code",
   "execution_count": 29,
   "id": "73427c4c",
   "metadata": {},
   "outputs": [
    {
     "data": {
      "text/plain": [
       "Kids\n",
       "0    53.180095\n",
       "1    20.181004\n",
       "2     8.307692\n",
       "3     5.080000\n",
       "Name: MntSweetProducts, dtype: float64"
      ]
     },
     "execution_count": 29,
     "metadata": {},
     "output_type": "execute_result"
    }
   ],
   "source": [
    "#Average Spending on Sweet Products\n",
    "sweet_spent = customer_df.groupby(\"Kids\").mean()['MntSweetProducts']\n",
    "sweet_spent"
   ]
  },
  {
   "cell_type": "code",
   "execution_count": 30,
   "id": "6fdf41be",
   "metadata": {},
   "outputs": [
    {
     "data": {
      "text/plain": [
       "Kids\n",
       "0    64.235387\n",
       "1    40.557348\n",
       "2    25.447115\n",
       "3    18.120000\n",
       "Name: MntGoldProds, dtype: float64"
      ]
     },
     "execution_count": 30,
     "metadata": {},
     "output_type": "execute_result"
    }
   ],
   "source": [
    "#Average Spending on Gold Products\n",
    "gold_spent = customer_df.groupby(\"Kids\").mean()['MntGoldProds']\n",
    "gold_spent"
   ]
  },
  {
   "cell_type": "markdown",
   "id": "76cc64f9",
   "metadata": {},
   "source": [
    "### Nhận xét sau khi khám phá:\n",
    "Những người/gia đình chưa có con sẽ chi nhiều hơn cho các mặt hàng, khi có con thì việc chi tiêu sẽ giảm đi."
   ]
  },
  {
   "cell_type": "markdown",
   "id": "8e9077db",
   "metadata": {},
   "source": [
    "## Đưa ra các câu hỏi có ý nghĩa để trả lời"
   ]
  },
  {
   "cell_type": "markdown",
   "id": "cc258826",
   "metadata": {},
   "source": [
    "Dựa vào data đã được xử lý, ta có thể rút trích 1 số câu hỏi sau:   \n",
    "- Giả sử nhóm người dùng được phân loại như sau: thanh niên (<= 35 tuổi), trung niên (36-60 tuổi), người cao tuổi (>60 tuổi) thì tập khách hàng nào có sức mua lớn nhất? Với mỗi nhóm khách hàng như vậy thì sản phẩm nào có sức mua cao hơn cả?"
   ]
  },
  {
   "cell_type": "code",
   "execution_count": 31,
   "id": "ef8b53dc",
   "metadata": {},
   "outputs": [
    {
     "data": {
      "text/plain": [
       "187"
      ]
     },
     "execution_count": 31,
     "metadata": {},
     "output_type": "execute_result"
    }
   ],
   "source": [
    "youth = len(customer_df[customer_df['Age'] <= 35])\n",
    "youth"
   ]
  },
  {
   "cell_type": "code",
   "execution_count": 32,
   "id": "6b119938",
   "metadata": {},
   "outputs": [
    {
     "data": {
      "text/plain": [
       "1417"
      ]
     },
     "execution_count": 32,
     "metadata": {},
     "output_type": "execute_result"
    }
   ],
   "source": [
    "middle = len(customer_df[(customer_df['Age'] >= 36) & (customer_df['Age'] <= 60)])\n",
    "middle"
   ]
  },
  {
   "cell_type": "code",
   "execution_count": 33,
   "id": "b42d7778",
   "metadata": {},
   "outputs": [
    {
     "data": {
      "text/plain": [
       "611"
      ]
     },
     "execution_count": 33,
     "metadata": {},
     "output_type": "execute_result"
    }
   ],
   "source": [
    "old = len(customer_df[customer_df['Age'] > 60])\n",
    "old"
   ]
  },
  {
   "cell_type": "code",
   "execution_count": 34,
   "id": "8f18b1b0",
   "metadata": {
    "scrolled": true
   },
   "outputs": [
    {
     "data": {
      "image/png": "[encoded data removed]",
      "text/plain": [
       "<Figure size 432x288 with 1 Axes>"
      ]
     },
     "metadata": {},
     "output_type": "display_data"
    }
   ],
   "source": [
    "y = np.array([youth, middle, old])\n",
    "mylabels = [\"Youth\", \"Middle\", \"Older\"]\n",
    "\n",
    "plt.pie(y, labels = mylabels)\n",
    "plt.show() "
   ]
  },
  {
   "cell_type": "code",
   "execution_count": 35,
   "id": "37e29ea2",
   "metadata": {},
   "outputs": [],
   "source": [
    "prods = ['MntWines', 'MntFruits', 'MntMeatProducts', 'MntFishProducts', 'MntSweetProducts', 'MntGoldProds']\n",
    "def barplot(df):\n",
    "    diff_product = {}\n",
    "    for prod in prods:\n",
    "        diff_product[prod] = df[prod].sum()\n",
    "    diff_prod = list(diff_product.keys())\n",
    "    counts = list(diff_product.values())\n",
    "    s = sum(counts)\n",
    "    for i in range(len(counts)):\n",
    "        counts[i] = (counts[i] / s).round(3)\n",
    "    plt.barh(diff_prod, counts)\n",
    "    plt.xlabel('Tương quan trong nhóm:')\n",
    "    plt.xlim(0, 1)\n",
    "    for index, value in enumerate(counts):\n",
    "        plt.text(value, index, str(value))\n",
    "youth_customer_df = customer_df[customer_df['Age'] <= 35]\n",
    "middle_customer_df = customer_df[(customer_df['Age'] >= 36) & (customer_df['Age'] <= 60)]\n",
    "old_customer_df = customer_df[customer_df['Age'] > 60]"
   ]
  },
  {
   "cell_type": "code",
   "execution_count": 36,
   "id": "5ae092ae",
   "metadata": {},
   "outputs": [
    {
     "data": {
      "image/png": "[encoded data removed]",
      "text/plain": [
       "<Figure size 432x288 with 1 Axes>"
      ]
     },
     "metadata": {
      "needs_background": "light"
     },
     "output_type": "display_data"
    }
   ],
   "source": [
    "barplot(youth_customer_df)"
   ]
  },
  {
   "cell_type": "code",
   "execution_count": 37,
   "id": "8ca4a2d1",
   "metadata": {},
   "outputs": [
    {
     "data": {
      "image/png": "[encoded data removed]",
      "text/plain": [
       "<Figure size 432x288 with 1 Axes>"
      ]
     },
     "metadata": {
      "needs_background": "light"
     },
     "output_type": "display_data"
    }
   ],
   "source": [
    "barplot(middle_customer_df)"
   ]
  },
  {
   "cell_type": "code",
   "execution_count": 38,
   "id": "366a2fc8",
   "metadata": {},
   "outputs": [
    {
     "data": {
      "image/png": "[encoded data removed]",
      "text/plain": [
       "<Figure size 432x288 with 1 Axes>"
      ]
     },
     "metadata": {
      "needs_background": "light"
     },
     "output_type": "display_data"
    }
   ],
   "source": [
    "barplot(old_customer_df)"
   ]
  },
  {
   "cell_type": "markdown",
   "id": "1f467180",
   "metadata": {},
   "source": [
    "### Nhận xét: \n",
    "1. Tập khách hàng trung niên (từ 36-60) chiếm tỷ lệ cao nhất trong khảo sát này, vì vậy chúng ta phải tập trung vào việc bán các sản phẩm phù hợp với nhu cầu của nhóm tuổi này.\n",
    "2. Có thể quan sát được rằng tất cả khách hàng được khảo sát trong dữ liệu đều chi phần lớn thu nhập cho rượu vang (hay đồ uống có cồn), nhóm tuổi càng cao thì có xu hướng chi tiêu cho sản phẩm này cao hơn. Do đó các công ty sản xuất rượu có thể dễ dàng hơn trong việc tiếp cận khách hàng của mình.\n",
    "3. Chi tiêu cho mua thực phẩm (như thịt, cá, trái cây, đồ ngọt) có xu hướng giảm dần qua từng nhóm tuổi từ trẻ đến già, có vẻ như càng lớn tuổi các khách hàng của chúng ta có xu hướng chi tiêu vào những sản phẩm mang tính tận hưởng là chính (như rượu, đồ uống có cồn, ...) hơn là các loại thực phẩm trong bữa ăn hằng ngày. Do đó để có thể lấy thị phần, các công ty sản xuất thực phẩm này cần phải thay đổi chiến lược tiếp cận của mình để có thể có được nhiều khách hàng mua sản phẩm của mình "
   ]
  },
  {
   "cell_type": "markdown",
   "id": "21b096ee",
   "metadata": {},
   "source": [
    "## Nhìn lại quá trình làm đồ án"
   ]
  },
  {
   "cell_type": "markdown",
   "id": "d5ed40ee",
   "metadata": {},
   "source": [
    "## Tài liệu tham khảo"
   ]
  }
 ],
 "metadata": {
  "kernelspec": {
   "display_name": "Python 3 (ipykernel)",
   "language": "python",
   "name": "python3"
  },
  "language_info": {
   "codemirror_mode": {
    "name": "ipython",
    "version": 3
   },
   "file_extension": ".py",
   "mimetype": "text/x-python",
   "name": "python",
   "nbconvert_exporter": "python",
   "pygments_lexer": "ipython3",
   "version": "3.8.8"
  }
 },
 "nbformat": 4,
 "nbformat_minor": 5
}
