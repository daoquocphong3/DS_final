{
 "cells": [
  {
   "cell_type": "markdown",
   "id": "b29780eb",
   "metadata": {},
   "source": [
    "## Đồ án cuối kỳ - Lập trình cho Khoa học Dữ liệu"
   ]
  },
  {
   "cell_type": "markdown",
   "id": "ad998c48",
   "metadata": {},
   "source": [
    "|Danh sách thành viên|MSSV|Phân chia công việc|Tiến độ hoàn thành|\n",
    "|---|---|---|---|\n",
    "|Đào Quốc Phong|18120505|||\n",
    "|Hồ Hoàng Duy|19120207|||\n"
   ]
  },
  {
   "cell_type": "markdown",
   "id": "89796d0d",
   "metadata": {},
   "source": [
    "## Thu thập dữ liệu"
   ]
  },
  {
   "cell_type": "markdown",
   "id": "4b8c0541",
   "metadata": {},
   "source": [
    "Dữ liệu trong đồ án lần này là về Phân tích Tính cách của Khách hàng (link [kaggle](https://www.kaggle.com/imakash3011/customer-personality-analysis)). Đây là một phân tích chi tiết về những khách hàng lý tưởng của một công ty. Nó giúp doanh nghiệp hiểu rõ hơn về khách hàng của mình và giúp họ dễ dàng sửa đổi sản phẩm theo nhu cầu, hành vi và mối quan tâm cụ thể của các loại khách hàng khác nhau.\n",
    "\n",
    "Thông qua việc phân tích tính cách khách hàng giúp doanh nghiệp sửa đổi sản phẩm của mình dựa trên khách hàng mục tiêu từ các loại phân khúc khách hàng khác nhau. Ví dụ: thay vì chi tiền để tiếp thị một sản phẩm mới cho mọi khách hàng trong cơ sở dữ liệu của công ty, một công ty có thể phân tích phân khúc khách hàng nào có nhiều khả năng mua sản phẩm nhất và sau đó chỉ tiếp thị sản phẩm trên phân khúc cụ thể đó.\n",
    "\n",
    "Data được cung cấp bởi Dr. Omar Romero-Hernandez. "
   ]
  },
  {
   "cell_type": "markdown",
   "id": "325f0107",
   "metadata": {},
   "source": [
    "## Import các thư viện cơ bản"
   ]
  },
  {
   "cell_type": "code",
   "execution_count": 1,
   "id": "d2c4bd94",
   "metadata": {},
   "outputs": [],
   "source": [
    "import pandas as pd\n",
    "import numpy as np\n",
    "import matplotlib.pyplot as plt\n",
    "import seaborn as sns\n",
    "import warnings\n",
    "warnings.filterwarnings('ignore')\n",
    "pd.set_option('max_columns', None)"
   ]
  },
  {
   "cell_type": "markdown",
   "id": "6605a341",
   "metadata": {},
   "source": [
    "## Khám phá dữ liệu\n",
    "### Đọc dữ liệu đầu vào"
   ]
  },
  {
   "cell_type": "code",
   "execution_count": 2,
   "id": "fa909c1e",
   "metadata": {},
   "outputs": [
    {
     "data": {
      "text/html": [
       "<div>\n",
       "<style scoped>\n",
       "    .dataframe tbody tr th:only-of-type {\n",
       "        vertical-align: middle;\n",
       "    }\n",
       "\n",
       "    .dataframe tbody tr th {\n",
       "        vertical-align: top;\n",
       "    }\n",
       "\n",
       "    .dataframe thead th {\n",
       "        text-align: right;\n",
       "    }\n",
       "</style>\n",
       "<table border=\"1\" class=\"dataframe\">\n",
       "  <thead>\n",
       "    <tr style=\"text-align: right;\">\n",
       "      <th></th>\n",
       "      <th>ID</th>\n",
       "      <th>Year_Birth</th>\n",
       "      <th>Education</th>\n",
       "      <th>Marital_Status</th>\n",
       "      <th>Income</th>\n",
       "      <th>Kidhome</th>\n",
       "      <th>Teenhome</th>\n",
       "      <th>Dt_Customer</th>\n",
       "      <th>Recency</th>\n",
       "      <th>MntWines</th>\n",
       "      <th>MntFruits</th>\n",
       "      <th>MntMeatProducts</th>\n",
       "      <th>MntFishProducts</th>\n",
       "      <th>MntSweetProducts</th>\n",
       "      <th>MntGoldProds</th>\n",
       "      <th>NumDealsPurchases</th>\n",
       "      <th>NumWebPurchases</th>\n",
       "      <th>NumCatalogPurchases</th>\n",
       "      <th>NumStorePurchases</th>\n",
       "      <th>NumWebVisitsMonth</th>\n",
       "      <th>AcceptedCmp3</th>\n",
       "      <th>AcceptedCmp4</th>\n",
       "      <th>AcceptedCmp5</th>\n",
       "      <th>AcceptedCmp1</th>\n",
       "      <th>AcceptedCmp2</th>\n",
       "      <th>Complain</th>\n",
       "      <th>Z_CostContact</th>\n",
       "      <th>Z_Revenue</th>\n",
       "      <th>Response</th>\n",
       "    </tr>\n",
       "  </thead>\n",
       "  <tbody>\n",
       "    <tr>\n",
       "      <th>0</th>\n",
       "      <td>5524</td>\n",
       "      <td>1957</td>\n",
       "      <td>Graduation</td>\n",
       "      <td>Single</td>\n",
       "      <td>58138.0</td>\n",
       "      <td>0</td>\n",
       "      <td>0</td>\n",
       "      <td>04-09-2012</td>\n",
       "      <td>58</td>\n",
       "      <td>635</td>\n",
       "      <td>88</td>\n",
       "      <td>546</td>\n",
       "      <td>172</td>\n",
       "      <td>88</td>\n",
       "      <td>88</td>\n",
       "      <td>3</td>\n",
       "      <td>8</td>\n",
       "      <td>10</td>\n",
       "      <td>4</td>\n",
       "      <td>7</td>\n",
       "      <td>0</td>\n",
       "      <td>0</td>\n",
       "      <td>0</td>\n",
       "      <td>0</td>\n",
       "      <td>0</td>\n",
       "      <td>0</td>\n",
       "      <td>3</td>\n",
       "      <td>11</td>\n",
       "      <td>1</td>\n",
       "    </tr>\n",
       "    <tr>\n",
       "      <th>1</th>\n",
       "      <td>2174</td>\n",
       "      <td>1954</td>\n",
       "      <td>Graduation</td>\n",
       "      <td>Single</td>\n",
       "      <td>46344.0</td>\n",
       "      <td>1</td>\n",
       "      <td>1</td>\n",
       "      <td>08-03-2014</td>\n",
       "      <td>38</td>\n",
       "      <td>11</td>\n",
       "      <td>1</td>\n",
       "      <td>6</td>\n",
       "      <td>2</td>\n",
       "      <td>1</td>\n",
       "      <td>6</td>\n",
       "      <td>2</td>\n",
       "      <td>1</td>\n",
       "      <td>1</td>\n",
       "      <td>2</td>\n",
       "      <td>5</td>\n",
       "      <td>0</td>\n",
       "      <td>0</td>\n",
       "      <td>0</td>\n",
       "      <td>0</td>\n",
       "      <td>0</td>\n",
       "      <td>0</td>\n",
       "      <td>3</td>\n",
       "      <td>11</td>\n",
       "      <td>0</td>\n",
       "    </tr>\n",
       "    <tr>\n",
       "      <th>2</th>\n",
       "      <td>4141</td>\n",
       "      <td>1965</td>\n",
       "      <td>Graduation</td>\n",
       "      <td>Together</td>\n",
       "      <td>71613.0</td>\n",
       "      <td>0</td>\n",
       "      <td>0</td>\n",
       "      <td>21-08-2013</td>\n",
       "      <td>26</td>\n",
       "      <td>426</td>\n",
       "      <td>49</td>\n",
       "      <td>127</td>\n",
       "      <td>111</td>\n",
       "      <td>21</td>\n",
       "      <td>42</td>\n",
       "      <td>1</td>\n",
       "      <td>8</td>\n",
       "      <td>2</td>\n",
       "      <td>10</td>\n",
       "      <td>4</td>\n",
       "      <td>0</td>\n",
       "      <td>0</td>\n",
       "      <td>0</td>\n",
       "      <td>0</td>\n",
       "      <td>0</td>\n",
       "      <td>0</td>\n",
       "      <td>3</td>\n",
       "      <td>11</td>\n",
       "      <td>0</td>\n",
       "    </tr>\n",
       "    <tr>\n",
       "      <th>3</th>\n",
       "      <td>6182</td>\n",
       "      <td>1984</td>\n",
       "      <td>Graduation</td>\n",
       "      <td>Together</td>\n",
       "      <td>26646.0</td>\n",
       "      <td>1</td>\n",
       "      <td>0</td>\n",
       "      <td>10-02-2014</td>\n",
       "      <td>26</td>\n",
       "      <td>11</td>\n",
       "      <td>4</td>\n",
       "      <td>20</td>\n",
       "      <td>10</td>\n",
       "      <td>3</td>\n",
       "      <td>5</td>\n",
       "      <td>2</td>\n",
       "      <td>2</td>\n",
       "      <td>0</td>\n",
       "      <td>4</td>\n",
       "      <td>6</td>\n",
       "      <td>0</td>\n",
       "      <td>0</td>\n",
       "      <td>0</td>\n",
       "      <td>0</td>\n",
       "      <td>0</td>\n",
       "      <td>0</td>\n",
       "      <td>3</td>\n",
       "      <td>11</td>\n",
       "      <td>0</td>\n",
       "    </tr>\n",
       "    <tr>\n",
       "      <th>4</th>\n",
       "      <td>5324</td>\n",
       "      <td>1981</td>\n",
       "      <td>PhD</td>\n",
       "      <td>Married</td>\n",
       "      <td>58293.0</td>\n",
       "      <td>1</td>\n",
       "      <td>0</td>\n",
       "      <td>19-01-2014</td>\n",
       "      <td>94</td>\n",
       "      <td>173</td>\n",
       "      <td>43</td>\n",
       "      <td>118</td>\n",
       "      <td>46</td>\n",
       "      <td>27</td>\n",
       "      <td>15</td>\n",
       "      <td>5</td>\n",
       "      <td>5</td>\n",
       "      <td>3</td>\n",
       "      <td>6</td>\n",
       "      <td>5</td>\n",
       "      <td>0</td>\n",
       "      <td>0</td>\n",
       "      <td>0</td>\n",
       "      <td>0</td>\n",
       "      <td>0</td>\n",
       "      <td>0</td>\n",
       "      <td>3</td>\n",
       "      <td>11</td>\n",
       "      <td>0</td>\n",
       "    </tr>\n",
       "  </tbody>\n",
       "</table>\n",
       "</div>"
      ],
      "text/plain": [
       "     ID  Year_Birth   Education Marital_Status   Income  Kidhome  Teenhome  \\\n",
       "0  5524        1957  Graduation         Single  58138.0        0         0   \n",
       "1  2174        1954  Graduation         Single  46344.0        1         1   \n",
       "2  4141        1965  Graduation       Together  71613.0        0         0   \n",
       "3  6182        1984  Graduation       Together  26646.0        1         0   \n",
       "4  5324        1981         PhD        Married  58293.0        1         0   \n",
       "\n",
       "  Dt_Customer  Recency  MntWines  MntFruits  MntMeatProducts  MntFishProducts  \\\n",
       "0  04-09-2012       58       635         88              546              172   \n",
       "1  08-03-2014       38        11          1                6                2   \n",
       "2  21-08-2013       26       426         49              127              111   \n",
       "3  10-02-2014       26        11          4               20               10   \n",
       "4  19-01-2014       94       173         43              118               46   \n",
       "\n",
       "   MntSweetProducts  MntGoldProds  NumDealsPurchases  NumWebPurchases  \\\n",
       "0                88            88                  3                8   \n",
       "1                 1             6                  2                1   \n",
       "2                21            42                  1                8   \n",
       "3                 3             5                  2                2   \n",
       "4                27            15                  5                5   \n",
       "\n",
       "   NumCatalogPurchases  NumStorePurchases  NumWebVisitsMonth  AcceptedCmp3  \\\n",
       "0                   10                  4                  7             0   \n",
       "1                    1                  2                  5             0   \n",
       "2                    2                 10                  4             0   \n",
       "3                    0                  4                  6             0   \n",
       "4                    3                  6                  5             0   \n",
       "\n",
       "   AcceptedCmp4  AcceptedCmp5  AcceptedCmp1  AcceptedCmp2  Complain  \\\n",
       "0             0             0             0             0         0   \n",
       "1             0             0             0             0         0   \n",
       "2             0             0             0             0         0   \n",
       "3             0             0             0             0         0   \n",
       "4             0             0             0             0         0   \n",
       "\n",
       "   Z_CostContact  Z_Revenue  Response  \n",
       "0              3         11         1  \n",
       "1              3         11         0  \n",
       "2              3         11         0  \n",
       "3              3         11         0  \n",
       "4              3         11         0  "
      ]
     },
     "execution_count": 2,
     "metadata": {},
     "output_type": "execute_result"
    }
   ],
   "source": [
    "customer_df = pd.read_csv(\"marketing_campaign.csv\", sep=\"\\t\")\n",
    "customer_df.head()"
   ]
  },
  {
   "cell_type": "code",
   "execution_count": 3,
   "id": "79470cce",
   "metadata": {},
   "outputs": [
    {
     "data": {
      "text/plain": [
       "array(['Graduation', 'PhD', 'Master', 'Basic', '2n Cycle'], dtype=object)"
      ]
     },
     "execution_count": 3,
     "metadata": {},
     "output_type": "execute_result"
    }
   ],
   "source": [
    "customer_df.Education.unique()"
   ]
  },
  {
   "cell_type": "markdown",
   "id": "f1792df2",
   "metadata": {},
   "source": [
    "### Bộ dữ liệu có bao nhiêu hàng và cột?"
   ]
  },
  {
   "cell_type": "code",
   "execution_count": 4,
   "id": "6ec636b9",
   "metadata": {},
   "outputs": [
    {
     "name": "stdout",
     "output_type": "stream",
     "text": [
      "Dữ liệu có 2240 dòng và 29 cột\n"
     ]
    }
   ],
   "source": [
    "num_rows, num_cols = customer_df.shape\n",
    "print('Dữ liệu có {} dòng và {} cột'.format(num_rows, num_cols))"
   ]
  },
  {
   "cell_type": "markdown",
   "id": "b912118b",
   "metadata": {},
   "source": [
    "### Mỗi dòng có ý nghĩa gì? Có vấn đề các dòng có ý nghĩa khác nhau không?"
   ]
  },
  {
   "cell_type": "markdown",
   "id": "4a1da1f5",
   "metadata": {},
   "source": [
    "Mỗi dòng là chi tiết thông tin của một khách hàng được thu thập. Có vẻ không có dòng nào có ý nghĩa khác."
   ]
  },
  {
   "cell_type": "markdown",
   "id": "eb202fab",
   "metadata": {},
   "source": [
    "### Dữ liệu có dòng nào bị trùng không?"
   ]
  },
  {
   "cell_type": "code",
   "execution_count": 5,
   "id": "071a71e5",
   "metadata": {},
   "outputs": [
    {
     "name": "stdout",
     "output_type": "stream",
     "text": [
      "Có 0 dòng bị lặp.\n"
     ]
    }
   ],
   "source": [
    "duplicated_rows = customer_df.duplicated()\n",
    "num_duplicated_rows = len(customer_df[duplicated_rows])\n",
    "print(\"Có {} dòng bị lặp.\".format(num_duplicated_rows))"
   ]
  },
  {
   "cell_type": "markdown",
   "id": "d889b581",
   "metadata": {},
   "source": [
    "### Mỗi cột có ý nghĩa gì?"
   ]
  },
  {
   "cell_type": "markdown",
   "id": "8d021ae5",
   "metadata": {},
   "source": [
    "Dưới đây là mô tả ý nghĩa của các cột trong file `marketing_campaign.csv`:   \n",
    "\n",
    "*People*\n",
    "\n",
    "ID: Customer's unique identifier ID khách hàng (duy nhất)  \n",
    "Year_Birth: Customer's birth year (Năm sinh của khách hàng)  \n",
    "Education: Customer's education level (Trình độ học vấn của khách hàng)  \n",
    "Marital_Status: Customer's marital status (Tình trạng hôn nhân của khách hàng)  \n",
    "Income: Customer's yearly household income (Thu nhập hộ gia đình của khách hàng)  \n",
    "Kidhome: Number of children in customer's household (Số lượng trẻ con trong gia đình)  \n",
    "Teenhome: Number of teenagers in customer's household (Số lượng trẻ thành niên trong gia đình)  \n",
    "Dt_Customer: Date of customer's enrollment with the company (Ngày KH đăng ký thành viên)  \n",
    "Recency: Number of days since customer's last purchase (Số ngày kể từ lần mua hàng gần nhất)  \n",
    "Complain: 1 if the customer complained in the last 2 years, 0 otherwise (1 nếu có phàn nàn trong vòng 2 năm gần đây, 0 nếu ngược lại)  \n",
    "\n",
    "*Products*\n",
    "\n",
    "MntWines: Amount spent on wine in last 2 years (Số tiền chi cho rượu trong vòng 2 năm gần đây)  \n",
    "MntFruits: Amount spent on fruits in last 2 years (Số tiền chi cho trái cây trong vòng 2 năm gần đây)  \n",
    "MntMeatProducts: Amount spent on meat in last 2 years (Số tiền chi cho thịt trong vòng 2 năm gần đây)  \n",
    "MntFishProducts: Amount spent on fish in last 2 years (Số tiền chi cho cá trong vòng 2 năm gần đây)  \n",
    "MntSweetProducts: Amount spent on sweets in last 2 years (Số tiền chi cho đồ ngọt trong vòng 2 năm gần đây)  \n",
    "MntGoldProds: Amount spent on gold in last 2 years (Số tiền chi cho vàng trong vòng 2 năm gần đây)  \n",
    "\n",
    "*Promotion*\n",
    "\n",
    "NumDealsPurchases: Number of purchases made with a discount (Số lần mua hàng có giảm giá)  \n",
    "AcceptedCmp1: 1 if customer accepted the offer in the 1st campaign, 0 otherwise  \n",
    "AcceptedCmp2: 1 if customer accepted the offer in the 2nd campaign, 0 otherwise  \n",
    "AcceptedCmp3: 1 if customer accepted the offer in the 3rd campaign, 0 otherwise  \n",
    "AcceptedCmp4: 1 if customer accepted the offer in the 4th campaign, 0 otherwise  \n",
    "AcceptedCmp5: 1 if customer accepted the offer in the 5th campaign, 0 otherwise  \n",
    "Response: 1 if customer accepted the offer in the last campaign, 0 otherwise  \n",
    "\n",
    "*Place*\n",
    "\n",
    "NumWebPurchases: Number of purchases made through the company’s website (Số lần mua hàng qua website công ty)  \n",
    "NumCatalogPurchases: Number of purchases made using a catalogue (Số lần mua hàng bằng catalogue)  \n",
    "NumStorePurchases: Number of purchases made directly in stores (Số lần mua hàng trực tiếp ở cửa hàng)  \n",
    "NumWebVisitsMonth: Number of visits to company’s website in the last month (Số lần truy cập website công ty trong tháng trước)  \n"
   ]
  },
  {
   "cell_type": "markdown",
   "id": "8c855165",
   "metadata": {},
   "source": [
    "### Mỗi cột hiện đang có kiểu dữ liệu gì? Có cột nào cần thay đổi kiểu dữ liệu không?"
   ]
  },
  {
   "cell_type": "code",
   "execution_count": 6,
   "id": "ea2ffa55",
   "metadata": {
    "local_metadata": {
     "scrolled": true
    },
    "remote_metadata": {}
   },
   "outputs": [
    {
     "data": {
      "text/plain": [
       "ID                       int64\n",
       "Year_Birth               int64\n",
       "Education               object\n",
       "Marital_Status          object\n",
       "Income                 float64\n",
       "Kidhome                  int64\n",
       "Teenhome                 int64\n",
       "Dt_Customer             object\n",
       "Recency                  int64\n",
       "MntWines                 int64\n",
       "MntFruits                int64\n",
       "MntMeatProducts          int64\n",
       "MntFishProducts          int64\n",
       "MntSweetProducts         int64\n",
       "MntGoldProds             int64\n",
       "NumDealsPurchases        int64\n",
       "NumWebPurchases          int64\n",
       "NumCatalogPurchases      int64\n",
       "NumStorePurchases        int64\n",
       "NumWebVisitsMonth        int64\n",
       "AcceptedCmp3             int64\n",
       "AcceptedCmp4             int64\n",
       "AcceptedCmp5             int64\n",
       "AcceptedCmp1             int64\n",
       "AcceptedCmp2             int64\n",
       "Complain                 int64\n",
       "Z_CostContact            int64\n",
       "Z_Revenue                int64\n",
       "Response                 int64\n",
       "dtype: object"
      ]
     },
     "execution_count": 6,
     "metadata": {},
     "output_type": "execute_result"
    }
   ],
   "source": [
    "col_dtypes = customer_df.dtypes\n",
    "col_dtypes"
   ]
  },
  {
   "cell_type": "markdown",
   "id": "92703646",
   "metadata": {},
   "source": [
    "Ta thấy có 3 cột có kiểu dữ liệu là `object` là: `Education`, `Marital_Status`, `Dt_Customer`. Quan sát vài bộ dữ liệu thì ta có thể đoán cột `Education` và `Marital_Status` có kiểu dữ liệu `str` và thuộc dạng categorical, cột `Dt_Customer` có dạng \"Ngày tháng năm\". Các cột còn lại có dạng numerical"
   ]
  },
  {
   "cell_type": "markdown",
   "id": "0e44a60f",
   "metadata": {},
   "source": [
    "Để khẳng định 3 cột có kiểu `object` có kiểu dữ liệu là `str` ta viết hàm `open_object_dtype` (tương tự `HW3`):"
   ]
  },
  {
   "cell_type": "code",
   "execution_count": 7,
   "id": "cf730cf1",
   "metadata": {},
   "outputs": [],
   "source": [
    "def open_object_dtype(s):\n",
    "    dtypes = set()\n",
    "    for i in s:\n",
    "        dtypes.add(type(i))\n",
    "    return dtypes"
   ]
  },
  {
   "cell_type": "code",
   "execution_count": 8,
   "id": "f7205f95",
   "metadata": {},
   "outputs": [],
   "source": [
    "#TEST\n",
    "assert open_object_dtype(customer_df['Education']) == {str}\n",
    "assert open_object_dtype(customer_df['Marital_Status']) == {str}\n",
    "assert open_object_dtype(customer_df['Dt_Customer']) == {str}"
   ]
  },
  {
   "cell_type": "markdown",
   "id": "57ae156c",
   "metadata": {},
   "source": [
    "Cột `Dt_Customer` đang biểu diễn dạng `Datetime` nên ta cần chuyển cột này từ `str` về `datetime`"
   ]
  },
  {
   "cell_type": "markdown",
   "id": "20b232a0",
   "metadata": {},
   "source": [
    "## Tiền xử lý"
   ]
  },
  {
   "cell_type": "markdown",
   "id": "4aa61ecf",
   "metadata": {},
   "source": [
    "Ta nhận thấy 2 cột `Z_CostContact` và `Z_Revenue` đều có độ lệch chuẩn = 0 và mỗi cột chỉ có duy nhất 1 giá trị nên ta có thể tiến hành bỏ đi 2 cột này"
   ]
  },
  {
   "cell_type": "code",
   "execution_count": 9,
   "id": "4c5f8a91",
   "metadata": {},
   "outputs": [
    {
     "data": {
      "text/html": [
       "<div>\n",
       "<style scoped>\n",
       "    .dataframe tbody tr th:only-of-type {\n",
       "        vertical-align: middle;\n",
       "    }\n",
       "\n",
       "    .dataframe tbody tr th {\n",
       "        vertical-align: top;\n",
       "    }\n",
       "\n",
       "    .dataframe thead th {\n",
       "        text-align: right;\n",
       "    }\n",
       "</style>\n",
       "<table border=\"1\" class=\"dataframe\">\n",
       "  <thead>\n",
       "    <tr style=\"text-align: right;\">\n",
       "      <th></th>\n",
       "      <th>ID</th>\n",
       "      <th>Year_Birth</th>\n",
       "      <th>Education</th>\n",
       "      <th>Marital_Status</th>\n",
       "      <th>Income</th>\n",
       "      <th>Kidhome</th>\n",
       "      <th>Teenhome</th>\n",
       "      <th>Dt_Customer</th>\n",
       "      <th>Recency</th>\n",
       "      <th>MntWines</th>\n",
       "      <th>MntFruits</th>\n",
       "      <th>MntMeatProducts</th>\n",
       "      <th>MntFishProducts</th>\n",
       "      <th>MntSweetProducts</th>\n",
       "      <th>MntGoldProds</th>\n",
       "      <th>NumDealsPurchases</th>\n",
       "      <th>NumWebPurchases</th>\n",
       "      <th>NumCatalogPurchases</th>\n",
       "      <th>NumStorePurchases</th>\n",
       "      <th>NumWebVisitsMonth</th>\n",
       "      <th>AcceptedCmp3</th>\n",
       "      <th>AcceptedCmp4</th>\n",
       "      <th>AcceptedCmp5</th>\n",
       "      <th>AcceptedCmp1</th>\n",
       "      <th>AcceptedCmp2</th>\n",
       "      <th>Complain</th>\n",
       "      <th>Response</th>\n",
       "    </tr>\n",
       "  </thead>\n",
       "  <tbody>\n",
       "    <tr>\n",
       "      <th>0</th>\n",
       "      <td>5524</td>\n",
       "      <td>1957</td>\n",
       "      <td>Graduation</td>\n",
       "      <td>Single</td>\n",
       "      <td>58138.0</td>\n",
       "      <td>0</td>\n",
       "      <td>0</td>\n",
       "      <td>04-09-2012</td>\n",
       "      <td>58</td>\n",
       "      <td>635</td>\n",
       "      <td>88</td>\n",
       "      <td>546</td>\n",
       "      <td>172</td>\n",
       "      <td>88</td>\n",
       "      <td>88</td>\n",
       "      <td>3</td>\n",
       "      <td>8</td>\n",
       "      <td>10</td>\n",
       "      <td>4</td>\n",
       "      <td>7</td>\n",
       "      <td>0</td>\n",
       "      <td>0</td>\n",
       "      <td>0</td>\n",
       "      <td>0</td>\n",
       "      <td>0</td>\n",
       "      <td>0</td>\n",
       "      <td>1</td>\n",
       "    </tr>\n",
       "    <tr>\n",
       "      <th>1</th>\n",
       "      <td>2174</td>\n",
       "      <td>1954</td>\n",
       "      <td>Graduation</td>\n",
       "      <td>Single</td>\n",
       "      <td>46344.0</td>\n",
       "      <td>1</td>\n",
       "      <td>1</td>\n",
       "      <td>08-03-2014</td>\n",
       "      <td>38</td>\n",
       "      <td>11</td>\n",
       "      <td>1</td>\n",
       "      <td>6</td>\n",
       "      <td>2</td>\n",
       "      <td>1</td>\n",
       "      <td>6</td>\n",
       "      <td>2</td>\n",
       "      <td>1</td>\n",
       "      <td>1</td>\n",
       "      <td>2</td>\n",
       "      <td>5</td>\n",
       "      <td>0</td>\n",
       "      <td>0</td>\n",
       "      <td>0</td>\n",
       "      <td>0</td>\n",
       "      <td>0</td>\n",
       "      <td>0</td>\n",
       "      <td>0</td>\n",
       "    </tr>\n",
       "    <tr>\n",
       "      <th>2</th>\n",
       "      <td>4141</td>\n",
       "      <td>1965</td>\n",
       "      <td>Graduation</td>\n",
       "      <td>Together</td>\n",
       "      <td>71613.0</td>\n",
       "      <td>0</td>\n",
       "      <td>0</td>\n",
       "      <td>21-08-2013</td>\n",
       "      <td>26</td>\n",
       "      <td>426</td>\n",
       "      <td>49</td>\n",
       "      <td>127</td>\n",
       "      <td>111</td>\n",
       "      <td>21</td>\n",
       "      <td>42</td>\n",
       "      <td>1</td>\n",
       "      <td>8</td>\n",
       "      <td>2</td>\n",
       "      <td>10</td>\n",
       "      <td>4</td>\n",
       "      <td>0</td>\n",
       "      <td>0</td>\n",
       "      <td>0</td>\n",
       "      <td>0</td>\n",
       "      <td>0</td>\n",
       "      <td>0</td>\n",
       "      <td>0</td>\n",
       "    </tr>\n",
       "    <tr>\n",
       "      <th>3</th>\n",
       "      <td>6182</td>\n",
       "      <td>1984</td>\n",
       "      <td>Graduation</td>\n",
       "      <td>Together</td>\n",
       "      <td>26646.0</td>\n",
       "      <td>1</td>\n",
       "      <td>0</td>\n",
       "      <td>10-02-2014</td>\n",
       "      <td>26</td>\n",
       "      <td>11</td>\n",
       "      <td>4</td>\n",
       "      <td>20</td>\n",
       "      <td>10</td>\n",
       "      <td>3</td>\n",
       "      <td>5</td>\n",
       "      <td>2</td>\n",
       "      <td>2</td>\n",
       "      <td>0</td>\n",
       "      <td>4</td>\n",
       "      <td>6</td>\n",
       "      <td>0</td>\n",
       "      <td>0</td>\n",
       "      <td>0</td>\n",
       "      <td>0</td>\n",
       "      <td>0</td>\n",
       "      <td>0</td>\n",
       "      <td>0</td>\n",
       "    </tr>\n",
       "    <tr>\n",
       "      <th>4</th>\n",
       "      <td>5324</td>\n",
       "      <td>1981</td>\n",
       "      <td>PhD</td>\n",
       "      <td>Married</td>\n",
       "      <td>58293.0</td>\n",
       "      <td>1</td>\n",
       "      <td>0</td>\n",
       "      <td>19-01-2014</td>\n",
       "      <td>94</td>\n",
       "      <td>173</td>\n",
       "      <td>43</td>\n",
       "      <td>118</td>\n",
       "      <td>46</td>\n",
       "      <td>27</td>\n",
       "      <td>15</td>\n",
       "      <td>5</td>\n",
       "      <td>5</td>\n",
       "      <td>3</td>\n",
       "      <td>6</td>\n",
       "      <td>5</td>\n",
       "      <td>0</td>\n",
       "      <td>0</td>\n",
       "      <td>0</td>\n",
       "      <td>0</td>\n",
       "      <td>0</td>\n",
       "      <td>0</td>\n",
       "      <td>0</td>\n",
       "    </tr>\n",
       "    <tr>\n",
       "      <th>...</th>\n",
       "      <td>...</td>\n",
       "      <td>...</td>\n",
       "      <td>...</td>\n",
       "      <td>...</td>\n",
       "      <td>...</td>\n",
       "      <td>...</td>\n",
       "      <td>...</td>\n",
       "      <td>...</td>\n",
       "      <td>...</td>\n",
       "      <td>...</td>\n",
       "      <td>...</td>\n",
       "      <td>...</td>\n",
       "      <td>...</td>\n",
       "      <td>...</td>\n",
       "      <td>...</td>\n",
       "      <td>...</td>\n",
       "      <td>...</td>\n",
       "      <td>...</td>\n",
       "      <td>...</td>\n",
       "      <td>...</td>\n",
       "      <td>...</td>\n",
       "      <td>...</td>\n",
       "      <td>...</td>\n",
       "      <td>...</td>\n",
       "      <td>...</td>\n",
       "      <td>...</td>\n",
       "      <td>...</td>\n",
       "    </tr>\n",
       "    <tr>\n",
       "      <th>2235</th>\n",
       "      <td>10870</td>\n",
       "      <td>1967</td>\n",
       "      <td>Graduation</td>\n",
       "      <td>Married</td>\n",
       "      <td>61223.0</td>\n",
       "      <td>0</td>\n",
       "      <td>1</td>\n",
       "      <td>13-06-2013</td>\n",
       "      <td>46</td>\n",
       "      <td>709</td>\n",
       "      <td>43</td>\n",
       "      <td>182</td>\n",
       "      <td>42</td>\n",
       "      <td>118</td>\n",
       "      <td>247</td>\n",
       "      <td>2</td>\n",
       "      <td>9</td>\n",
       "      <td>3</td>\n",
       "      <td>4</td>\n",
       "      <td>5</td>\n",
       "      <td>0</td>\n",
       "      <td>0</td>\n",
       "      <td>0</td>\n",
       "      <td>0</td>\n",
       "      <td>0</td>\n",
       "      <td>0</td>\n",
       "      <td>0</td>\n",
       "    </tr>\n",
       "    <tr>\n",
       "      <th>2236</th>\n",
       "      <td>4001</td>\n",
       "      <td>1946</td>\n",
       "      <td>PhD</td>\n",
       "      <td>Together</td>\n",
       "      <td>64014.0</td>\n",
       "      <td>2</td>\n",
       "      <td>1</td>\n",
       "      <td>10-06-2014</td>\n",
       "      <td>56</td>\n",
       "      <td>406</td>\n",
       "      <td>0</td>\n",
       "      <td>30</td>\n",
       "      <td>0</td>\n",
       "      <td>0</td>\n",
       "      <td>8</td>\n",
       "      <td>7</td>\n",
       "      <td>8</td>\n",
       "      <td>2</td>\n",
       "      <td>5</td>\n",
       "      <td>7</td>\n",
       "      <td>0</td>\n",
       "      <td>0</td>\n",
       "      <td>0</td>\n",
       "      <td>1</td>\n",
       "      <td>0</td>\n",
       "      <td>0</td>\n",
       "      <td>0</td>\n",
       "    </tr>\n",
       "    <tr>\n",
       "      <th>2237</th>\n",
       "      <td>7270</td>\n",
       "      <td>1981</td>\n",
       "      <td>Graduation</td>\n",
       "      <td>Divorced</td>\n",
       "      <td>56981.0</td>\n",
       "      <td>0</td>\n",
       "      <td>0</td>\n",
       "      <td>25-01-2014</td>\n",
       "      <td>91</td>\n",
       "      <td>908</td>\n",
       "      <td>48</td>\n",
       "      <td>217</td>\n",
       "      <td>32</td>\n",
       "      <td>12</td>\n",
       "      <td>24</td>\n",
       "      <td>1</td>\n",
       "      <td>2</td>\n",
       "      <td>3</td>\n",
       "      <td>13</td>\n",
       "      <td>6</td>\n",
       "      <td>0</td>\n",
       "      <td>1</td>\n",
       "      <td>0</td>\n",
       "      <td>0</td>\n",
       "      <td>0</td>\n",
       "      <td>0</td>\n",
       "      <td>0</td>\n",
       "    </tr>\n",
       "    <tr>\n",
       "      <th>2238</th>\n",
       "      <td>8235</td>\n",
       "      <td>1956</td>\n",
       "      <td>Master</td>\n",
       "      <td>Together</td>\n",
       "      <td>69245.0</td>\n",
       "      <td>0</td>\n",
       "      <td>1</td>\n",
       "      <td>24-01-2014</td>\n",
       "      <td>8</td>\n",
       "      <td>428</td>\n",
       "      <td>30</td>\n",
       "      <td>214</td>\n",
       "      <td>80</td>\n",
       "      <td>30</td>\n",
       "      <td>61</td>\n",
       "      <td>2</td>\n",
       "      <td>6</td>\n",
       "      <td>5</td>\n",
       "      <td>10</td>\n",
       "      <td>3</td>\n",
       "      <td>0</td>\n",
       "      <td>0</td>\n",
       "      <td>0</td>\n",
       "      <td>0</td>\n",
       "      <td>0</td>\n",
       "      <td>0</td>\n",
       "      <td>0</td>\n",
       "    </tr>\n",
       "    <tr>\n",
       "      <th>2239</th>\n",
       "      <td>9405</td>\n",
       "      <td>1954</td>\n",
       "      <td>PhD</td>\n",
       "      <td>Married</td>\n",
       "      <td>52869.0</td>\n",
       "      <td>1</td>\n",
       "      <td>1</td>\n",
       "      <td>15-10-2012</td>\n",
       "      <td>40</td>\n",
       "      <td>84</td>\n",
       "      <td>3</td>\n",
       "      <td>61</td>\n",
       "      <td>2</td>\n",
       "      <td>1</td>\n",
       "      <td>21</td>\n",
       "      <td>3</td>\n",
       "      <td>3</td>\n",
       "      <td>1</td>\n",
       "      <td>4</td>\n",
       "      <td>7</td>\n",
       "      <td>0</td>\n",
       "      <td>0</td>\n",
       "      <td>0</td>\n",
       "      <td>0</td>\n",
       "      <td>0</td>\n",
       "      <td>0</td>\n",
       "      <td>1</td>\n",
       "    </tr>\n",
       "  </tbody>\n",
       "</table>\n",
       "<p>2240 rows × 27 columns</p>\n",
       "</div>"
      ],
      "text/plain": [
       "         ID  Year_Birth   Education Marital_Status   Income  Kidhome  \\\n",
       "0      5524        1957  Graduation         Single  58138.0        0   \n",
       "1      2174        1954  Graduation         Single  46344.0        1   \n",
       "2      4141        1965  Graduation       Together  71613.0        0   \n",
       "3      6182        1984  Graduation       Together  26646.0        1   \n",
       "4      5324        1981         PhD        Married  58293.0        1   \n",
       "...     ...         ...         ...            ...      ...      ...   \n",
       "2235  10870        1967  Graduation        Married  61223.0        0   \n",
       "2236   4001        1946         PhD       Together  64014.0        2   \n",
       "2237   7270        1981  Graduation       Divorced  56981.0        0   \n",
       "2238   8235        1956      Master       Together  69245.0        0   \n",
       "2239   9405        1954         PhD        Married  52869.0        1   \n",
       "\n",
       "      Teenhome Dt_Customer  Recency  MntWines  MntFruits  MntMeatProducts  \\\n",
       "0            0  04-09-2012       58       635         88              546   \n",
       "1            1  08-03-2014       38        11          1                6   \n",
       "2            0  21-08-2013       26       426         49              127   \n",
       "3            0  10-02-2014       26        11          4               20   \n",
       "4            0  19-01-2014       94       173         43              118   \n",
       "...        ...         ...      ...       ...        ...              ...   \n",
       "2235         1  13-06-2013       46       709         43              182   \n",
       "2236         1  10-06-2014       56       406          0               30   \n",
       "2237         0  25-01-2014       91       908         48              217   \n",
       "2238         1  24-01-2014        8       428         30              214   \n",
       "2239         1  15-10-2012       40        84          3               61   \n",
       "\n",
       "      MntFishProducts  MntSweetProducts  MntGoldProds  NumDealsPurchases  \\\n",
       "0                 172                88            88                  3   \n",
       "1                   2                 1             6                  2   \n",
       "2                 111                21            42                  1   \n",
       "3                  10                 3             5                  2   \n",
       "4                  46                27            15                  5   \n",
       "...               ...               ...           ...                ...   \n",
       "2235               42               118           247                  2   \n",
       "2236                0                 0             8                  7   \n",
       "2237               32                12            24                  1   \n",
       "2238               80                30            61                  2   \n",
       "2239                2                 1            21                  3   \n",
       "\n",
       "      NumWebPurchases  NumCatalogPurchases  NumStorePurchases  \\\n",
       "0                   8                   10                  4   \n",
       "1                   1                    1                  2   \n",
       "2                   8                    2                 10   \n",
       "3                   2                    0                  4   \n",
       "4                   5                    3                  6   \n",
       "...               ...                  ...                ...   \n",
       "2235                9                    3                  4   \n",
       "2236                8                    2                  5   \n",
       "2237                2                    3                 13   \n",
       "2238                6                    5                 10   \n",
       "2239                3                    1                  4   \n",
       "\n",
       "      NumWebVisitsMonth  AcceptedCmp3  AcceptedCmp4  AcceptedCmp5  \\\n",
       "0                     7             0             0             0   \n",
       "1                     5             0             0             0   \n",
       "2                     4             0             0             0   \n",
       "3                     6             0             0             0   \n",
       "4                     5             0             0             0   \n",
       "...                 ...           ...           ...           ...   \n",
       "2235                  5             0             0             0   \n",
       "2236                  7             0             0             0   \n",
       "2237                  6             0             1             0   \n",
       "2238                  3             0             0             0   \n",
       "2239                  7             0             0             0   \n",
       "\n",
       "      AcceptedCmp1  AcceptedCmp2  Complain  Response  \n",
       "0                0             0         0         1  \n",
       "1                0             0         0         0  \n",
       "2                0             0         0         0  \n",
       "3                0             0         0         0  \n",
       "4                0             0         0         0  \n",
       "...            ...           ...       ...       ...  \n",
       "2235             0             0         0         0  \n",
       "2236             1             0         0         0  \n",
       "2237             0             0         0         0  \n",
       "2238             0             0         0         0  \n",
       "2239             0             0         0         1  \n",
       "\n",
       "[2240 rows x 27 columns]"
      ]
     },
     "execution_count": 9,
     "metadata": {},
     "output_type": "execute_result"
    }
   ],
   "source": [
    "customer_df.drop('Z_CostContact',axis=1,inplace=True)\n",
    "customer_df.drop('Z_Revenue',axis=1,inplace=True)\n",
    "customer_df"
   ]
  },
  {
   "cell_type": "markdown",
   "id": "782ebe01",
   "metadata": {},
   "source": [
    "Trong bảng dữ liệu này có khá nhiều các cột gần tương tự nhau, ta có thể tạo một cột mới để gộp tổng các giá trị các cột này rồi sẽ bỏ các cột đó đi để bảng dữ liệu trở nên gọn hơn.   "
   ]
  },
  {
   "cell_type": "markdown",
   "id": "3d503567",
   "metadata": {},
   "source": [
    "### Cột `Year_Birth`:"
   ]
  },
  {
   "cell_type": "markdown",
   "id": "88650af0",
   "metadata": {},
   "source": [
    "\n",
    "Đầu tiên ta sẽ nội suy cột năm sinh `Year_Birth` thành cột tuổi `Age` để dễ dàng trong việc kết luận."
   ]
  },
  {
   "cell_type": "code",
   "execution_count": 10,
   "id": "38acb60e",
   "metadata": {},
   "outputs": [],
   "source": [
    "customer_df['Age'] = 2021 - customer_df['Year_Birth']"
   ]
  },
  {
   "cell_type": "markdown",
   "id": "44843c8c",
   "metadata": {},
   "source": [
    "Hầu hết các dòng có giá trị từ 1940 trở lên tức là tầm 81 tuổi trở xuống.  \n",
    "Có một vài dòng có giá trị là nhỏ hơn 1940 vd như 1899 là khoảng hơn 100 tuổi, con số này có vẻ không đúng lắm. Thực hiện xoá tất cả các năm sinh nhỏ hơn 1940."
   ]
  },
  {
   "cell_type": "code",
   "execution_count": 11,
   "id": "eb53f796",
   "metadata": {},
   "outputs": [],
   "source": [
    "deleteidx  = customer_df.loc[customer_df['Year_Birth'] < 1940].index\n",
    "customer_df = customer_df.drop(deleteidx)"
   ]
  },
  {
   "cell_type": "markdown",
   "id": "e4d92be5",
   "metadata": {},
   "source": [
    "### Cột `Education`:"
   ]
  },
  {
   "cell_type": "markdown",
   "id": "352bd3cb",
   "metadata": {},
   "source": [
    "Ở cột này có giá trị lạ '2n Cycle'. Theo tìm hiểu trên [Education Degree](https://www.uab.cat/web/study/graduate/uab-master-s-degrees-and-graduate-diplomas/what-are-the-differences-between-a-master-s-degree-and-a-graduate-diploma-1345705451834.html) thì đây là một nhóm bằng, và một trong số đó có bằng Master. Nói cách khác thì nó là bằng sau đại học. Nhóm bằng này chia ra 3 loại là: Master's degrees, Graduate Diplomas (bằng sau đại học), và Specialisation courses. Thường bằng Master phải học nhiều hơn, lâu hơn. 2n Cycle chỉ đại diện cho 2 văn bằng còn lại nên theo thứ tự thì em sẽ sắp Master cao hơn 2n Cycle.  \n",
    "Ngoài ra dữ liệu không có gì bất thường ở cột này.\n"
   ]
  },
  {
   "cell_type": "code",
   "execution_count": 12,
   "id": "cecdf4e2",
   "metadata": {},
   "outputs": [
    {
     "data": {
      "text/plain": [
       "Graduation    1127\n",
       "PhD            485\n",
       "Master         370\n",
       "2n Cycle       201\n",
       "Basic           54\n",
       "Name: Education, dtype: int64"
      ]
     },
     "execution_count": 12,
     "metadata": {},
     "output_type": "execute_result"
    }
   ],
   "source": [
    "customer_df['Education'].value_counts()"
   ]
  },
  {
   "cell_type": "markdown",
   "id": "1d778692",
   "metadata": {},
   "source": [
    "### Cột `Marital_Status`:"
   ]
  },
  {
   "cell_type": "code",
   "execution_count": 13,
   "id": "5dc4e818",
   "metadata": {
    "scrolled": true
   },
   "outputs": [
    {
     "data": {
      "text/plain": [
       "Married     864\n",
       "Together    579\n",
       "Single      479\n",
       "Divorced    231\n",
       "Widow        77\n",
       "Alone         3\n",
       "YOLO          2\n",
       "Absurd        2\n",
       "Name: Marital_Status, dtype: int64"
      ]
     },
     "execution_count": 13,
     "metadata": {},
     "output_type": "execute_result"
    }
   ],
   "source": [
    "customer_df['Marital_Status'].value_counts()"
   ]
  },
  {
   "cell_type": "markdown",
   "id": "066fcf6b",
   "metadata": {},
   "source": [
    "Có 2 giá trị `Absurd` và `YOLO` và ngoại lai, tổng cộng gòm 4 dòng. Tiến hành xoá các dòng này.\n",
    "\n",
    "Ta chuyển hóa cột này về chỉ còn 2 giá trị: \n",
    "- `InRelationship` (gồm `Married` và `Together`) \n",
    "- `Single` (gồm `Single` (trong bảng dữ liệu cũ), `Divorced`, `Widow`, `Alone`)"
   ]
  },
  {
   "cell_type": "code",
   "execution_count": 14,
   "id": "fd6bda86",
   "metadata": {},
   "outputs": [],
   "source": [
    "customer_df  = customer_df[customer_df['Marital_Status'] != 'YOLO']\n",
    "\n",
    "customer_df = customer_df[customer_df['Marital_Status'] != 'Absurd']\n",
    "\n",
    "customer_df['Marital_Status'] = customer_df['Marital_Status'].replace(['Married', 'Together'], 'InRelationship')\n",
    "\n",
    "customer_df['Marital_Status'] = customer_df['Marital_Status'].replace(['Divorced', 'Widow', 'Alone', 'Absurd', 'YOLO'], 'Single')"
   ]
  },
  {
   "cell_type": "code",
   "execution_count": 15,
   "id": "a5943b71",
   "metadata": {},
   "outputs": [
    {
     "data": {
      "text/plain": [
       "InRelationship    1443\n",
       "Single             790\n",
       "Name: Marital_Status, dtype: int64"
      ]
     },
     "execution_count": 15,
     "metadata": {},
     "output_type": "execute_result"
    }
   ],
   "source": [
    "customer_df['Marital_Status'].value_counts()"
   ]
  },
  {
   "cell_type": "markdown",
   "id": "f8287143",
   "metadata": {},
   "source": [
    "### Các cột khác"
   ]
  },
  {
   "cell_type": "markdown",
   "id": "6eeeb550",
   "metadata": {},
   "source": [
    "Nhập cột `Kidhome` và `Teenhome` lại thành cột `Kids`\n",
    "\n",
    "Tính tổng số lượng mua tất cả các mặc hàng và lưu vào cột `Expenses`\n",
    "\n",
    "Tính tổng số lượng tham gia chiến dịch, lưu dữ liệu vào cột `TotaleAcceptedCmp`\n",
    "\n",
    "Tính tổng số lượt mua hàng, lưu vào cột `NumTotalPurchases`"
   ]
  },
  {
   "cell_type": "code",
   "execution_count": 16,
   "id": "0dfe1e93",
   "metadata": {},
   "outputs": [],
   "source": [
    "# Kidhome + Teenhome = Kids\n",
    "customer_df['Kids'] = customer_df['Kidhome'] + customer_df['Teenhome']\n",
    "# MntWines + MntFruits + MntMeatProducts + MntFishProducts + MntSweetProducts + MntGoldProds = Expenses\n",
    "customer_df['Expenses'] = customer_df['MntWines'] + customer_df['MntFruits'] + customer_df['MntMeatProducts'] + customer_df['MntFishProducts'] + customer_df['MntSweetProducts'] + customer_df['MntGoldProds']\n",
    "# AcceptedCmp1 + AcceptedCmp2 + AcceptedCmp3 + AcceptedCmp4 + AcceptedCmp5 + Response = TotalAcceptedCmp\n",
    "customer_df['TotalAcceptedCmp'] = customer_df['AcceptedCmp1'] + customer_df['AcceptedCmp2'] + customer_df['AcceptedCmp3'] + customer_df['AcceptedCmp4'] + customer_df['AcceptedCmp5'] + customer_df['Response']\n",
    "# NumWebPurchases + NumCatalogPurchases + NumStorePurchases + NumDealsPurchases = NumTotalPurchases\n",
    "customer_df['NumTotalPurchases'] = customer_df['NumWebPurchases'] + customer_df['NumCatalogPurchases'] + customer_df['NumStorePurchases'] + customer_df['NumDealsPurchases']"
   ]
  },
  {
   "cell_type": "markdown",
   "id": "770c6064",
   "metadata": {},
   "source": [
    "### Xóa các cột để giảm số chiều của dữ liệu"
   ]
  },
  {
   "cell_type": "code",
   "execution_count": 17,
   "id": "2ed2aaa4",
   "metadata": {},
   "outputs": [],
   "source": [
    "col_del = [\"AcceptedCmp1\" , \"AcceptedCmp2\", \"AcceptedCmp3\" , \"AcceptedCmp4\", \"AcceptedCmp5\", \"Response\", \n",
    "           \"NumWebPurchases\", \"NumCatalogPurchases\", \"NumStorePurchases\", \"NumDealsPurchases\", \n",
    "           \"Kidhome\", \"Teenhome\",'Year_Birth']\n",
    "customer_df = customer_df.drop(columns=col_del,axis=1)"
   ]
  },
  {
   "cell_type": "markdown",
   "id": "0b45c203",
   "metadata": {},
   "source": [
    "### Đổi vị trí các columns cho dễ nhìn"
   ]
  },
  {
   "cell_type": "code",
   "execution_count": 18,
   "id": "5312a298",
   "metadata": {},
   "outputs": [
    {
     "data": {
      "text/html": [
       "<div>\n",
       "<style scoped>\n",
       "    .dataframe tbody tr th:only-of-type {\n",
       "        vertical-align: middle;\n",
       "    }\n",
       "\n",
       "    .dataframe tbody tr th {\n",
       "        vertical-align: top;\n",
       "    }\n",
       "\n",
       "    .dataframe thead th {\n",
       "        text-align: right;\n",
       "    }\n",
       "</style>\n",
       "<table border=\"1\" class=\"dataframe\">\n",
       "  <thead>\n",
       "    <tr style=\"text-align: right;\">\n",
       "      <th></th>\n",
       "      <th>ID</th>\n",
       "      <th>Age</th>\n",
       "      <th>Education</th>\n",
       "      <th>Marital_Status</th>\n",
       "      <th>Income</th>\n",
       "      <th>Kids</th>\n",
       "      <th>Expenses</th>\n",
       "      <th>MntWines</th>\n",
       "      <th>MntFruits</th>\n",
       "      <th>MntMeatProducts</th>\n",
       "      <th>MntFishProducts</th>\n",
       "      <th>MntSweetProducts</th>\n",
       "      <th>MntGoldProds</th>\n",
       "      <th>Dt_Customer</th>\n",
       "      <th>Recency</th>\n",
       "      <th>NumWebVisitsMonth</th>\n",
       "      <th>Complain</th>\n",
       "      <th>TotalAcceptedCmp</th>\n",
       "      <th>NumTotalPurchases</th>\n",
       "    </tr>\n",
       "  </thead>\n",
       "  <tbody>\n",
       "    <tr>\n",
       "      <th>0</th>\n",
       "      <td>5524</td>\n",
       "      <td>64</td>\n",
       "      <td>Graduation</td>\n",
       "      <td>Single</td>\n",
       "      <td>58138.0</td>\n",
       "      <td>0</td>\n",
       "      <td>1617</td>\n",
       "      <td>635</td>\n",
       "      <td>88</td>\n",
       "      <td>546</td>\n",
       "      <td>172</td>\n",
       "      <td>88</td>\n",
       "      <td>88</td>\n",
       "      <td>04-09-2012</td>\n",
       "      <td>58</td>\n",
       "      <td>7</td>\n",
       "      <td>0</td>\n",
       "      <td>1</td>\n",
       "      <td>25</td>\n",
       "    </tr>\n",
       "    <tr>\n",
       "      <th>1</th>\n",
       "      <td>2174</td>\n",
       "      <td>67</td>\n",
       "      <td>Graduation</td>\n",
       "      <td>Single</td>\n",
       "      <td>46344.0</td>\n",
       "      <td>2</td>\n",
       "      <td>27</td>\n",
       "      <td>11</td>\n",
       "      <td>1</td>\n",
       "      <td>6</td>\n",
       "      <td>2</td>\n",
       "      <td>1</td>\n",
       "      <td>6</td>\n",
       "      <td>08-03-2014</td>\n",
       "      <td>38</td>\n",
       "      <td>5</td>\n",
       "      <td>0</td>\n",
       "      <td>0</td>\n",
       "      <td>6</td>\n",
       "    </tr>\n",
       "    <tr>\n",
       "      <th>2</th>\n",
       "      <td>4141</td>\n",
       "      <td>56</td>\n",
       "      <td>Graduation</td>\n",
       "      <td>InRelationship</td>\n",
       "      <td>71613.0</td>\n",
       "      <td>0</td>\n",
       "      <td>776</td>\n",
       "      <td>426</td>\n",
       "      <td>49</td>\n",
       "      <td>127</td>\n",
       "      <td>111</td>\n",
       "      <td>21</td>\n",
       "      <td>42</td>\n",
       "      <td>21-08-2013</td>\n",
       "      <td>26</td>\n",
       "      <td>4</td>\n",
       "      <td>0</td>\n",
       "      <td>0</td>\n",
       "      <td>21</td>\n",
       "    </tr>\n",
       "    <tr>\n",
       "      <th>3</th>\n",
       "      <td>6182</td>\n",
       "      <td>37</td>\n",
       "      <td>Graduation</td>\n",
       "      <td>InRelationship</td>\n",
       "      <td>26646.0</td>\n",
       "      <td>1</td>\n",
       "      <td>53</td>\n",
       "      <td>11</td>\n",
       "      <td>4</td>\n",
       "      <td>20</td>\n",
       "      <td>10</td>\n",
       "      <td>3</td>\n",
       "      <td>5</td>\n",
       "      <td>10-02-2014</td>\n",
       "      <td>26</td>\n",
       "      <td>6</td>\n",
       "      <td>0</td>\n",
       "      <td>0</td>\n",
       "      <td>8</td>\n",
       "    </tr>\n",
       "    <tr>\n",
       "      <th>4</th>\n",
       "      <td>5324</td>\n",
       "      <td>40</td>\n",
       "      <td>PhD</td>\n",
       "      <td>InRelationship</td>\n",
       "      <td>58293.0</td>\n",
       "      <td>1</td>\n",
       "      <td>422</td>\n",
       "      <td>173</td>\n",
       "      <td>43</td>\n",
       "      <td>118</td>\n",
       "      <td>46</td>\n",
       "      <td>27</td>\n",
       "      <td>15</td>\n",
       "      <td>19-01-2014</td>\n",
       "      <td>94</td>\n",
       "      <td>5</td>\n",
       "      <td>0</td>\n",
       "      <td>0</td>\n",
       "      <td>19</td>\n",
       "    </tr>\n",
       "    <tr>\n",
       "      <th>...</th>\n",
       "      <td>...</td>\n",
       "      <td>...</td>\n",
       "      <td>...</td>\n",
       "      <td>...</td>\n",
       "      <td>...</td>\n",
       "      <td>...</td>\n",
       "      <td>...</td>\n",
       "      <td>...</td>\n",
       "      <td>...</td>\n",
       "      <td>...</td>\n",
       "      <td>...</td>\n",
       "      <td>...</td>\n",
       "      <td>...</td>\n",
       "      <td>...</td>\n",
       "      <td>...</td>\n",
       "      <td>...</td>\n",
       "      <td>...</td>\n",
       "      <td>...</td>\n",
       "      <td>...</td>\n",
       "    </tr>\n",
       "    <tr>\n",
       "      <th>2235</th>\n",
       "      <td>10870</td>\n",
       "      <td>54</td>\n",
       "      <td>Graduation</td>\n",
       "      <td>InRelationship</td>\n",
       "      <td>61223.0</td>\n",
       "      <td>1</td>\n",
       "      <td>1341</td>\n",
       "      <td>709</td>\n",
       "      <td>43</td>\n",
       "      <td>182</td>\n",
       "      <td>42</td>\n",
       "      <td>118</td>\n",
       "      <td>247</td>\n",
       "      <td>13-06-2013</td>\n",
       "      <td>46</td>\n",
       "      <td>5</td>\n",
       "      <td>0</td>\n",
       "      <td>0</td>\n",
       "      <td>18</td>\n",
       "    </tr>\n",
       "    <tr>\n",
       "      <th>2236</th>\n",
       "      <td>4001</td>\n",
       "      <td>75</td>\n",
       "      <td>PhD</td>\n",
       "      <td>InRelationship</td>\n",
       "      <td>64014.0</td>\n",
       "      <td>3</td>\n",
       "      <td>444</td>\n",
       "      <td>406</td>\n",
       "      <td>0</td>\n",
       "      <td>30</td>\n",
       "      <td>0</td>\n",
       "      <td>0</td>\n",
       "      <td>8</td>\n",
       "      <td>10-06-2014</td>\n",
       "      <td>56</td>\n",
       "      <td>7</td>\n",
       "      <td>0</td>\n",
       "      <td>1</td>\n",
       "      <td>22</td>\n",
       "    </tr>\n",
       "    <tr>\n",
       "      <th>2237</th>\n",
       "      <td>7270</td>\n",
       "      <td>40</td>\n",
       "      <td>Graduation</td>\n",
       "      <td>Single</td>\n",
       "      <td>56981.0</td>\n",
       "      <td>0</td>\n",
       "      <td>1241</td>\n",
       "      <td>908</td>\n",
       "      <td>48</td>\n",
       "      <td>217</td>\n",
       "      <td>32</td>\n",
       "      <td>12</td>\n",
       "      <td>24</td>\n",
       "      <td>25-01-2014</td>\n",
       "      <td>91</td>\n",
       "      <td>6</td>\n",
       "      <td>0</td>\n",
       "      <td>1</td>\n",
       "      <td>19</td>\n",
       "    </tr>\n",
       "    <tr>\n",
       "      <th>2238</th>\n",
       "      <td>8235</td>\n",
       "      <td>65</td>\n",
       "      <td>Master</td>\n",
       "      <td>InRelationship</td>\n",
       "      <td>69245.0</td>\n",
       "      <td>1</td>\n",
       "      <td>843</td>\n",
       "      <td>428</td>\n",
       "      <td>30</td>\n",
       "      <td>214</td>\n",
       "      <td>80</td>\n",
       "      <td>30</td>\n",
       "      <td>61</td>\n",
       "      <td>24-01-2014</td>\n",
       "      <td>8</td>\n",
       "      <td>3</td>\n",
       "      <td>0</td>\n",
       "      <td>0</td>\n",
       "      <td>23</td>\n",
       "    </tr>\n",
       "    <tr>\n",
       "      <th>2239</th>\n",
       "      <td>9405</td>\n",
       "      <td>67</td>\n",
       "      <td>PhD</td>\n",
       "      <td>InRelationship</td>\n",
       "      <td>52869.0</td>\n",
       "      <td>2</td>\n",
       "      <td>172</td>\n",
       "      <td>84</td>\n",
       "      <td>3</td>\n",
       "      <td>61</td>\n",
       "      <td>2</td>\n",
       "      <td>1</td>\n",
       "      <td>21</td>\n",
       "      <td>15-10-2012</td>\n",
       "      <td>40</td>\n",
       "      <td>7</td>\n",
       "      <td>0</td>\n",
       "      <td>1</td>\n",
       "      <td>11</td>\n",
       "    </tr>\n",
       "  </tbody>\n",
       "</table>\n",
       "<p>2233 rows × 19 columns</p>\n",
       "</div>"
      ],
      "text/plain": [
       "         ID  Age   Education  Marital_Status   Income  Kids  Expenses  \\\n",
       "0      5524   64  Graduation          Single  58138.0     0      1617   \n",
       "1      2174   67  Graduation          Single  46344.0     2        27   \n",
       "2      4141   56  Graduation  InRelationship  71613.0     0       776   \n",
       "3      6182   37  Graduation  InRelationship  26646.0     1        53   \n",
       "4      5324   40         PhD  InRelationship  58293.0     1       422   \n",
       "...     ...  ...         ...             ...      ...   ...       ...   \n",
       "2235  10870   54  Graduation  InRelationship  61223.0     1      1341   \n",
       "2236   4001   75         PhD  InRelationship  64014.0     3       444   \n",
       "2237   7270   40  Graduation          Single  56981.0     0      1241   \n",
       "2238   8235   65      Master  InRelationship  69245.0     1       843   \n",
       "2239   9405   67         PhD  InRelationship  52869.0     2       172   \n",
       "\n",
       "      MntWines  MntFruits  MntMeatProducts  MntFishProducts  MntSweetProducts  \\\n",
       "0          635         88              546              172                88   \n",
       "1           11          1                6                2                 1   \n",
       "2          426         49              127              111                21   \n",
       "3           11          4               20               10                 3   \n",
       "4          173         43              118               46                27   \n",
       "...        ...        ...              ...              ...               ...   \n",
       "2235       709         43              182               42               118   \n",
       "2236       406          0               30                0                 0   \n",
       "2237       908         48              217               32                12   \n",
       "2238       428         30              214               80                30   \n",
       "2239        84          3               61                2                 1   \n",
       "\n",
       "      MntGoldProds Dt_Customer  Recency  NumWebVisitsMonth  Complain  \\\n",
       "0               88  04-09-2012       58                  7         0   \n",
       "1                6  08-03-2014       38                  5         0   \n",
       "2               42  21-08-2013       26                  4         0   \n",
       "3                5  10-02-2014       26                  6         0   \n",
       "4               15  19-01-2014       94                  5         0   \n",
       "...            ...         ...      ...                ...       ...   \n",
       "2235           247  13-06-2013       46                  5         0   \n",
       "2236             8  10-06-2014       56                  7         0   \n",
       "2237            24  25-01-2014       91                  6         0   \n",
       "2238            61  24-01-2014        8                  3         0   \n",
       "2239            21  15-10-2012       40                  7         0   \n",
       "\n",
       "      TotalAcceptedCmp  NumTotalPurchases  \n",
       "0                    1                 25  \n",
       "1                    0                  6  \n",
       "2                    0                 21  \n",
       "3                    0                  8  \n",
       "4                    0                 19  \n",
       "...                ...                ...  \n",
       "2235                 0                 18  \n",
       "2236                 1                 22  \n",
       "2237                 1                 19  \n",
       "2238                 0                 23  \n",
       "2239                 1                 11  \n",
       "\n",
       "[2233 rows x 19 columns]"
      ]
     },
     "execution_count": 18,
     "metadata": {},
     "output_type": "execute_result"
    }
   ],
   "source": [
    "new_columns = ['ID', 'Age', 'Education', 'Marital_Status', 'Income','Kids', 'Expenses',\n",
    "         'MntWines', 'MntFruits', 'MntMeatProducts',\n",
    "       'MntFishProducts', 'MntSweetProducts', 'MntGoldProds', 'Dt_Customer','Recency',\n",
    "       'NumWebVisitsMonth', 'Complain',   \n",
    "       'TotalAcceptedCmp', 'NumTotalPurchases']\n",
    "customer_df = customer_df.reindex(columns = new_columns)\n",
    "customer_df"
   ]
  },
  {
   "cell_type": "markdown",
   "id": "cdb47944",
   "metadata": {},
   "source": [
    "### Xử lý cột Dt_Customer:"
   ]
  },
  {
   "cell_type": "markdown",
   "id": "806cffed",
   "metadata": {},
   "source": [
    "Chuyển `dtype` của cột `Dt_Customer` sang kiểu dữ liệu thời gian:"
   ]
  },
  {
   "cell_type": "markdown",
   "id": "adafe02c",
   "metadata": {},
   "source": [
    "Xem thử có khách hàng nào đăng ký trong vòng 2 năm qua (tức khách hàng hoạt động chưa được 2 năm), điều này có thể ảnh hưởng tới số lượng mua của khách hàng ở những cột sau.  \n",
    "Không có khách hàng nào đăng ký tài khoản thành viên trong 2 năm qua."
   ]
  },
  {
   "cell_type": "code",
   "execution_count": 19,
   "id": "e78f9d78",
   "metadata": {},
   "outputs": [],
   "source": [
    "customer_df['Dt_Customer'] = pd.to_datetime(customer_df['Dt_Customer'], format='%d-%m-%Y')"
   ]
  },
  {
   "cell_type": "code",
   "execution_count": 20,
   "id": "ab4952db",
   "metadata": {},
   "outputs": [],
   "source": [
    "# TEST \n",
    "# Nếu dtype của cột \"Date\" đã được chuyển sang datetime thì phải dùng được .dt.\n",
    "assert customer_df['Dt_Customer'].dt.year.min() == 2012"
   ]
  },
  {
   "cell_type": "markdown",
   "id": "4d9f1ac3",
   "metadata": {},
   "source": [
    "## Khám phá dữ liệu (tiếp tục)"
   ]
  },
  {
   "cell_type": "markdown",
   "id": "e97ac683",
   "metadata": {},
   "source": [
    "Ta thấy cột `Income` là cột duy nhất có giá trị thiếu."
   ]
  },
  {
   "cell_type": "code",
   "execution_count": 21,
   "id": "ecbe31f1",
   "metadata": {},
   "outputs": [
    {
     "name": "stdout",
     "output_type": "stream",
     "text": [
      "Có 24 dòng có giá trị thiếu\n"
     ]
    }
   ],
   "source": [
    "num_of_missing_income = customer_df['Income'].isnull().sum()\n",
    "print(f'Có {num_of_missing_income} dòng có giá trị thiếu')"
   ]
  },
  {
   "cell_type": "markdown",
   "id": "b7222cd7",
   "metadata": {},
   "source": [
    "Do tỷ lệ mẫu thiếu khá nhỏ so với tổng thể nên trong đồ án này, nhóm sẽ tiến hành bỏ các dòng thiếu thông tin cột `Income` đi."
   ]
  },
  {
   "cell_type": "code",
   "execution_count": 22,
   "id": "6d5f3ae0",
   "metadata": {},
   "outputs": [
    {
     "data": {
      "text/html": [
       "<div>\n",
       "<style scoped>\n",
       "    .dataframe tbody tr th:only-of-type {\n",
       "        vertical-align: middle;\n",
       "    }\n",
       "\n",
       "    .dataframe tbody tr th {\n",
       "        vertical-align: top;\n",
       "    }\n",
       "\n",
       "    .dataframe thead th {\n",
       "        text-align: right;\n",
       "    }\n",
       "</style>\n",
       "<table border=\"1\" class=\"dataframe\">\n",
       "  <thead>\n",
       "    <tr style=\"text-align: right;\">\n",
       "      <th></th>\n",
       "      <th>ID</th>\n",
       "      <th>Age</th>\n",
       "      <th>Education</th>\n",
       "      <th>Marital_Status</th>\n",
       "      <th>Income</th>\n",
       "      <th>Kids</th>\n",
       "      <th>Expenses</th>\n",
       "      <th>MntWines</th>\n",
       "      <th>MntFruits</th>\n",
       "      <th>MntMeatProducts</th>\n",
       "      <th>MntFishProducts</th>\n",
       "      <th>MntSweetProducts</th>\n",
       "      <th>MntGoldProds</th>\n",
       "      <th>Dt_Customer</th>\n",
       "      <th>Recency</th>\n",
       "      <th>NumWebVisitsMonth</th>\n",
       "      <th>Complain</th>\n",
       "      <th>TotalAcceptedCmp</th>\n",
       "      <th>NumTotalPurchases</th>\n",
       "    </tr>\n",
       "  </thead>\n",
       "  <tbody>\n",
       "    <tr>\n",
       "      <th>0</th>\n",
       "      <td>5524</td>\n",
       "      <td>64</td>\n",
       "      <td>Graduation</td>\n",
       "      <td>Single</td>\n",
       "      <td>58138.0</td>\n",
       "      <td>0</td>\n",
       "      <td>1617</td>\n",
       "      <td>635</td>\n",
       "      <td>88</td>\n",
       "      <td>546</td>\n",
       "      <td>172</td>\n",
       "      <td>88</td>\n",
       "      <td>88</td>\n",
       "      <td>2012-09-04</td>\n",
       "      <td>58</td>\n",
       "      <td>7</td>\n",
       "      <td>0</td>\n",
       "      <td>1</td>\n",
       "      <td>25</td>\n",
       "    </tr>\n",
       "    <tr>\n",
       "      <th>1</th>\n",
       "      <td>2174</td>\n",
       "      <td>67</td>\n",
       "      <td>Graduation</td>\n",
       "      <td>Single</td>\n",
       "      <td>46344.0</td>\n",
       "      <td>2</td>\n",
       "      <td>27</td>\n",
       "      <td>11</td>\n",
       "      <td>1</td>\n",
       "      <td>6</td>\n",
       "      <td>2</td>\n",
       "      <td>1</td>\n",
       "      <td>6</td>\n",
       "      <td>2014-03-08</td>\n",
       "      <td>38</td>\n",
       "      <td>5</td>\n",
       "      <td>0</td>\n",
       "      <td>0</td>\n",
       "      <td>6</td>\n",
       "    </tr>\n",
       "    <tr>\n",
       "      <th>2</th>\n",
       "      <td>4141</td>\n",
       "      <td>56</td>\n",
       "      <td>Graduation</td>\n",
       "      <td>InRelationship</td>\n",
       "      <td>71613.0</td>\n",
       "      <td>0</td>\n",
       "      <td>776</td>\n",
       "      <td>426</td>\n",
       "      <td>49</td>\n",
       "      <td>127</td>\n",
       "      <td>111</td>\n",
       "      <td>21</td>\n",
       "      <td>42</td>\n",
       "      <td>2013-08-21</td>\n",
       "      <td>26</td>\n",
       "      <td>4</td>\n",
       "      <td>0</td>\n",
       "      <td>0</td>\n",
       "      <td>21</td>\n",
       "    </tr>\n",
       "    <tr>\n",
       "      <th>3</th>\n",
       "      <td>6182</td>\n",
       "      <td>37</td>\n",
       "      <td>Graduation</td>\n",
       "      <td>InRelationship</td>\n",
       "      <td>26646.0</td>\n",
       "      <td>1</td>\n",
       "      <td>53</td>\n",
       "      <td>11</td>\n",
       "      <td>4</td>\n",
       "      <td>20</td>\n",
       "      <td>10</td>\n",
       "      <td>3</td>\n",
       "      <td>5</td>\n",
       "      <td>2014-02-10</td>\n",
       "      <td>26</td>\n",
       "      <td>6</td>\n",
       "      <td>0</td>\n",
       "      <td>0</td>\n",
       "      <td>8</td>\n",
       "    </tr>\n",
       "    <tr>\n",
       "      <th>4</th>\n",
       "      <td>5324</td>\n",
       "      <td>40</td>\n",
       "      <td>PhD</td>\n",
       "      <td>InRelationship</td>\n",
       "      <td>58293.0</td>\n",
       "      <td>1</td>\n",
       "      <td>422</td>\n",
       "      <td>173</td>\n",
       "      <td>43</td>\n",
       "      <td>118</td>\n",
       "      <td>46</td>\n",
       "      <td>27</td>\n",
       "      <td>15</td>\n",
       "      <td>2014-01-19</td>\n",
       "      <td>94</td>\n",
       "      <td>5</td>\n",
       "      <td>0</td>\n",
       "      <td>0</td>\n",
       "      <td>19</td>\n",
       "    </tr>\n",
       "    <tr>\n",
       "      <th>...</th>\n",
       "      <td>...</td>\n",
       "      <td>...</td>\n",
       "      <td>...</td>\n",
       "      <td>...</td>\n",
       "      <td>...</td>\n",
       "      <td>...</td>\n",
       "      <td>...</td>\n",
       "      <td>...</td>\n",
       "      <td>...</td>\n",
       "      <td>...</td>\n",
       "      <td>...</td>\n",
       "      <td>...</td>\n",
       "      <td>...</td>\n",
       "      <td>...</td>\n",
       "      <td>...</td>\n",
       "      <td>...</td>\n",
       "      <td>...</td>\n",
       "      <td>...</td>\n",
       "      <td>...</td>\n",
       "    </tr>\n",
       "    <tr>\n",
       "      <th>2235</th>\n",
       "      <td>10870</td>\n",
       "      <td>54</td>\n",
       "      <td>Graduation</td>\n",
       "      <td>InRelationship</td>\n",
       "      <td>61223.0</td>\n",
       "      <td>1</td>\n",
       "      <td>1341</td>\n",
       "      <td>709</td>\n",
       "      <td>43</td>\n",
       "      <td>182</td>\n",
       "      <td>42</td>\n",
       "      <td>118</td>\n",
       "      <td>247</td>\n",
       "      <td>2013-06-13</td>\n",
       "      <td>46</td>\n",
       "      <td>5</td>\n",
       "      <td>0</td>\n",
       "      <td>0</td>\n",
       "      <td>18</td>\n",
       "    </tr>\n",
       "    <tr>\n",
       "      <th>2236</th>\n",
       "      <td>4001</td>\n",
       "      <td>75</td>\n",
       "      <td>PhD</td>\n",
       "      <td>InRelationship</td>\n",
       "      <td>64014.0</td>\n",
       "      <td>3</td>\n",
       "      <td>444</td>\n",
       "      <td>406</td>\n",
       "      <td>0</td>\n",
       "      <td>30</td>\n",
       "      <td>0</td>\n",
       "      <td>0</td>\n",
       "      <td>8</td>\n",
       "      <td>2014-06-10</td>\n",
       "      <td>56</td>\n",
       "      <td>7</td>\n",
       "      <td>0</td>\n",
       "      <td>1</td>\n",
       "      <td>22</td>\n",
       "    </tr>\n",
       "    <tr>\n",
       "      <th>2237</th>\n",
       "      <td>7270</td>\n",
       "      <td>40</td>\n",
       "      <td>Graduation</td>\n",
       "      <td>Single</td>\n",
       "      <td>56981.0</td>\n",
       "      <td>0</td>\n",
       "      <td>1241</td>\n",
       "      <td>908</td>\n",
       "      <td>48</td>\n",
       "      <td>217</td>\n",
       "      <td>32</td>\n",
       "      <td>12</td>\n",
       "      <td>24</td>\n",
       "      <td>2014-01-25</td>\n",
       "      <td>91</td>\n",
       "      <td>6</td>\n",
       "      <td>0</td>\n",
       "      <td>1</td>\n",
       "      <td>19</td>\n",
       "    </tr>\n",
       "    <tr>\n",
       "      <th>2238</th>\n",
       "      <td>8235</td>\n",
       "      <td>65</td>\n",
       "      <td>Master</td>\n",
       "      <td>InRelationship</td>\n",
       "      <td>69245.0</td>\n",
       "      <td>1</td>\n",
       "      <td>843</td>\n",
       "      <td>428</td>\n",
       "      <td>30</td>\n",
       "      <td>214</td>\n",
       "      <td>80</td>\n",
       "      <td>30</td>\n",
       "      <td>61</td>\n",
       "      <td>2014-01-24</td>\n",
       "      <td>8</td>\n",
       "      <td>3</td>\n",
       "      <td>0</td>\n",
       "      <td>0</td>\n",
       "      <td>23</td>\n",
       "    </tr>\n",
       "    <tr>\n",
       "      <th>2239</th>\n",
       "      <td>9405</td>\n",
       "      <td>67</td>\n",
       "      <td>PhD</td>\n",
       "      <td>InRelationship</td>\n",
       "      <td>52869.0</td>\n",
       "      <td>2</td>\n",
       "      <td>172</td>\n",
       "      <td>84</td>\n",
       "      <td>3</td>\n",
       "      <td>61</td>\n",
       "      <td>2</td>\n",
       "      <td>1</td>\n",
       "      <td>21</td>\n",
       "      <td>2012-10-15</td>\n",
       "      <td>40</td>\n",
       "      <td>7</td>\n",
       "      <td>0</td>\n",
       "      <td>1</td>\n",
       "      <td>11</td>\n",
       "    </tr>\n",
       "  </tbody>\n",
       "</table>\n",
       "<p>2209 rows × 19 columns</p>\n",
       "</div>"
      ],
      "text/plain": [
       "         ID  Age   Education  Marital_Status   Income  Kids  Expenses  \\\n",
       "0      5524   64  Graduation          Single  58138.0     0      1617   \n",
       "1      2174   67  Graduation          Single  46344.0     2        27   \n",
       "2      4141   56  Graduation  InRelationship  71613.0     0       776   \n",
       "3      6182   37  Graduation  InRelationship  26646.0     1        53   \n",
       "4      5324   40         PhD  InRelationship  58293.0     1       422   \n",
       "...     ...  ...         ...             ...      ...   ...       ...   \n",
       "2235  10870   54  Graduation  InRelationship  61223.0     1      1341   \n",
       "2236   4001   75         PhD  InRelationship  64014.0     3       444   \n",
       "2237   7270   40  Graduation          Single  56981.0     0      1241   \n",
       "2238   8235   65      Master  InRelationship  69245.0     1       843   \n",
       "2239   9405   67         PhD  InRelationship  52869.0     2       172   \n",
       "\n",
       "      MntWines  MntFruits  MntMeatProducts  MntFishProducts  MntSweetProducts  \\\n",
       "0          635         88              546              172                88   \n",
       "1           11          1                6                2                 1   \n",
       "2          426         49              127              111                21   \n",
       "3           11          4               20               10                 3   \n",
       "4          173         43              118               46                27   \n",
       "...        ...        ...              ...              ...               ...   \n",
       "2235       709         43              182               42               118   \n",
       "2236       406          0               30                0                 0   \n",
       "2237       908         48              217               32                12   \n",
       "2238       428         30              214               80                30   \n",
       "2239        84          3               61                2                 1   \n",
       "\n",
       "      MntGoldProds Dt_Customer  Recency  NumWebVisitsMonth  Complain  \\\n",
       "0               88  2012-09-04       58                  7         0   \n",
       "1                6  2014-03-08       38                  5         0   \n",
       "2               42  2013-08-21       26                  4         0   \n",
       "3                5  2014-02-10       26                  6         0   \n",
       "4               15  2014-01-19       94                  5         0   \n",
       "...            ...         ...      ...                ...       ...   \n",
       "2235           247  2013-06-13       46                  5         0   \n",
       "2236             8  2014-06-10       56                  7         0   \n",
       "2237            24  2014-01-25       91                  6         0   \n",
       "2238            61  2014-01-24        8                  3         0   \n",
       "2239            21  2012-10-15       40                  7         0   \n",
       "\n",
       "      TotalAcceptedCmp  NumTotalPurchases  \n",
       "0                    1                 25  \n",
       "1                    0                  6  \n",
       "2                    0                 21  \n",
       "3                    0                  8  \n",
       "4                    0                 19  \n",
       "...                ...                ...  \n",
       "2235                 0                 18  \n",
       "2236                 1                 22  \n",
       "2237                 1                 19  \n",
       "2238                 0                 23  \n",
       "2239                 1                 11  \n",
       "\n",
       "[2209 rows x 19 columns]"
      ]
     },
     "execution_count": 22,
     "metadata": {},
     "output_type": "execute_result"
    }
   ],
   "source": [
    "customer_df = customer_df.dropna(axis=0)\n",
    "customer_df"
   ]
  },
  {
   "cell_type": "markdown",
   "id": "3af211f8",
   "metadata": {},
   "source": [
    "### Xử lý ngoại lai (outlier)"
   ]
  },
  {
   "cell_type": "code",
   "execution_count": 23,
   "id": "351741d6",
   "metadata": {
    "scrolled": false
   },
   "outputs": [
    {
     "data": {
      "image/png": "[encoded data removed]",
      "text/plain": [
       "<Figure size 432x288 with 1 Axes>"
      ]
     },
     "metadata": {
      "needs_background": "light"
     },
     "output_type": "display_data"
    },
    {
     "data": {
      "image/png": "[encoded data removed]",
      "text/plain": [
       "<Figure size 432x288 with 1 Axes>"
      ]
     },
     "metadata": {
      "needs_background": "light"
     },
     "output_type": "display_data"
    },
    {
     "data": {
      "image/png": "[encoded data removed]",
      "text/plain": [
       "<Figure size 432x288 with 1 Axes>"
      ]
     },
     "metadata": {
      "needs_background": "light"
     },
     "output_type": "display_data"
    },
    {
     "data": {
      "image/png": "[encoded data removed]",
      "text/plain": [
       "<Figure size 432x288 with 1 Axes>"
      ]
     },
     "metadata": {
      "needs_background": "light"
     },
     "output_type": "display_data"
    },
    {
     "data": {
      "image/png": "[encoded data removed]",
      "text/plain": [
       "<Figure size 432x288 with 1 Axes>"
      ]
     },
     "metadata": {
      "needs_background": "light"
     },
     "output_type": "display_data"
    },
    {
     "data": {
      "image/png": "[encoded data removed]",
      "text/plain": [
       "<Figure size 432x288 with 1 Axes>"
      ]
     },
     "metadata": {
      "needs_background": "light"
     },
     "output_type": "display_data"
    },
    {
     "data": {
      "image/png": "[encoded data removed]",
      "text/plain": [
       "<Figure size 432x288 with 1 Axes>"
      ]
     },
     "metadata": {
      "needs_background": "light"
     },
     "output_type": "display_data"
    },
    {
     "data": {
      "image/png": "[encoded data removed]",
      "text/plain": [
       "<Figure size 432x288 with 1 Axes>"
      ]
     },
     "metadata": {
      "needs_background": "light"
     },
     "output_type": "display_data"
    },
    {
     "data": {
      "image/png": "[encoded data removed]",
      "text/plain": [
       "<Figure size 432x288 with 1 Axes>"
      ]
     },
     "metadata": {
      "needs_background": "light"
     },
     "output_type": "display_data"
    },
    {
     "data": {
      "image/png": "[encoded data removed]",
      "text/plain": [
       "<Figure size 432x288 with 1 Axes>"
      ]
     },
     "metadata": {
      "needs_background": "light"
     },
     "output_type": "display_data"
    },
    {
     "data": {
      "image/png": "[encoded data removed]",
      "text/plain": [
       "<Figure size 432x288 with 1 Axes>"
      ]
     },
     "metadata": {
      "needs_background": "light"
     },
     "output_type": "display_data"
    },
    {
     "data": {
      "image/png": "[encoded data removed]",
      "text/plain": [
       "<Figure size 432x288 with 1 Axes>"
      ]
     },
     "metadata": {
      "needs_background": "light"
     },
     "output_type": "display_data"
    },
    {
     "data": {
      "image/png": "[encoded data removed]",
      "text/plain": [
       "<Figure size 432x288 with 1 Axes>"
      ]
     },
     "metadata": {
      "needs_background": "light"
     },
     "output_type": "display_data"
    },
    {
     "data": {
      "image/png": "[encoded data removed]",
      "text/plain": [
       "<Figure size 432x288 with 1 Axes>"
      ]
     },
     "metadata": {
      "needs_background": "light"
     },
     "output_type": "display_data"
    },
    {
     "data": {
      "image/png": "[encoded data removed]",
      "text/plain": [
       "<Figure size 432x288 with 1 Axes>"
      ]
     },
     "metadata": {
      "needs_background": "light"
     },
     "output_type": "display_data"
    },
    {
     "data": {
      "image/png": "[encoded data removed]",
      "text/plain": [
       "<Figure size 432x288 with 1 Axes>"
      ]
     },
     "metadata": {
      "needs_background": "light"
     },
     "output_type": "display_data"
    }
   ],
   "source": [
    "def detect_outliers(frame):\n",
    "    for i in frame.columns:\n",
    "        if(frame[i].dtype == 'int64'):\n",
    "            sns.boxplot(frame[i])\n",
    "            plt.show()\n",
    "            \n",
    "        elif(frame[i].dtype == 'float64'):\n",
    "            sns.boxplot(frame[i])\n",
    "            plt.show()\n",
    "            \n",
    "detect_outliers(customer_df)"
   ]
  },
  {
   "cell_type": "markdown",
   "id": "2541db9b",
   "metadata": {},
   "source": [
    "Cột `Income` có các giá trị trải từ 1730 tới 666666. Gần 90% thu nhập có giá trị từ 20000 tới 85000, đây là khoảng ta tập trung khai thác, những giá trị ngoài khoảng này sẽ được coi là outlier. Tiến hành xoá các dòng outlier."
   ]
  },
  {
   "cell_type": "code",
   "execution_count": 24,
   "id": "00ac604e",
   "metadata": {},
   "outputs": [
    {
     "data": {
      "text/plain": [
       "count     1985.000000\n",
       "mean     52234.516373\n",
       "std      17765.724053\n",
       "min      20130.000000\n",
       "25%      37070.000000\n",
       "50%      51876.000000\n",
       "75%      67225.000000\n",
       "max      84953.000000\n",
       "Name: Income, dtype: float64"
      ]
     },
     "execution_count": 24,
     "metadata": {},
     "output_type": "execute_result"
    }
   ],
   "source": [
    "lowidx = customer_df.loc[customer_df['Income'] <20000].index\n",
    "customer_df = customer_df.drop(lowidx)\n",
    "\n",
    "highidx = customer_df.loc[customer_df['Income'] >85000].index\n",
    "customer_df = customer_df.drop(highidx)\n",
    "\n",
    "customer_df.Income.describe()"
   ]
  },
  {
   "cell_type": "markdown",
   "id": "fc399225",
   "metadata": {},
   "source": [
    "Ta tìm tỷ lệ phân bố các cột numeric: dựa vào giá trị các cột có kiểu dữ liệu `int64` hoặc `float64` ta có thể nhận ra các cột thực chất là numeric gồm: `Age`, `Income`, `Kids`, `Dt_Customer`, `Recency`, `Expenses`, `NumTotalPurchases`, `MntWines`, `MntFruits`, `MntMeatProducts`, `MntFishProducts`, `MntSweetProducts`, `MntGoldProds`, `NumWebVisitsMonth` với 3 dòng `Missing Ratio`, `Min`, `Max`"
   ]
  },
  {
   "cell_type": "code",
   "execution_count": 25,
   "id": "70607f97",
   "metadata": {
    "scrolled": false
   },
   "outputs": [
    {
     "data": {
      "text/html": [
       "<div>\n",
       "<style scoped>\n",
       "    .dataframe tbody tr th:only-of-type {\n",
       "        vertical-align: middle;\n",
       "    }\n",
       "\n",
       "    .dataframe tbody tr th {\n",
       "        vertical-align: top;\n",
       "    }\n",
       "\n",
       "    .dataframe thead th {\n",
       "        text-align: right;\n",
       "    }\n",
       "</style>\n",
       "<table border=\"1\" class=\"dataframe\">\n",
       "  <thead>\n",
       "    <tr style=\"text-align: right;\">\n",
       "      <th></th>\n",
       "      <th>Age</th>\n",
       "      <th>Income</th>\n",
       "      <th>Kids</th>\n",
       "      <th>Dt_Customer</th>\n",
       "      <th>Recency</th>\n",
       "      <th>Expenses</th>\n",
       "      <th>NumWebVisitsMonth</th>\n",
       "      <th>MntWines</th>\n",
       "      <th>MntFruits</th>\n",
       "      <th>MntMeatProducts</th>\n",
       "      <th>MntFishProducts</th>\n",
       "      <th>MntSweetProducts</th>\n",
       "      <th>MntGoldProds</th>\n",
       "      <th>NumTotalPurchases</th>\n",
       "    </tr>\n",
       "  </thead>\n",
       "  <tbody>\n",
       "    <tr>\n",
       "      <th>Missing Ratio</th>\n",
       "      <td>0.000000</td>\n",
       "      <td>0.000000</td>\n",
       "      <td>0.000000</td>\n",
       "      <td>0.0</td>\n",
       "      <td>0.000000</td>\n",
       "      <td>0.000000</td>\n",
       "      <td>0.000000</td>\n",
       "      <td>0.000000</td>\n",
       "      <td>0.000000</td>\n",
       "      <td>0.000000</td>\n",
       "      <td>0.000000</td>\n",
       "      <td>0.000000</td>\n",
       "      <td>0.00000</td>\n",
       "      <td>0.00000</td>\n",
       "    </tr>\n",
       "    <tr>\n",
       "      <th>Min</th>\n",
       "      <td>26.000000</td>\n",
       "      <td>20130.000000</td>\n",
       "      <td>0.000000</td>\n",
       "      <td>2012-07-30 00:00:00</td>\n",
       "      <td>0.000000</td>\n",
       "      <td>8.000000</td>\n",
       "      <td>0.000000</td>\n",
       "      <td>0.000000</td>\n",
       "      <td>0.000000</td>\n",
       "      <td>1.000000</td>\n",
       "      <td>0.000000</td>\n",
       "      <td>0.000000</td>\n",
       "      <td>0.00000</td>\n",
       "      <td>4.00000</td>\n",
       "    </tr>\n",
       "    <tr>\n",
       "      <th>Mean</th>\n",
       "      <td>52.673048</td>\n",
       "      <td>52234.516373</td>\n",
       "      <td>0.987406</td>\n",
       "      <td>0</td>\n",
       "      <td>49.009572</td>\n",
       "      <td>595.517884</td>\n",
       "      <td>5.327456</td>\n",
       "      <td>304.997985</td>\n",
       "      <td>25.883627</td>\n",
       "      <td>156.748615</td>\n",
       "      <td>37.186902</td>\n",
       "      <td>26.278086</td>\n",
       "      <td>44.42267</td>\n",
       "      <td>15.05995</td>\n",
       "    </tr>\n",
       "    <tr>\n",
       "      <th>Max</th>\n",
       "      <td>81.000000</td>\n",
       "      <td>84953.000000</td>\n",
       "      <td>3.000000</td>\n",
       "      <td>2014-06-29 00:00:00</td>\n",
       "      <td>99.000000</td>\n",
       "      <td>2486.000000</td>\n",
       "      <td>10.000000</td>\n",
       "      <td>1493.000000</td>\n",
       "      <td>199.000000</td>\n",
       "      <td>984.000000</td>\n",
       "      <td>259.000000</td>\n",
       "      <td>198.000000</td>\n",
       "      <td>249.00000</td>\n",
       "      <td>39.00000</td>\n",
       "    </tr>\n",
       "  </tbody>\n",
       "</table>\n",
       "</div>"
      ],
      "text/plain": [
       "                     Age        Income      Kids          Dt_Customer  \\\n",
       "Missing Ratio   0.000000      0.000000  0.000000                  0.0   \n",
       "Min            26.000000  20130.000000  0.000000  2012-07-30 00:00:00   \n",
       "Mean           52.673048  52234.516373  0.987406                    0   \n",
       "Max            81.000000  84953.000000  3.000000  2014-06-29 00:00:00   \n",
       "\n",
       "                 Recency     Expenses  NumWebVisitsMonth     MntWines  \\\n",
       "Missing Ratio   0.000000     0.000000           0.000000     0.000000   \n",
       "Min             0.000000     8.000000           0.000000     0.000000   \n",
       "Mean           49.009572   595.517884           5.327456   304.997985   \n",
       "Max            99.000000  2486.000000          10.000000  1493.000000   \n",
       "\n",
       "                MntFruits  MntMeatProducts  MntFishProducts  MntSweetProducts  \\\n",
       "Missing Ratio    0.000000         0.000000         0.000000          0.000000   \n",
       "Min              0.000000         1.000000         0.000000          0.000000   \n",
       "Mean            25.883627       156.748615        37.186902         26.278086   \n",
       "Max            199.000000       984.000000       259.000000        198.000000   \n",
       "\n",
       "               MntGoldProds  NumTotalPurchases  \n",
       "Missing Ratio       0.00000            0.00000  \n",
       "Min                 0.00000            4.00000  \n",
       "Mean               44.42267           15.05995  \n",
       "Max               249.00000           39.00000  "
      ]
     },
     "execution_count": 25,
     "metadata": {},
     "output_type": "execute_result"
    }
   ],
   "source": [
    "# init numpy matrix\n",
    "nume_col_profiles_df = pd.DataFrame(np.ones((0,0)))\n",
    "# calculate 'Dt_Customer' and 'Year_Birth' first\n",
    "# nume_col_profiles_df['Dt_Customer'] =[(customer_df['Dt_Customer'].isnull().sum() * 100 / len(customer_df)).round(3), customer_df['Dt_Customer'].min(), customer_df['Dt_Customer'].max()]\n",
    "# nume_col_profiles_df['Year_Birth'] =[(customer_df['Year_Birth'].isnull().sum() * 100 / len(customer_df)).round(3), customer_df['Year_Birth'].min(), customer_df['Year_Birth'].max()]\n",
    "\n",
    "nume_col = ['Age', 'Income', 'Kids', 'Dt_Customer', 'Recency', 'Expenses', 'NumWebVisitsMonth', \n",
    "            'MntWines', 'MntFruits', 'MntMeatProducts', 'MntFishProducts', 'MntSweetProducts', \n",
    "            'MntGoldProds', 'NumTotalPurchases']\n",
    "for col in nume_col:\n",
    "    nume_col_profiles_df[col]= [(customer_df[col].isnull().sum() * 100 / len(customer_df)).round(3), \n",
    "                                customer_df[col].min(), \n",
    "                                customer_df[col].mean() if col != 'Dt_Customer' else 0,\n",
    "                                customer_df[col].max()]\n",
    "nume_col_profiles_df.rename(index={0: \"Missing Ratio\", 1: \"Min\", 2: \"Mean\", 3: \"Max\"}, inplace = True)\n",
    "nume_col_profiles_df"
   ]
  },
  {
   "cell_type": "markdown",
   "id": "c704a27d",
   "metadata": {},
   "source": [
    "Ta tìm tỷ lệ phân bố các cột categorical: `ID`, `Education`, `Marital_Status`, `TotalAcceptedCmp`, `Complain` với 3 dòng `Missing Ratio`, `num_diff_vals`, `diff_vals`"
   ]
  },
  {
   "cell_type": "code",
   "execution_count": 26,
   "id": "6ce09fe3",
   "metadata": {
    "scrolled": false
   },
   "outputs": [
    {
     "data": {
      "text/html": [
       "<div>\n",
       "<style scoped>\n",
       "    .dataframe tbody tr th:only-of-type {\n",
       "        vertical-align: middle;\n",
       "    }\n",
       "\n",
       "    .dataframe tbody tr th {\n",
       "        vertical-align: top;\n",
       "    }\n",
       "\n",
       "    .dataframe thead th {\n",
       "        text-align: right;\n",
       "    }\n",
       "</style>\n",
       "<table border=\"1\" class=\"dataframe\">\n",
       "  <thead>\n",
       "    <tr style=\"text-align: right;\">\n",
       "      <th></th>\n",
       "      <th>ID</th>\n",
       "      <th>Education</th>\n",
       "      <th>Marital_Status</th>\n",
       "      <th>TotalAcceptedCmp</th>\n",
       "      <th>Complain</th>\n",
       "    </tr>\n",
       "  </thead>\n",
       "  <tbody>\n",
       "    <tr>\n",
       "      <th>Missing Ratio</th>\n",
       "      <td>0.0</td>\n",
       "      <td>0.0</td>\n",
       "      <td>0.0</td>\n",
       "      <td>0.0</td>\n",
       "      <td>0.0</td>\n",
       "    </tr>\n",
       "    <tr>\n",
       "      <th>num_diff_vals</th>\n",
       "      <td>1985</td>\n",
       "      <td>5</td>\n",
       "      <td>2</td>\n",
       "      <td>6</td>\n",
       "      <td>2</td>\n",
       "    </tr>\n",
       "    <tr>\n",
       "      <th>diff_vals</th>\n",
       "      <td>[0, 6798, 4785, 10928, 2730, 2620, 2724, 8867,...</td>\n",
       "      <td>[Graduation, PhD, Master, 2n Cycle, Basic]</td>\n",
       "      <td>[InRelationship, Single]</td>\n",
       "      <td>[0, 1, 2, 3, 4, 5]</td>\n",
       "      <td>[0, 1]</td>\n",
       "    </tr>\n",
       "  </tbody>\n",
       "</table>\n",
       "</div>"
      ],
      "text/plain": [
       "                                                              ID  \\\n",
       "Missing Ratio                                                0.0   \n",
       "num_diff_vals                                               1985   \n",
       "diff_vals      [0, 6798, 4785, 10928, 2730, 2620, 2724, 8867,...   \n",
       "\n",
       "                                                Education  \\\n",
       "Missing Ratio                                         0.0   \n",
       "num_diff_vals                                           5   \n",
       "diff_vals      [Graduation, PhD, Master, 2n Cycle, Basic]   \n",
       "\n",
       "                         Marital_Status    TotalAcceptedCmp Complain  \n",
       "Missing Ratio                       0.0                 0.0      0.0  \n",
       "num_diff_vals                         2                   6        2  \n",
       "diff_vals      [InRelationship, Single]  [0, 1, 2, 3, 4, 5]   [0, 1]  "
      ]
     },
     "execution_count": 26,
     "metadata": {},
     "output_type": "execute_result"
    }
   ],
   "source": [
    "cate_col_profiles_df = pd.DataFrame(np.ones((0,0)))\n",
    "cate_col = ['ID', 'Education', 'Marital_Status', 'TotalAcceptedCmp', 'Complain']\n",
    "for col in cate_col:\n",
    "    cate_col_profiles_df[col]= [(customer_df[col].isnull().sum() * 100 / len(customer_df)).round(3), \n",
    "                                customer_df[col].value_counts().shape[0], \n",
    "                                list(customer_df[col].value_counts().index)]\n",
    "cate_col_profiles_df.rename(index={0: \"Missing Ratio\", 1: \"num_diff_vals\", 2: \"diff_vals\"}, inplace = True)\n",
    "cate_col_profiles_df"
   ]
  },
  {
   "cell_type": "markdown",
   "id": "9aaa46f4",
   "metadata": {},
   "source": [
    "### EDA"
   ]
  },
  {
   "cell_type": "code",
   "execution_count": 27,
   "id": "33b1357a",
   "metadata": {},
   "outputs": [
    {
     "data": {
      "text/plain": [
       "Kids\n",
       "0    485.332685\n",
       "1    283.880698\n",
       "2    144.478261\n",
       "3    138.530612\n",
       "Name: MntWines, dtype: float64"
      ]
     },
     "execution_count": 27,
     "metadata": {},
     "output_type": "execute_result"
    }
   ],
   "source": [
    "#Average Spending on Wines\n",
    "wine_spent = customer_df.groupby(\"Kids\").mean()['MntWines']\n",
    "wine_spent"
   ]
  },
  {
   "cell_type": "code",
   "execution_count": 28,
   "id": "0d2245a9",
   "metadata": {},
   "outputs": [
    {
     "data": {
      "text/plain": [
       "Kids\n",
       "0    52.573930\n",
       "1    20.337536\n",
       "2     7.938619\n",
       "3     5.795918\n",
       "Name: MntFruits, dtype: float64"
      ]
     },
     "execution_count": 28,
     "metadata": {},
     "output_type": "execute_result"
    }
   ],
   "source": [
    "#Average Spending on Fruits\n",
    "fruit_spent = customer_df.groupby(\"Kids\").mean()['MntFruits']\n",
    "fruit_spent"
   ]
  },
  {
   "cell_type": "code",
   "execution_count": 29,
   "id": "85112069",
   "metadata": {},
   "outputs": [
    {
     "data": {
      "text/plain": [
       "Kids\n",
       "0    359.383268\n",
       "1    100.628516\n",
       "2     51.102302\n",
       "3     54.979592\n",
       "Name: MntMeatProducts, dtype: float64"
      ]
     },
     "execution_count": 29,
     "metadata": {},
     "output_type": "execute_result"
    }
   ],
   "source": [
    "#Average Spending on Meat Products\n",
    "meat_spent = customer_df.groupby(\"Kids\").mean()['MntMeatProducts']\n",
    "meat_spent"
   ]
  },
  {
   "cell_type": "code",
   "execution_count": 30,
   "id": "340c9c7d",
   "metadata": {},
   "outputs": [
    {
     "data": {
      "text/plain": [
       "Kids\n",
       "0    79.245136\n",
       "1    27.709990\n",
       "2    10.913043\n",
       "3     5.061224\n",
       "Name: MntFishProducts, dtype: float64"
      ]
     },
     "execution_count": 30,
     "metadata": {},
     "output_type": "execute_result"
    }
   ],
   "source": [
    "#Average Spending on Fish Products\n",
    "fish_spent = customer_df.groupby(\"Kids\").mean()['MntFishProducts']\n",
    "fish_spent"
   ]
  },
  {
   "cell_type": "code",
   "execution_count": 31,
   "id": "73427c4c",
   "metadata": {},
   "outputs": [
    {
     "data": {
      "text/plain": [
       "Kids\n",
       "0    52.626459\n",
       "1    20.894277\n",
       "2     8.480818\n",
       "3     5.183673\n",
       "Name: MntSweetProducts, dtype: float64"
      ]
     },
     "execution_count": 31,
     "metadata": {},
     "output_type": "execute_result"
    }
   ],
   "source": [
    "#Average Spending on Sweet Products\n",
    "sweet_spent = customer_df.groupby(\"Kids\").mean()['MntSweetProducts']\n",
    "sweet_spent"
   ]
  },
  {
   "cell_type": "code",
   "execution_count": 32,
   "id": "6fdf41be",
   "metadata": {},
   "outputs": [
    {
     "data": {
      "text/plain": [
       "Kids\n",
       "0    66.412451\n",
       "1    42.081474\n",
       "2    24.976982\n",
       "3    18.183673\n",
       "Name: MntGoldProds, dtype: float64"
      ]
     },
     "execution_count": 32,
     "metadata": {},
     "output_type": "execute_result"
    }
   ],
   "source": [
    "#Average Spending on Gold Products\n",
    "gold_spent = customer_df.groupby(\"Kids\").mean()['MntGoldProds']\n",
    "gold_spent"
   ]
  },
  {
   "cell_type": "markdown",
   "id": "76cc64f9",
   "metadata": {},
   "source": [
    "### Nhận xét sau khi khám phá:\n",
    "Những người/gia đình chưa có con sẽ chi nhiều hơn cho các mặt hàng, khi có con thì việc chi tiêu sẽ giảm đi."
   ]
  },
  {
   "cell_type": "markdown",
   "id": "8e9077db",
   "metadata": {},
   "source": [
    "## Đưa ra các câu hỏi có ý nghĩa để trả lời"
   ]
  },
  {
   "cell_type": "markdown",
   "id": "cc258826",
   "metadata": {},
   "source": [
    "Dựa vào data đã được xử lý, ta có thể rút trích 1 số câu hỏi sau:   \n"
   ]
  },
  {
   "cell_type": "markdown",
   "id": "4fd39cdd",
   "metadata": {},
   "source": [
    "### Câu hỏi 1:\n"
   ]
  },
  {
   "cell_type": "markdown",
   "id": "bb75c8b4",
   "metadata": {},
   "source": [
    "Giả sử nhóm người dùng được phân loại như sau: thanh niên (<= 35 tuổi), trung niên (36-60 tuổi), người cao tuổi (>60 tuổi) thì tập khách hàng nào có sức mua lớn nhất? Với mỗi nhóm khách hàng như vậy thì sản phẩm nào có sức mua cao hơn cả?"
   ]
  },
  {
   "cell_type": "code",
   "execution_count": 33,
   "id": "ef8b53dc",
   "metadata": {},
   "outputs": [
    {
     "data": {
      "text/plain": [
       "139"
      ]
     },
     "execution_count": 33,
     "metadata": {},
     "output_type": "execute_result"
    }
   ],
   "source": [
    "youth = len(customer_df[customer_df['Age'] <= 35])\n",
    "youth"
   ]
  },
  {
   "cell_type": "code",
   "execution_count": 34,
   "id": "6b119938",
   "metadata": {},
   "outputs": [
    {
     "data": {
      "text/plain": [
       "1286"
      ]
     },
     "execution_count": 34,
     "metadata": {},
     "output_type": "execute_result"
    }
   ],
   "source": [
    "middle = len(customer_df[(customer_df['Age'] >= 36) & (customer_df['Age'] <= 60)])\n",
    "middle"
   ]
  },
  {
   "cell_type": "code",
   "execution_count": 35,
   "id": "b42d7778",
   "metadata": {},
   "outputs": [
    {
     "data": {
      "text/plain": [
       "560"
      ]
     },
     "execution_count": 35,
     "metadata": {},
     "output_type": "execute_result"
    }
   ],
   "source": [
    "old = len(customer_df[customer_df['Age'] > 60])\n",
    "old"
   ]
  },
  {
   "cell_type": "code",
   "execution_count": 36,
   "id": "8f18b1b0",
   "metadata": {
    "scrolled": true
   },
   "outputs": [
    {
     "data": {
      "image/png": "[encoded data removed]",
      "text/plain": [
       "<Figure size 432x432 with 1 Axes>"
      ]
     },
     "metadata": {},
     "output_type": "display_data"
    }
   ],
   "source": [
    "y = np.array([youth, middle, old])\n",
    "mylabels = [\"Youth\", \"Middle\", \"Older\"]\n",
    "\n",
    "plt.figure(figsize = (6,6))\n",
    "wedges, labels, autopct = plt.pie(y, labels = mylabels, autopct='%1.2f%%')\n",
    "plt.setp(labels, fontsize = 15)\n",
    "plt.setp(autopct, fontsize = 12)\n",
    "plt.title(\"Customer's age propotion\", fontsize = 20, color = 'r')\n",
    "plt.show() "
   ]
  },
  {
   "cell_type": "code",
   "execution_count": 37,
   "id": "37e29ea2",
   "metadata": {},
   "outputs": [],
   "source": [
    "prods = ['MntWines', 'MntFruits', 'MntMeatProducts', 'MntFishProducts', 'MntSweetProducts', 'MntGoldProds']\n",
    "\n",
    "x_pos = np.arange(6)\n",
    "width = 0.25\n",
    "\n",
    "def barplot(df,name,num):\n",
    "    diff_product = {}\n",
    "    for prod in prods:\n",
    "        diff_product[prod] = df[prod].sum()\n",
    "    diff_prod = list(diff_product.keys())\n",
    "    counts = list(diff_product.values())\n",
    "    s = sum(counts)\n",
    "    for i in range(len(counts)):\n",
    "        counts[i] = (counts[i] / s).round(3)\n",
    "\n",
    "    pos = x_pos + width*num\n",
    "    plt.bar(pos, counts, width, label = name)\n",
    "    # plt.xticks(diff_prod)\n",
    "    # plt.ylabel(f'{name}')\n",
    "    plt.ylim(0, 0.6)\n",
    "    for i in range(len(counts)):\n",
    "        plt.text(pos[i]-0.11, counts[i]+0.008,  str(counts[i]))\n",
    "youth_customer_df = customer_df[customer_df['Age'] <= 35]\n",
    "middle_customer_df = customer_df[(customer_df['Age'] >= 36) & (customer_df['Age'] <= 60)]\n",
    "old_customer_df = customer_df[customer_df['Age'] > 60]"
   ]
  },
  {
   "cell_type": "code",
   "execution_count": 38,
   "id": "5ae092ae",
   "metadata": {},
   "outputs": [
    {
     "data": {
      "image/png": "[encoded data removed]",
      "text/plain": [
       "<Figure size 1080x576 with 1 Axes>"
      ]
     },
     "metadata": {
      "needs_background": "light"
     },
     "output_type": "display_data"
    }
   ],
   "source": [
    "plt.figure(figsize = (15,8))\n",
    "bar1 = barplot(youth_customer_df, 'Young',0)\n",
    "bar2 = barplot(middle_customer_df, 'Middle',1)\n",
    "bar3 = barplot(old_customer_df, 'Old',2)\n",
    "\n",
    "plt.xticks(ticks = np.arange(6)+width, labels = prods, fontsize = 12)\n",
    "plt.ylabel('Percent', fontsize = 15)\n",
    "plt.title('TUONG QUAN GIUA CAC NHOM TUOI', fontsize = 30, color = 'r')\n",
    "plt.legend(prop={'size': 15})\n",
    "plt.show()"
   ]
  },
  {
   "cell_type": "markdown",
   "id": "1f467180",
   "metadata": {},
   "source": [
    "### Nhận xét: \n",
    "1. Tập khách hàng trung niên (từ 36-60) chiếm tỷ lệ cao nhất trong khảo sát này, vì vậy chúng ta phải tập trung vào việc bán các sản phẩm phù hợp với nhu cầu của nhóm tuổi này.\n",
    "2. Có thể quan sát được rằng tất cả khách hàng được khảo sát trong dữ liệu đều chi phần lớn thu nhập cho rượu vang (hay đồ uống có cồn), nhóm tuổi càng cao thì có xu hướng chi tiêu cho sản phẩm này cao hơn. Do đó các công ty sản xuất rượu có thể dễ dàng hơn trong việc tiếp cận khách hàng của mình.\n",
    "3. Chi tiêu cho mua thực phẩm (như thịt, cá, trái cây, đồ ngọt) có xu hướng giảm dần qua từng nhóm tuổi từ trẻ đến già, có vẻ như càng lớn tuổi các khách hàng của chúng ta có xu hướng chi tiêu vào những sản phẩm mang tính tận hưởng là chính (như rượu, đồ uống có cồn, ...) hơn là các loại thực phẩm trong bữa ăn hằng ngày. Do đó để có thể lấy thị phần, các công ty sản xuất thực phẩm này cần phải thay đổi chiến lược tiếp cận của mình để có thể có được nhiều khách hàng mua sản phẩm của mình "
   ]
  },
  {
   "cell_type": "markdown",
   "id": "940e4978",
   "metadata": {},
   "source": [
    "### Câu hỏi 2:"
   ]
  },
  {
   "cell_type": "markdown",
   "id": "c54e0aa6",
   "metadata": {},
   "source": [
    "#### Với từng loại sản phẩm sẽ thu hút nhóm người với từng đặc điểm nào?"
   ]
  },
  {
   "cell_type": "code",
   "execution_count": 39,
   "id": "f7af8a9a",
   "metadata": {},
   "outputs": [],
   "source": [
    "df = customer_df\n",
    "high_spending = df[df.Expenses>800]\n",
    "avg_spending = df[ (df.Expenses>200) & (df.Expenses< 800)]\n",
    "low_spending = df[df.Expenses<200]"
   ]
  },
  {
   "cell_type": "code",
   "execution_count": 40,
   "id": "88080252",
   "metadata": {},
   "outputs": [
    {
     "data": {
      "image/png": "[encoded data removed]",
      "text/plain": [
       "<Figure size 504x504 with 1 Axes>"
      ]
     },
     "metadata": {
      "needs_background": "light"
     },
     "output_type": "display_data"
    }
   ],
   "source": [
    "# function draw outline and fill\n",
    "def add_to_radar(spending_rank, color, label):\n",
    "  values = []\n",
    "\n",
    "  age =  spending_rank.Age.values\n",
    "  max_age = 80\n",
    "  values.append(age.mean()/max_age)\n",
    "\n",
    "  Live_together_count=  spending_rank.Marital_Status.value_counts()\n",
    "\n",
    "  values.append(Live_together_count['InRelationship'] / Live_together_count.sum())\n",
    "\n",
    "  income =  spending_rank.Income.mean()\n",
    "  max_income = 85000\n",
    "  values.append(income/max_income)\n",
    "\n",
    "  kidhome =  spending_rank.Kids.mean()\n",
    "  max_kids = 2\n",
    "  values.append(kidhome/max_kids)\n",
    "\n",
    "  education = spending_rank.Education.value_counts()\n",
    "\n",
    "  columns = ['PhD', 'Master', '2n Cycle', 'Graduation', 'Basic']\n",
    "  score = [4,3,2.5,2,1]\n",
    "\n",
    "  edu_val = 0 \n",
    "  sum_ppl = education.sum()\n",
    "  for i in range(len(columns)):\n",
    "    edu_val += education[columns[i]]*score[i]/4/sum_ppl\n",
    "\n",
    "  values.append(edu_val)\n",
    "\n",
    "  values += values[:1]\n",
    "\n",
    "\n",
    "  ax.plot(angles, values, color=color, linewidth=1, label=label)\n",
    "  ax.fill(angles, values, color=color, alpha=0.25)\n",
    "\n",
    "\n",
    "# Each attribute we'll plot in the radar chart.\n",
    "labels = ['Age', 'InRelationship', 'Income', 'Kids','Education']\n",
    "\n",
    "\n",
    "# Number of variables we're plotting.\n",
    "num_vars = len(labels)\n",
    "\n",
    "# Split the circle into even parts and save the angles\n",
    "# so we know where to put each axis.\n",
    "angles = np.linspace(0, 2 * np.pi, num_vars, endpoint=False).tolist()\n",
    "\n",
    "# The plot is a circle, so we need to \"complete the loop\"\n",
    "# and append the start value to the end.\n",
    "angles += angles[:1]\n",
    "\n",
    "# ax = plt.subplot(polar=True)\n",
    "fig, ax = plt.subplots(figsize=(7,7), subplot_kw=dict(polar=True))\n",
    "\n",
    "# Draw the outline of our data.\n",
    "\n",
    "add_to_radar(high_spending, 'red', 'High_spending')\n",
    "add_to_radar(avg_spending, 'green', 'Avg_spending')\n",
    "add_to_radar(low_spending, 'blue', 'Low_spending')\n",
    "\n",
    "\n",
    "ax.legend(loc='upper left')\n",
    "\n",
    "# print(angles)\n",
    "ax.set_theta_offset(np.pi / 2)\n",
    "ax.set_theta_direction(-1)\n",
    "\n",
    "# Draw axis lines for each angle and label.\n",
    "labels += labels[:1]\n",
    "ax.set_xticks(angles)\n",
    "ax.set_xticklabels(labels, fontsize = 12)\n",
    "\n",
    "\n",
    "# Hide label\n",
    "ax.set_yticklabels([])\n",
    "\n",
    "# Go through labels and adjust alignment based on where\n",
    "# it is in the circle.\n",
    "for label, angle in zip(ax.get_xticklabels(), angles):\n",
    "  if angle in (0, np.pi):\n",
    "    label.set_horizontalalignment('center')\n",
    "  elif 0 < angle < np.pi:\n",
    "    label.set_horizontalalignment('left')\n",
    "  else:\n",
    "    label.set_horizontalalignment('right')\n",
    "\n",
    "ax.set_title('Comparising abtribute of customer on spending amount', fontsize = 20, color = 'r')\n",
    "ax.legend(fontsize = 12, loc = 'upper left')\n",
    "plt.show(); "
   ]
  },
  {
   "cell_type": "markdown",
   "id": "b513d8f0",
   "metadata": {},
   "source": [
    "##### Nhận xét: \n",
    "- Những người mua hàng thường xuyên có thu nhập trên trung bình và có từ 1 đến 2 con. \n",
    "- Những người mua hàng nhiều thường sẽ không có con và có thu nhập cao hơn trung bình.\n",
    "- Những người ít mua hàng nhất là nhóm người cú thu nhập thấp và đã có con."
   ]
  },
  {
   "cell_type": "markdown",
   "id": "53d32307",
   "metadata": {},
   "source": [
    "#### Những người có mua hàng thường xuyên, nhiều có xu hướng mua những sản phẩm nào ?"
   ]
  },
  {
   "cell_type": "code",
   "execution_count": 41,
   "id": "6ddd55dc",
   "metadata": {},
   "outputs": [
    {
     "data": {
      "image/png": "[encoded data removed]",
      "text/plain": [
       "<Figure size 1080x504 with 2 Axes>"
      ]
     },
     "metadata": {},
     "output_type": "display_data"
    }
   ],
   "source": [
    "def make_pie_chart(ax, df, name):\n",
    "    values = df.iloc[:,7:13].mean()\n",
    "    ax.pie(values, autopct='%1.2f%%')\n",
    "    # ax.set_ticks(range(6))\n",
    "    # ax.set_ticklabels(labels = labels, fontsize = 25)\n",
    "    ax.set_title(name, fontsize = 30, color = 'r')\n",
    "\n",
    "fig, (ax1, ax2) = plt.subplots( 1,2,figsize=(15,7),subplot_kw=dict(aspect=\"equal\"))\n",
    "\n",
    "make_pie_chart(ax1, high_spending, 'High_spending')\n",
    "make_pie_chart(ax2, avg_spending, 'Avg_spending')\n",
    "labels = df.iloc[:,7:13].columns\n",
    "# ax1.legend(labels, loc = 'upper right', fontsize = 12)\n",
    "ax2.legend(labels,bbox_to_anchor = (1, 0.7), fontsize = 15)\n",
    "plt.show();"
   ]
  },
  {
   "cell_type": "markdown",
   "id": "a10abbb8",
   "metadata": {},
   "source": [
    "##### Nhận xét:\n",
    "- Cả 2 nhóm đều có xu hướng mua rất nhiều rượu (trên 50%), và mua lượng lớn các sản phẩm từ thịt (20-30%).\n",
    "- Công ty nên tập trung vào rượu và các sản phẩm từ thịt.\n",
    "- Với thu nhập cao và lượng lớn người mua hàng tiêu thụ rượu, công ty có thể tăng thu nhập bằng cách cho ra các dòng rượu thượng hạng để khai thác từ nhóm người này."
   ]
  },
  {
   "cell_type": "markdown",
   "id": "21b096ee",
   "metadata": {},
   "source": [
    "## Nhìn lại quá trình làm đồ án"
   ]
  },
  {
   "cell_type": "markdown",
   "id": "84e1d496",
   "metadata": {},
   "source": [
    "#### Hồ Hoàng Duy\n",
    "\n",
    "- Khó khăn: \n",
    "1. Học kỳ này do học online nên việc làm đồ án các môn nói chung và môn học này gặp một số khó khăn trong việc trao đổi cũng như làm việc nhóm, môi trường online (từ việc giao tiếp, cũng như họp team qua các ứng dụng) làm cho sự tương tác giữa mỗi người có thể không thuận lợi từ lúc bắt đầu.\n",
    "2. Việc sử dụng git/github để quản lý bài làm khiến cho em gặp trục trặc trong việc merge cũng như xử lý conflict, tuy nhiên nó cũng giúp bản thân hiểu về quy trình làm việc thực tế.\n",
    "3. Em tự thấy những câu hỏi mình đặt ra chưa đủ thú vị nên dẫn đến trong phần của em chỉ có thể đặt được 1 câu hỏi tâm đắc. Em sẽ cố gắng suy nghĩ một cách thực tế hơn thông qua bài làm của các bạn khác\n",
    "- Học được từ đồ án:\n",
    "1. Rút kinh nghiệm trong việc nhận định và đặt câu hỏi mang ý nghĩa, hiểu rõ hơn công việc phân tích dữ liệu một cách sâu sắc.\n",
    "2. Nếu có nhiều thời gian, em sẽ quan sát kỹ dữ liệu của mình hơn và khai thác các thuộc tính còn lại."
   ]
  },
  {
   "cell_type": "markdown",
   "id": "b3923132",
   "metadata": {},
   "source": [
    "#### Đào Quốc Phong\n",
    "\n",
    "- Khó khăn:\n",
    "\n",
    "1. Hợp nhất .ipynb khá khó. Có công cụ hỗ trợ nhưng việc sử dụng cũng gặp khó khăn với việc chỉnh sửa cả conplict bị mất một thời gian.\n",
    "2. Việc tìm kiếm dữ liệu và đặt câu hỏi cho dữ liệu tiến trình vẫn chưa tốt lắm. Tụi em nghĩ là đã tìm thấy dữ liệu tốt nhưng cuối cùng vẫn không đặt được câu hỏi tốt cho dữ liệu.\n",
    "\n",
    "- Study from the map map:\n",
    "\n",
    "1. Code is not a important job in too a learning data. Dữ liệu và câu hỏi cũng như nhận được rút ra từ việc trả lời câu hỏi mới quan trọng.\n",
    "2. Need cẩn thận trong bộ sưu tập, cũng như xử lý dữ liệu vì nó có thể làm câu trả lời của chúng tôi bị sai. "
   ]
  },
  {
   "cell_type": "markdown",
   "id": "d5ed40ee",
   "metadata": {},
   "source": [
    "## Tài liệu tham khảo"
   ]
  },
  {
   "cell_type": "markdown",
   "id": "0d13f7cc",
   "metadata": {},
   "source": [
    "- Video record, slide bài giảng, file notebook demo của thầy Kiên\n",
    "- Documentation của các thư viện trong Python đã import (matplotlib, pandas, numpy, seaborn)\n",
    "- Link [kaggle](https://www.kaggle.com/imakash3011/customer-personality-analysis) của file dữ liệu\n",
    "- Vẽ radar plot https://www.pythoncharts.com/matplotlib/radar-charts/\n",
    "- Diễn đàn code, tutorial code: Stackoverflow, w3schools,... "
   ]
  }
 ],
 "metadata": {
  "kernelspec": {
   "display_name": "Python 3 (ipykernel)",
   "language": "python",
   "name": "python3"
  },
  "language_info": {
   "codemirror_mode": {
    "name": "ipython",
    "version": 3
   },
   "file_extension": ".py",
   "mimetype": "text/x-python",
   "name": "python",
   "nbconvert_exporter": "python",
   "pygments_lexer": "ipython3",
   "version": "3.8.8"
  }
 },
 "nbformat": 4,
 "nbformat_minor": 5
}
