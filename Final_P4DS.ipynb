{
 "cells": [
  {
   "cell_type": "markdown",
   "id": "b29780eb",
   "metadata": {},
   "source": [
    "## Đồ án cuối kỳ - Lập trình cho Khoa học Dữ liệu"
   ]
  },
  {
   "cell_type": "markdown",
   "id": "ad998c48",
   "metadata": {},
   "source": [
    "|Danh sách thành viên|MSSV|Github|Tiến độ hoàn thành|\n",
    "|---|---|---|---|\n",
    "|Đào Quốc Phong|18120505|daoquocphong3|Hoàn thành|\n",
    "|Hồ Hoàng Duy|19120207|only237|Hoàn thành|\n"
   ]
  },
  {
   "cell_type": "markdown",
   "id": "89796d0d",
   "metadata": {},
   "source": [
    "## Thu thập dữ liệu"
   ]
  },
  {
   "cell_type": "markdown",
   "id": "4b8c0541",
   "metadata": {},
   "source": [
    "Dữ liệu trong đồ án lần này là về Phân tích Tính cách của Khách hàng (link [kaggle](https://www.kaggle.com/imakash3011/customer-personality-analysis)). Đây là một phân tích chi tiết về những khách hàng lý tưởng của một công ty. Nó giúp doanh nghiệp hiểu rõ hơn về khách hàng của mình và giúp họ dễ dàng sửa đổi sản phẩm theo nhu cầu, hành vi và mối quan tâm cụ thể của các loại khách hàng khác nhau.\n",
    "\n",
    "Thông qua việc phân tích tính cách khách hàng giúp doanh nghiệp sửa đổi sản phẩm của mình dựa trên khách hàng mục tiêu từ các loại phân khúc khách hàng khác nhau. Ví dụ: thay vì chi tiền để tiếp thị một sản phẩm mới cho mọi khách hàng trong cơ sở dữ liệu của công ty, một công ty có thể phân tích phân khúc khách hàng nào có nhiều khả năng mua sản phẩm nhất và sau đó chỉ tiếp thị sản phẩm trên phân khúc cụ thể đó.\n",
    "\n",
    "Data được cung cấp bởi Dr. Omar Romero-Hernandez. "
   ]
  },
  {
   "cell_type": "markdown",
   "id": "325f0107",
   "metadata": {},
   "source": [
    "## Import các thư viện cơ bản"
   ]
  },
  {
   "cell_type": "code",
   "execution_count": null,
   "id": "d2c4bd94",
   "metadata": {},
   "outputs": [],
   "source": [
    "import pandas as pd\n",
    "import numpy as np\n",
    "import matplotlib.pyplot as plt\n",
    "import seaborn as sns\n",
    "import warnings\n",
    "warnings.filterwarnings('ignore')\n",
    "pd.set_option('max_columns', None)"
   ]
  },
  {
   "cell_type": "markdown",
   "id": "6605a341",
   "metadata": {},
   "source": [
    "## Khám phá dữ liệu\n",
    "### Đọc dữ liệu đầu vào"
   ]
  },
  {
   "cell_type": "code",
   "execution_count": null,
   "id": "fa909c1e",
   "metadata": {},
   "outputs": [],
   "source": [
    "customer_df = pd.read_csv(\"marketing_campaign.csv\", sep=\"\\t\")\n",
    "customer_df.head()"
   ]
  },
  {
   "cell_type": "code",
   "execution_count": null,
   "id": "79470cce",
   "metadata": {},
   "outputs": [],
   "source": [
    "customer_df.Education.unique()"
   ]
  },
  {
   "cell_type": "markdown",
   "id": "f1792df2",
   "metadata": {},
   "source": [
    "### Bộ dữ liệu có bao nhiêu hàng và cột?"
   ]
  },
  {
   "cell_type": "code",
   "execution_count": null,
   "id": "6ec636b9",
   "metadata": {},
   "outputs": [],
   "source": [
    "num_rows, num_cols = customer_df.shape\n",
    "print('Dữ liệu có {} dòng và {} cột'.format(num_rows, num_cols))"
   ]
  },
  {
   "cell_type": "markdown",
   "id": "b912118b",
   "metadata": {},
   "source": [
    "### Mỗi dòng có ý nghĩa gì? Có vấn đề các dòng có ý nghĩa khác nhau không?"
   ]
  },
  {
   "cell_type": "markdown",
   "id": "4a1da1f5",
   "metadata": {},
   "source": [
    "Mỗi dòng là chi tiết thông tin của một khách hàng được thu thập. Có vẻ không có dòng nào có ý nghĩa khác."
   ]
  },
  {
   "cell_type": "markdown",
   "id": "eb202fab",
   "metadata": {},
   "source": [
    "### Dữ liệu có dòng nào bị trùng không?"
   ]
  },
  {
   "cell_type": "code",
   "execution_count": null,
   "id": "071a71e5",
   "metadata": {},
   "outputs": [],
   "source": [
    "duplicated_rows = customer_df.duplicated()\n",
    "num_duplicated_rows = len(customer_df[duplicated_rows])\n",
    "print(\"Có {} dòng bị lặp.\".format(num_duplicated_rows))"
   ]
  },
  {
   "cell_type": "markdown",
   "id": "d889b581",
   "metadata": {},
   "source": [
    "### Mỗi cột có ý nghĩa gì?"
   ]
  },
  {
   "cell_type": "markdown",
   "id": "8d021ae5",
   "metadata": {},
   "source": [
    "Dưới đây là mô tả ý nghĩa của các cột trong file `marketing_campaign.csv`:   \n",
    "\n",
    "*People*\n",
    "\n",
    "ID: Customer's unique identifier ID khách hàng (duy nhất)  \n",
    "Year_Birth: Customer's birth year (Năm sinh của khách hàng)  \n",
    "Education: Customer's education level (Trình độ học vấn của khách hàng)  \n",
    "Marital_Status: Customer's marital status (Tình trạng hôn nhân của khách hàng)  \n",
    "Income: Customer's yearly household income (Thu nhập hộ gia đình của khách hàng)  \n",
    "Kidhome: Number of children in customer's household (Số lượng trẻ con trong gia đình)  \n",
    "Teenhome: Number of teenagers in customer's household (Số lượng trẻ thành niên trong gia đình)  \n",
    "Dt_Customer: Date of customer's enrollment with the company (Ngày KH đăng ký thành viên)  \n",
    "Recency: Number of days since customer's last purchase (Số ngày kể từ lần mua hàng gần nhất)  \n",
    "Complain: 1 if the customer complained in the last 2 years, 0 otherwise (1 nếu có phàn nàn trong vòng 2 năm gần đây, 0 nếu ngược lại)  \n",
    "\n",
    "*Products*\n",
    "\n",
    "MntWines: Amount spent on wine in last 2 years (Số tiền chi cho rượu trong vòng 2 năm gần đây)  \n",
    "MntFruits: Amount spent on fruits in last 2 years (Số tiền chi cho trái cây trong vòng 2 năm gần đây)  \n",
    "MntMeatProducts: Amount spent on meat in last 2 years (Số tiền chi cho thịt trong vòng 2 năm gần đây)  \n",
    "MntFishProducts: Amount spent on fish in last 2 years (Số tiền chi cho cá trong vòng 2 năm gần đây)  \n",
    "MntSweetProducts: Amount spent on sweets in last 2 years (Số tiền chi cho đồ ngọt trong vòng 2 năm gần đây)  \n",
    "MntGoldProds: Amount spent on gold in last 2 years (Số tiền chi cho vàng trong vòng 2 năm gần đây)  \n",
    "\n",
    "*Promotion*\n",
    "\n",
    "NumDealsPurchases: Number of purchases made with a discount (Số lần mua hàng có giảm giá)  \n",
    "AcceptedCmp1: 1 if customer accepted the offer in the 1st campaign, 0 otherwise  \n",
    "AcceptedCmp2: 1 if customer accepted the offer in the 2nd campaign, 0 otherwise  \n",
    "AcceptedCmp3: 1 if customer accepted the offer in the 3rd campaign, 0 otherwise  \n",
    "AcceptedCmp4: 1 if customer accepted the offer in the 4th campaign, 0 otherwise  \n",
    "AcceptedCmp5: 1 if customer accepted the offer in the 5th campaign, 0 otherwise  \n",
    "Response: 1 if customer accepted the offer in the last campaign, 0 otherwise  \n",
    "\n",
    "*Place*\n",
    "\n",
    "NumWebPurchases: Number of purchases made through the company’s website (Số lần mua hàng qua website công ty)  \n",
    "NumCatalogPurchases: Number of purchases made using a catalogue (Số lần mua hàng bằng catalogue)  \n",
    "NumStorePurchases: Number of purchases made directly in stores (Số lần mua hàng trực tiếp ở cửa hàng)  \n",
    "NumWebVisitsMonth: Number of visits to company’s website in the last month (Số lần truy cập website công ty trong tháng trước)  \n"
   ]
  },
  {
   "cell_type": "markdown",
   "id": "8c855165",
   "metadata": {},
   "source": [
    "### Mỗi cột hiện đang có kiểu dữ liệu gì? Có cột nào cần thay đổi kiểu dữ liệu không?"
   ]
  },
  {
   "cell_type": "code",
   "execution_count": null,
   "id": "ea2ffa55",
   "metadata": {
    "local_metadata": {
     "scrolled": true
    },
    "remote_metadata": {}
   },
   "outputs": [],
   "source": [
    "col_dtypes = customer_df.dtypes\n",
    "col_dtypes"
   ]
  },
  {
   "cell_type": "markdown",
   "id": "92703646",
   "metadata": {},
   "source": [
    "Ta thấy có 3 cột có kiểu dữ liệu là `object` là: `Education`, `Marital_Status`, `Dt_Customer`. Quan sát vài bộ dữ liệu thì ta có thể đoán cột `Education` và `Marital_Status` có kiểu dữ liệu `str` và thuộc dạng categorical, cột `Dt_Customer` có dạng \"Ngày tháng năm\". Các cột còn lại có dạng numerical"
   ]
  },
  {
   "cell_type": "markdown",
   "id": "0e44a60f",
   "metadata": {},
   "source": [
    "Để khẳng định 3 cột có kiểu `object` có kiểu dữ liệu là `str` ta viết hàm `open_object_dtype` (tương tự `HW3`):"
   ]
  },
  {
   "cell_type": "code",
   "execution_count": null,
   "id": "cf730cf1",
   "metadata": {},
   "outputs": [],
   "source": [
    "def open_object_dtype(s):\n",
    "    dtypes = set()\n",
    "    for i in s:\n",
    "        dtypes.add(type(i))\n",
    "    return dtypes"
   ]
  },
  {
   "cell_type": "code",
   "execution_count": null,
   "id": "f7205f95",
   "metadata": {},
   "outputs": [],
   "source": [
    "#TEST\n",
    "assert open_object_dtype(customer_df['Education']) == {str}\n",
    "assert open_object_dtype(customer_df['Marital_Status']) == {str}\n",
    "assert open_object_dtype(customer_df['Dt_Customer']) == {str}"
   ]
  },
  {
   "cell_type": "markdown",
   "id": "57ae156c",
   "metadata": {},
   "source": [
    "Cột `Dt_Customer` đang biểu diễn dạng `Datetime` nên ta cần chuyển cột này từ `str` về `datetime`"
   ]
  },
  {
   "cell_type": "markdown",
   "id": "20b232a0",
   "metadata": {},
   "source": [
    "## Tiền xử lý"
   ]
  },
  {
   "cell_type": "markdown",
   "id": "4aa61ecf",
   "metadata": {},
   "source": [
    "Ta nhận thấy 2 cột `Z_CostContact` và `Z_Revenue` đều có độ lệch chuẩn = 0 và mỗi cột chỉ có duy nhất 1 giá trị nên ta có thể tiến hành bỏ đi 2 cột này"
   ]
  },
  {
   "cell_type": "code",
   "execution_count": null,
   "id": "4c5f8a91",
   "metadata": {},
   "outputs": [],
   "source": [
    "customer_df.drop('Z_CostContact',axis=1,inplace=True)\n",
    "customer_df.drop('Z_Revenue',axis=1,inplace=True)\n",
    "customer_df"
   ]
  },
  {
   "cell_type": "markdown",
   "id": "782ebe01",
   "metadata": {},
   "source": [
    "Trong bảng dữ liệu này có khá nhiều các cột gần tương tự nhau, ta có thể tạo một cột mới để gộp tổng các giá trị các cột này rồi sẽ bỏ các cột đó đi để bảng dữ liệu trở nên gọn hơn.   "
   ]
  },
  {
   "cell_type": "markdown",
   "id": "3d503567",
   "metadata": {},
   "source": [
    "### Cột `Year_Birth`:"
   ]
  },
  {
   "cell_type": "markdown",
   "id": "88650af0",
   "metadata": {},
   "source": [
    "\n",
    "Đầu tiên ta sẽ nội suy cột năm sinh `Year_Birth` thành cột tuổi `Age` để dễ dàng trong việc kết luận."
   ]
  },
  {
   "cell_type": "code",
   "execution_count": null,
   "id": "38acb60e",
   "metadata": {},
   "outputs": [],
   "source": [
    "customer_df['Age'] = 2021 - customer_df['Year_Birth']"
   ]
  },
  {
   "cell_type": "markdown",
   "id": "44843c8c",
   "metadata": {},
   "source": [
    "Hầu hết các dòng có giá trị từ 1940 trở lên tức là tầm 81 tuổi trở xuống.  \n",
    "Có một vài dòng có giá trị là nhỏ hơn 1940 vd như 1899 là khoảng hơn 100 tuổi, con số này có vẻ không đúng lắm. Thực hiện xoá tất cả các năm sinh nhỏ hơn 1940."
   ]
  },
  {
   "cell_type": "code",
   "execution_count": null,
   "id": "eb53f796",
   "metadata": {},
   "outputs": [],
   "source": [
    "deleteidx  = customer_df.loc[customer_df['Year_Birth'] < 1940].index\n",
    "customer_df = customer_df.drop(deleteidx)"
   ]
  },
  {
   "cell_type": "markdown",
   "id": "e4d92be5",
   "metadata": {},
   "source": [
    "### Cột `Education`:"
   ]
  },
  {
   "cell_type": "markdown",
   "id": "352bd3cb",
   "metadata": {},
   "source": [
    "Ở cột này có giá trị lạ '2n Cycle'. Theo tìm hiểu trên [Education Degree](https://www.uab.cat/web/study/graduate/uab-master-s-degrees-and-graduate-diplomas/what-are-the-differences-between-a-master-s-degree-and-a-graduate-diploma-1345705451834.html) thì đây là một nhóm bằng, và một trong số đó có bằng Master. Nói cách khác thì nó là bằng sau đại học. Nhóm bằng này chia ra 3 loại là: Master's degrees, Graduate Diplomas (bằng sau đại học), và Specialisation courses. Thường bằng Master phải học nhiều hơn, lâu hơn. 2n Cycle chỉ đại diện cho 2 văn bằng còn lại nên theo thứ tự thì em sẽ sắp Master cao hơn 2n Cycle.  \n",
    "Ngoài ra dữ liệu không có gì bất thường ở cột này.\n"
   ]
  },
  {
   "cell_type": "code",
   "execution_count": null,
   "id": "e3e20b73",
   "metadata": {},
   "outputs": [],
   "source": [
    "customer_df['Education'].value_counts()"
   ]
  },
  {
   "cell_type": "markdown",
   "id": "1d778692",
   "metadata": {},
   "source": [
    "### Cột `Marital_Status`:"
   ]
  },
  {
   "cell_type": "code",
   "execution_count": null,
   "id": "5dc4e818",
   "metadata": {
    "scrolled": true
   },
   "outputs": [],
   "source": [
    "customer_df['Marital_Status'].value_counts()"
   ]
  },
  {
   "cell_type": "markdown",
   "id": "066fcf6b",
   "metadata": {},
   "source": [
    "Có 2 giá trị `Absurd` và `YOLO` và ngoại lai, tổng cộng gòm 4 dòng. Tiến hành xoá các dòng này.\n",
    "\n",
    "Ta chuyển hóa cột này về chỉ còn 2 giá trị: \n",
    "- `InRelationship` (gồm `Married` và `Together`) \n",
    "- `Single` (gồm `Single` (trong bảng dữ liệu cũ), `Divorced`, `Widow`, `Alone`)"
   ]
  },
  {
   "cell_type": "code",
   "execution_count": null,
   "id": "fd6bda86",
   "metadata": {},
   "outputs": [],
   "source": [
    "customer_df  = customer_df[customer_df['Marital_Status'] != 'YOLO']\n",
    "\n",
    "customer_df = customer_df[customer_df['Marital_Status'] != 'Absurd']\n",
    "\n",
    "customer_df['Marital_Status'] = customer_df['Marital_Status'].replace(['Married', 'Together'], 'InRelationship')\n",
    "\n",
    "customer_df['Marital_Status'] = customer_df['Marital_Status'].replace(['Divorced', 'Widow', 'Alone', 'Absurd', 'YOLO'], 'Single')"
   ]
  },
  {
   "cell_type": "code",
   "execution_count": null,
   "id": "a5943b71",
   "metadata": {},
   "outputs": [],
   "source": [
    "customer_df['Marital_Status'].value_counts()"
   ]
  },
  {
   "cell_type": "markdown",
   "id": "f8287143",
   "metadata": {},
   "source": [
    "### Các cột khác"
   ]
  },
  {
   "cell_type": "markdown",
   "id": "6eeeb550",
   "metadata": {},
   "source": [
    "Nhập cột `Kidhome` và `Teenhome` lại thành cột `Kids`\n",
    "\n",
    "Tính tổng số lượng mua tất cả các mặc hàng và lưu vào cột `Expenses`\n",
    "\n",
    "Tính tổng số lượng tham gia chiến dịch, lưu dữ liệu vào cột `TotaleAcceptedCmp`\n",
    "\n",
    "Tính tổng số lượt mua hàng, lưu vào cột `NumTotalPurchases`"
   ]
  },
  {
   "cell_type": "code",
   "execution_count": null,
   "id": "0dfe1e93",
   "metadata": {},
   "outputs": [],
   "source": [
    "# Kidhome + Teenhome = Kids\n",
    "customer_df['Kids'] = customer_df['Kidhome'] + customer_df['Teenhome']\n",
    "# MntWines + MntFruits + MntMeatProducts + MntFishProducts + MntSweetProducts + MntGoldProds = Expenses\n",
    "customer_df['Expenses'] = customer_df['MntWines'] + customer_df['MntFruits'] + customer_df['MntMeatProducts'] + customer_df['MntFishProducts'] + customer_df['MntSweetProducts'] + customer_df['MntGoldProds']\n",
    "# AcceptedCmp1 + AcceptedCmp2 + AcceptedCmp3 + AcceptedCmp4 + AcceptedCmp5 + Response = TotalAcceptedCmp\n",
    "customer_df['TotalAcceptedCmp'] = customer_df['AcceptedCmp1'] + customer_df['AcceptedCmp2'] + customer_df['AcceptedCmp3'] + customer_df['AcceptedCmp4'] + customer_df['AcceptedCmp5'] + customer_df['Response']\n",
    "# NumWebPurchases + NumCatalogPurchases + NumStorePurchases + NumDealsPurchases = NumTotalPurchases\n",
    "customer_df['NumTotalPurchases'] = customer_df['NumWebPurchases'] + customer_df['NumCatalogPurchases'] + customer_df['NumStorePurchases'] + customer_df['NumDealsPurchases']"
   ]
  },
  {
   "cell_type": "markdown",
   "id": "770c6064",
   "metadata": {},
   "source": [
    "### Xóa các cột để giảm số chiều của dữ liệu"
   ]
  },
  {
   "cell_type": "code",
   "execution_count": null,
   "id": "2ed2aaa4",
   "metadata": {},
   "outputs": [],
   "source": [
    "col_del = [\"AcceptedCmp1\" , \"AcceptedCmp2\", \"AcceptedCmp3\" , \"AcceptedCmp4\", \"AcceptedCmp5\", \"Response\", \n",
    "           \"NumWebPurchases\", \"NumCatalogPurchases\", \"NumStorePurchases\", \"NumDealsPurchases\", \n",
    "           \"Kidhome\", \"Teenhome\",'Year_Birth']\n",
    "customer_df = customer_df.drop(columns=col_del,axis=1)"
   ]
  },
  {
   "cell_type": "markdown",
   "id": "0b45c203",
   "metadata": {},
   "source": [
    "### Đổi vị trí các columns cho dễ nhìn"
   ]
  },
  {
   "cell_type": "code",
   "execution_count": null,
   "id": "5312a298",
   "metadata": {},
   "outputs": [],
   "source": [
    "new_columns = ['ID', 'Age', 'Education', 'Marital_Status', 'Income','Kids', 'Expenses',\n",
    "         'MntWines', 'MntFruits', 'MntMeatProducts',\n",
    "       'MntFishProducts', 'MntSweetProducts', 'MntGoldProds', 'Dt_Customer','Recency',\n",
    "       'NumWebVisitsMonth', 'Complain',   \n",
    "       'TotalAcceptedCmp', 'NumTotalPurchases']\n",
    "customer_df = customer_df.reindex(columns = new_columns)\n",
    "customer_df"
   ]
  },
  {
   "cell_type": "markdown",
   "id": "cdb47944",
   "metadata": {},
   "source": [
    "### Xử lý cột Dt_Customer:"
   ]
  },
  {
   "cell_type": "markdown",
   "id": "806cffed",
   "metadata": {},
   "source": [
    "Chuyển `dtype` của cột `Dt_Customer` sang kiểu dữ liệu thời gian:"
   ]
  },
  {
   "cell_type": "markdown",
   "id": "adafe02c",
   "metadata": {},
   "source": [
    "Xem thử có khách hàng nào đăng ký trong vòng 2 năm qua (tức khách hàng hoạt động chưa được 2 năm), điều này có thể ảnh hưởng tới số lượng mua của khách hàng ở những cột sau.  \n",
    "Không có khách hàng nào đăng ký tài khoản thành viên trong 2 năm qua."
   ]
  },
  {
   "cell_type": "code",
   "execution_count": null,
   "id": "e78f9d78",
   "metadata": {},
   "outputs": [],
   "source": [
    "customer_df['Dt_Customer'] = pd.to_datetime(customer_df['Dt_Customer'], format='%d-%m-%Y')"
   ]
  },
  {
   "cell_type": "code",
   "execution_count": null,
   "id": "ab4952db",
   "metadata": {},
   "outputs": [],
   "source": [
    "# TEST \n",
    "# Nếu dtype của cột \"Date\" đã được chuyển sang datetime thì phải dùng được .dt.\n",
    "assert customer_df['Dt_Customer'].dt.year.min() == 2012"
   ]
  },
  {
   "cell_type": "markdown",
   "id": "4d9f1ac3",
   "metadata": {},
   "source": [
    "## Khám phá dữ liệu (tiếp tục)"
   ]
  },
  {
   "cell_type": "markdown",
   "id": "e97ac683",
   "metadata": {},
   "source": [
    "Ta thấy cột `Income` là cột duy nhất có giá trị thiếu."
   ]
  },
  {
   "cell_type": "code",
   "execution_count": null,
   "id": "ecbe31f1",
   "metadata": {},
   "outputs": [],
   "source": [
    "num_of_missing_income = customer_df['Income'].isnull().sum()\n",
    "print(f'Có {num_of_missing_income} dòng có giá trị thiếu')"
   ]
  },
  {
   "cell_type": "markdown",
   "id": "b7222cd7",
   "metadata": {},
   "source": [
    "Do tỷ lệ mẫu thiếu khá nhỏ so với tổng thể nên trong đồ án này, nhóm sẽ tiến hành bỏ các dòng thiếu thông tin cột `Income` đi."
   ]
  },
  {
   "cell_type": "code",
   "execution_count": null,
   "id": "6d5f3ae0",
   "metadata": {},
   "outputs": [],
   "source": [
    "customer_df = customer_df.dropna(axis=0)\n",
    "customer_df"
   ]
  },
  {
   "cell_type": "markdown",
   "id": "3af211f8",
   "metadata": {},
   "source": [
    "### Xử lý ngoại lai (outlier)"
   ]
  },
  {
   "cell_type": "code",
   "execution_count": null,
   "id": "351741d6",
   "metadata": {
    "scrolled": false
   },
   "outputs": [],
   "source": [
    "def detect_outliers(frame):\n",
    "    for i in frame.columns:\n",
    "        if(frame[i].dtype == 'int64'):\n",
    "            sns.boxplot(frame[i])\n",
    "            plt.show()\n",
    "            \n",
    "        elif(frame[i].dtype == 'float64'):\n",
    "            sns.boxplot(frame[i])\n",
    "            plt.show()\n",
    "            \n",
    "detect_outliers(customer_df)"
   ]
  },
  {
   "cell_type": "markdown",
   "id": "2541db9b",
   "metadata": {},
   "source": [
    "Cột `Income` có các giá trị trải từ 1730 tới 666666. Gần 90% thu nhập có giá trị từ 20000 tới 85000, đây là khoảng ta tập trung khai thác, những giá trị ngoài khoảng này sẽ được coi là outlier. Tiến hành xoá các dòng outlier."
   ]
  },
  {
   "cell_type": "code",
   "execution_count": null,
   "id": "00ac604e",
   "metadata": {},
   "outputs": [],
   "source": [
    "lowidx = customer_df.loc[customer_df['Income'] <20000].index\n",
    "customer_df = customer_df.drop(lowidx)\n",
    "\n",
    "highidx = customer_df.loc[customer_df['Income'] >85000].index\n",
    "customer_df = customer_df.drop(highidx)\n",
    "\n",
    "customer_df.Income.describe()"
   ]
  },
  {
   "cell_type": "markdown",
   "id": "fc399225",
   "metadata": {},
   "source": [
    "Ta tìm tỷ lệ phân bố các cột numeric: dựa vào giá trị các cột có kiểu dữ liệu `int64` hoặc `float64` ta có thể nhận ra các cột thực chất là numeric gồm: `Age`, `Income`, `Kids`, `Dt_Customer`, `Recency`, `Expenses`, `NumTotalPurchases`, `MntWines`, `MntFruits`, `MntMeatProducts`, `MntFishProducts`, `MntSweetProducts`, `MntGoldProds`, `NumWebVisitsMonth` với 3 dòng `Missing Ratio`, `Min`, `Max`"
   ]
  },
  {
   "cell_type": "code",
   "execution_count": null,
   "id": "70607f97",
   "metadata": {
    "scrolled": false
   },
   "outputs": [],
   "source": [
    "# init numpy matrix\n",
    "nume_col_profiles_df = pd.DataFrame(np.ones((0,0)))\n",
    "# calculate 'Dt_Customer' and 'Year_Birth' first\n",
    "# nume_col_profiles_df['Dt_Customer'] =[(customer_df['Dt_Customer'].isnull().sum() * 100 / len(customer_df)).round(3), customer_df['Dt_Customer'].min(), customer_df['Dt_Customer'].max()]\n",
    "# nume_col_profiles_df['Year_Birth'] =[(customer_df['Year_Birth'].isnull().sum() * 100 / len(customer_df)).round(3), customer_df['Year_Birth'].min(), customer_df['Year_Birth'].max()]\n",
    "\n",
    "nume_col = ['Age', 'Income', 'Kids', 'Dt_Customer', 'Recency', 'Expenses', 'NumWebVisitsMonth', \n",
    "            'MntWines', 'MntFruits', 'MntMeatProducts', 'MntFishProducts', 'MntSweetProducts', \n",
    "            'MntGoldProds', 'NumTotalPurchases']\n",
    "for col in nume_col:\n",
    "    nume_col_profiles_df[col]= [(customer_df[col].isnull().sum() * 100 / len(customer_df)).round(3), \n",
    "                                customer_df[col].min(), \n",
    "                                customer_df[col].mean() if col != 'Dt_Customer' else 0,\n",
    "                                customer_df[col].max()]\n",
    "nume_col_profiles_df.rename(index={0: \"Missing Ratio\", 1: \"Min\", 2: \"Mean\", 3: \"Max\"}, inplace = True)\n",
    "nume_col_profiles_df"
   ]
  },
  {
   "cell_type": "markdown",
   "id": "c704a27d",
   "metadata": {},
   "source": [
    "Ta tìm tỷ lệ phân bố các cột categorical: `ID`, `Education`, `Marital_Status`, `TotalAcceptedCmp`, `Complain` với 3 dòng `Missing Ratio`, `num_diff_vals`, `diff_vals`"
   ]
  },
  {
   "cell_type": "code",
   "execution_count": null,
   "id": "6ce09fe3",
   "metadata": {
    "scrolled": false
   },
   "outputs": [],
   "source": [
    "cate_col_profiles_df = pd.DataFrame(np.ones((0,0)))\n",
    "cate_col = ['ID', 'Education', 'Marital_Status', 'TotalAcceptedCmp', 'Complain']\n",
    "for col in cate_col:\n",
    "    cate_col_profiles_df[col]= [(customer_df[col].isnull().sum() * 100 / len(customer_df)).round(3), \n",
    "                                customer_df[col].value_counts().shape[0], \n",
    "                                list(customer_df[col].value_counts().index)]\n",
    "cate_col_profiles_df.rename(index={0: \"Missing Ratio\", 1: \"num_diff_vals\", 2: \"diff_vals\"}, inplace = True)\n",
    "cate_col_profiles_df"
   ]
  },
  {
   "cell_type": "markdown",
   "id": "9aaa46f4",
   "metadata": {},
   "source": [
    "### EDA"
   ]
  },
  {
   "cell_type": "code",
   "execution_count": null,
   "id": "33b1357a",
   "metadata": {},
   "outputs": [],
   "source": [
    "#Average Spending on Wines\n",
    "wine_spent = customer_df.groupby(\"Kids\").mean()['MntWines']\n",
    "wine_spent"
   ]
  },
  {
   "cell_type": "code",
   "execution_count": null,
   "id": "0d2245a9",
   "metadata": {},
   "outputs": [],
   "source": [
    "#Average Spending on Fruits\n",
    "fruit_spent = customer_df.groupby(\"Kids\").mean()['MntFruits']\n",
    "fruit_spent"
   ]
  },
  {
   "cell_type": "code",
   "execution_count": null,
   "id": "85112069",
   "metadata": {},
   "outputs": [],
   "source": [
    "#Average Spending on Meat Products\n",
    "meat_spent = customer_df.groupby(\"Kids\").mean()['MntMeatProducts']\n",
    "meat_spent"
   ]
  },
  {
   "cell_type": "code",
   "execution_count": null,
   "id": "340c9c7d",
   "metadata": {},
   "outputs": [],
   "source": [
    "#Average Spending on Fish Products\n",
    "fish_spent = customer_df.groupby(\"Kids\").mean()['MntFishProducts']\n",
    "fish_spent"
   ]
  },
  {
   "cell_type": "code",
   "execution_count": null,
   "id": "73427c4c",
   "metadata": {},
   "outputs": [],
   "source": [
    "#Average Spending on Sweet Products\n",
    "sweet_spent = customer_df.groupby(\"Kids\").mean()['MntSweetProducts']\n",
    "sweet_spent"
   ]
  },
  {
   "cell_type": "code",
   "execution_count": null,
   "id": "6fdf41be",
   "metadata": {},
   "outputs": [],
   "source": [
    "#Average Spending on Gold Products\n",
    "gold_spent = customer_df.groupby(\"Kids\").mean()['MntGoldProds']\n",
    "gold_spent"
   ]
  },
  {
   "cell_type": "markdown",
   "id": "76cc64f9",
   "metadata": {},
   "source": [
    "### Nhận xét sau khi khám phá:\n",
    "Những người/gia đình chưa có con sẽ chi nhiều hơn cho các mặt hàng, khi có con thì việc chi tiêu sẽ giảm đi."
   ]
  },
  {
   "cell_type": "markdown",
   "id": "8e9077db",
   "metadata": {},
   "source": [
    "## Đưa ra các câu hỏi có ý nghĩa để trả lời"
   ]
  },
  {
   "cell_type": "markdown",
   "id": "cc258826",
   "metadata": {},
   "source": [
    "Dựa vào data đã được xử lý, ta có thể rút trích 1 số câu hỏi sau:   \n"
   ]
  },
  {
   "cell_type": "markdown",
   "id": "4fd39cdd",
   "metadata": {},
   "source": [
    "### Câu hỏi 1:\n"
   ]
  },
  {
   "cell_type": "markdown",
   "id": "bb75c8b4",
   "metadata": {},
   "source": [
    "Giả sử nhóm người dùng được phân loại như sau: thanh niên (<= 35 tuổi), trung niên (36-60 tuổi), người cao tuổi (>60 tuổi) thì tập khách hàng nào có sức mua lớn nhất? Với mỗi nhóm khách hàng như vậy thì sản phẩm nào có sức mua cao hơn cả?"
   ]
  },
  {
   "cell_type": "code",
   "execution_count": null,
   "id": "ef8b53dc",
   "metadata": {},
   "outputs": [],
   "source": [
    "youth = len(customer_df[customer_df['Age'] <= 35])\n",
    "youth"
   ]
  },
  {
   "cell_type": "code",
   "execution_count": null,
   "id": "6b119938",
   "metadata": {},
   "outputs": [],
   "source": [
    "middle = len(customer_df[(customer_df['Age'] >= 36) & (customer_df['Age'] <= 60)])\n",
    "middle"
   ]
  },
  {
   "cell_type": "code",
   "execution_count": null,
   "id": "b42d7778",
   "metadata": {},
   "outputs": [],
   "source": [
    "old = len(customer_df[customer_df['Age'] > 60])\n",
    "old"
   ]
  },
  {
   "cell_type": "code",
   "execution_count": null,
   "id": "8f18b1b0",
   "metadata": {
    "scrolled": true
   },
   "outputs": [],
   "source": [
    "y = np.array([youth, middle, old])\n",
    "mylabels = [\"Youth\", \"Middle\", \"Older\"]\n",
    "\n",
    "plt.pie(y, labels = mylabels, autopct='%1.2f%%')\n",
    "plt.title(\"Customer's age propotion\")\n",
    "plt.show() "
   ]
  },
  {
   "cell_type": "code",
   "execution_count": null,
   "id": "37e29ea2",
   "metadata": {},
   "outputs": [],
   "source": [
    "prods = ['MntWines', 'MntFruits', 'MntMeatProducts', 'MntFishProducts', 'MntSweetProducts', 'MntGoldProds']\n",
    "\n",
    "x_pos = np.arange(6)\n",
    "width = 0.25\n",
    "\n",
    "def barplot(df,name,num):\n",
    "    diff_product = {}\n",
    "    for prod in prods:\n",
    "        diff_product[prod] = df[prod].sum()\n",
    "    diff_prod = list(diff_product.keys())\n",
    "    counts = list(diff_product.values())\n",
    "    s = sum(counts)\n",
    "    for i in range(len(counts)):\n",
    "        counts[i] = (counts[i] / s).round(3)\n",
    "\n",
    "    pos = x_pos + width*num\n",
    "    plt.bar(pos, counts, width, label = name)\n",
    "    # plt.xticks(diff_prod)\n",
    "    # plt.ylabel(f'{name}')\n",
    "    plt.ylim(0, 0.6)\n",
    "    for i in range(len(counts)):\n",
    "        plt.text(pos[i]-0.11, counts[i]+0.008,  str(counts[i]))\n",
    "# tạo 3 df ứng với 3 nhóm tuổi đã chia\n",
    "youth_customer_df = customer_df[customer_df['Age'] <= 35]\n",
    "middle_customer_df = customer_df[(customer_df['Age'] >= 36) & (customer_df['Age'] <= 60)]\n",
    "old_customer_df = customer_df[customer_df['Age'] > 60]\n",
    "plt.figure(figsize = (15,8))\n",
    "bar1 = barplot(youth_customer_df, 'Young', 0)\n",
    "bar2 = barplot(middle_customer_df, 'Middle', 1)\n",
    "bar3 = barplot(old_customer_df, 'Old', 2)\n",
    "\n",
    "plt.xticks(ticks = np.arange(6) + width, labels = prods)\n",
    "plt.ylabel('Percent')\n",
    "plt.title('Tương quan giữa các nhóm tuổi')\n",
    "plt.legend()\n",
    "plt.show()"
   ]
  },
  {
   "cell_type": "markdown",
   "id": "1f467180",
   "metadata": {},
   "source": [
    "### Nhận xét: \n",
    "1. Tập khách hàng trung niên (từ 36-60) chiếm tỷ lệ cao nhất trong khảo sát này, vì vậy chúng ta phải tập trung vào việc bán các sản phẩm phù hợp với nhu cầu của nhóm tuổi này.\n",
    "2. Có thể quan sát được rằng tất cả khách hàng được khảo sát trong dữ liệu đều chi phần lớn thu nhập cho rượu vang (hay đồ uống có cồn), nhóm tuổi càng cao thì có xu hướng chi tiêu cho sản phẩm này cao hơn. Do đó các công ty sản xuất rượu có thể dễ dàng hơn trong việc tiếp cận khách hàng của mình.\n",
    "3. Chi tiêu cho mua thực phẩm (như thịt, cá, trái cây, đồ ngọt) có xu hướng giảm dần qua từng nhóm tuổi từ trẻ đến già, có vẻ như càng lớn tuổi các khách hàng của chúng ta có xu hướng chi tiêu vào những sản phẩm mang tính tận hưởng là chính (như rượu, đồ uống có cồn, ...) hơn là các loại thực phẩm trong bữa ăn hằng ngày. Do đó để có thể lấy thị phần, các công ty sản xuất thực phẩm này cần phải thay đổi chiến lược tiếp cận của mình để có thể có được nhiều khách hàng mua sản phẩm của mình "
   ]
  },
  {
   "cell_type": "markdown",
   "id": "940e4978",
   "metadata": {},
   "source": [
    "### Câu hỏi 2:"
   ]
  },
  {
   "cell_type": "markdown",
   "id": "c54e0aa6",
   "metadata": {},
   "source": [
    "#### Với từng loại sản phẩm sẽ thu hút nhóm người với từng đặc điểm nào?"
   ]
  },
  {
   "cell_type": "code",
   "execution_count": null,
   "id": "f7af8a9a",
   "metadata": {},
   "outputs": [],
   "source": [
    "df = customer_df\n",
    "high_spending = df[df.Expenses>800]\n",
    "avg_spending = df[ (df.Expenses>200) & (df.Expenses< 800)]\n",
    "low_spending = df[df.Expenses<200]"
   ]
  },
  {
   "cell_type": "code",
   "execution_count": null,
   "id": "88080252",
   "metadata": {},
   "outputs": [],
   "source": [
    "# function draw outline and fill\n",
    "def add_to_radar(spending_rank, color, label):\n",
    "  values = []\n",
    "\n",
    "  age =  spending_rank.Age.values\n",
    "  max_age = 80\n",
    "  values.append(age.mean()/max_age)\n",
    "\n",
    "  Live_together_count=  spending_rank.Marital_Status.value_counts()\n",
    "\n",
    "  values.append(Live_together_count['InRelationship'] / Live_together_count.sum())\n",
    "\n",
    "  income =  spending_rank.Income.mean()\n",
    "  max_income = 85000\n",
    "  values.append(income/max_income)\n",
    "\n",
    "  kidhome =  spending_rank.Kids.mean()\n",
    "  max_kids = 2\n",
    "  values.append(kidhome/max_kids)\n",
    "\n",
    "  education = spending_rank.Education.value_counts()\n",
    "\n",
    "  columns = ['PhD', 'Master', '2n Cycle', 'Graduation', 'Basic']\n",
    "  score = [4,3,2.5,2,1]\n",
    "\n",
    "  edu_val = 0 \n",
    "  sum_ppl = education.sum()\n",
    "  for i in range(len(columns)):\n",
    "    edu_val += education[columns[i]]*score[i]/4/sum_ppl\n",
    "\n",
    "  values.append(edu_val)\n",
    "\n",
    "  values += values[:1]\n",
    "\n",
    "\n",
    "  ax.plot(angles, values, color=color, linewidth=1, label=label)\n",
    "  ax.fill(angles, values, color=color, alpha=0.25)\n",
    "\n",
    "\n",
    "# Each attribute we'll plot in the radar chart.\n",
    "labels = ['Age', 'InRelationship', 'Income', 'Kids','Education']\n",
    "\n",
    "\n",
    "# Number of variables we're plotting.\n",
    "num_vars = len(labels)\n",
    "\n",
    "# Split the circle into even parts and save the angles\n",
    "# so we know where to put each axis.\n",
    "angles = np.linspace(0, 2 * np.pi, num_vars, endpoint=False).tolist()\n",
    "\n",
    "# The plot is a circle, so we need to \"complete the loop\"\n",
    "# and append the start value to the end.\n",
    "angles += angles[:1]\n",
    "\n",
    "# ax = plt.subplot(polar=True)\n",
    "fig, ax = plt.subplots(figsize=(7,7), subplot_kw=dict(polar=True))\n",
    "\n",
    "# Draw the outline of our data.\n",
    "\n",
    "add_to_radar(high_spending, 'red', 'High_spending')\n",
    "add_to_radar(avg_spending, 'green', 'Avg_spending')\n",
    "add_to_radar(low_spending, 'blue', 'Low_spending')\n",
    "\n",
    "\n",
    "ax.legend(loc='upper left')\n",
    "\n",
    "# print(angles)\n",
    "ax.set_theta_offset(np.pi / 2)\n",
    "ax.set_theta_direction(-1)\n",
    "\n",
    "# Draw axis lines for each angle and label.\n",
    "labels += labels[:1]\n",
    "ax.set_xticks(angles)\n",
    "ax.set_xticklabels(labels)\n",
    "\n",
    "\n",
    "# Hide label\n",
    "ax.set_yticklabels([])\n",
    "\n",
    "# Go through labels and adjust alignment based on where\n",
    "# it is in the circle.\n",
    "for label, angle in zip(ax.get_xticklabels(), angles):\n",
    "  if angle in (0, np.pi):\n",
    "    label.set_horizontalalignment('center')\n",
    "  elif 0 < angle < np.pi:\n",
    "    label.set_horizontalalignment('left')\n",
    "  else:\n",
    "    label.set_horizontalalignment('right')\n",
    "\n",
    "ax.set_title('Comparising abtribute of customer on spending amount')\n",
    "plt.show(); "
   ]
  },
  {
   "cell_type": "markdown",
   "id": "b513d8f0",
   "metadata": {},
   "source": [
    "##### Nhận xét: \n",
    "- Những người mua hàng thường xuyên có thu nhập trên trung bình và có từ 1 đến 2 con. \n",
    "- Những người mua hàng nhiều thường sẽ không có con và có thu nhập cao hơn trung bình.\n",
    "- Những người ít mua hàng nhất là nhóm người cú thu nhập thấp và đã có con."
   ]
  },
  {
   "cell_type": "markdown",
   "id": "53d32307",
   "metadata": {},
   "source": [
    "#### Những người có mua hàng thường xuyên, nhiều có xu hướng mua những sản phẩm nào ?"
   ]
  },
  {
   "cell_type": "code",
   "execution_count": null,
   "id": "6ddd55dc",
   "metadata": {},
   "outputs": [],
   "source": [
    "def make_pie_chart(ax, df, name):\n",
    "    values = df.iloc[:,7:13].mean()\n",
    "    labels = df.iloc[:,7:13].columns\n",
    "    ax.pie(values,labels = labels,autopct='%1.2f%%')\n",
    "    ax.set_title(name)\n",
    "\n",
    "fig, (ax1, ax2) = plt.subplots( 1,2,figsize=(20,7))\n",
    "\n",
    "make_pie_chart(ax1, high_spending, 'High_spending')\n",
    "make_pie_chart(ax2, avg_spending, 'Avg_spending')\n",
    "plt.show();"
   ]
  },
  {
   "cell_type": "markdown",
   "id": "a10abbb8",
   "metadata": {},
   "source": [
    "##### Nhận xét:\n",
    "- Cả 2 nhóm đều có xu hướng mua rất nhiều rượu (trên 50%), và mua lượng lớn các sản phẩm từ thịt (20-30%).\n",
    "- Công ty nên tập trung vào rượu và các sản phẩm từ thịt.\n",
    "- Với thu nhập cao và lượng lớn người mua hàng tiêu thụ rượu, công ty có thể tăng thu nhập bằng cách cho ra các dòng rượu thượng hạng để khai thác từ nhóm người này."
   ]
  },
  {
   "cell_type": "markdown",
   "id": "21b096ee",
   "metadata": {},
   "source": [
    "## Nhìn lại quá trình làm đồ án"
   ]
  },
  {
   "cell_type": "markdown",
   "id": "84e1d496",
   "metadata": {},
   "source": [
    "#### Hồ Hoàng Duy\n",
    "\n",
    "- Khó khăn: \n",
    "1. Học kỳ này do học online nên việc làm đồ án các môn nói chung và môn học này gặp một số khó khăn trong việc trao đổi cũng như làm việc nhóm, môi trường online (từ việc giao tiếp, cũng như họp team qua các ứng dụng) làm cho sự tương tác giữa mỗi người có thể không thuận lợi từ lúc bắt đầu.\n",
    "2. Việc sử dụng git/github để quản lý bài làm khiến cho em gặp trục trặc trong việc merge cũng như xử lý conflict, tuy nhiên nó cũng giúp bản thân hiểu về quy trình làm việc thực tế.\n",
    "3. Em tự thấy những câu hỏi mình đặt ra chưa đủ thú vị nên dẫn đến trong phần của em chỉ có thể đặt được 1 câu hỏi tâm đắc. Em sẽ cố gắng suy nghĩ một cách thực tế hơn thông qua bài làm của các bạn khác\n",
    "- Học được từ đồ án:\n",
    "1. Rút kinh nghiệm trong việc nhận định và đặt câu hỏi mang ý nghĩa, hiểu rõ hơn công việc phân tích dữ liệu một cách sâu sắc.\n",
    "2. Nếu có nhiều thời gian, em sẽ quan sát kỹ dữ liệu của mình hơn và khai thác các thuộc tính còn lại."
   ]
  },
  {
   "cell_type": "markdown",
   "id": "97d9acc2",
   "metadata": {},
   "source": [
    "#### Đào Quốc Phong\n",
    "- Khó khăn:\n",
    "1. Merge .ipynb khá khó. Có tool hỗ trợ nhưng việc sử dụng cũng khó khăn với cả chỉnh sửa conplict mất một ít thời gian.\n",
    "2. Việc tìm data và đặt câu hỏi cho data tiến hành vẫn chưa tốt lắm. Tụi em nghĩ là đã tìm được data tốt nhưng cuối cùng vẫn không đặt được câu hỏi tốt cho data.\n",
    "- Học được từ đồ án:\n",
    "1. Code không phải là việc quan trọng nhất trong quá trình khoa học dữ liệu. Data và câu hỏi cũng như nhận xét rút ra được từ việc trả lời câu hỏi mới quan trọng.\n",
    "2. Cần cẩn thận trong việc thu thập, cũng như xử lý data vì nó có thể làm câu trả lời của chúng ta bị sai."
   ]
  },
  {
   "cell_type": "markdown",
   "id": "d5ed40ee",
   "metadata": {},
   "source": [
    "## Tài liệu tham khảo"
   ]
  },
  {
   "cell_type": "markdown",
   "id": "0d13f7cc",
   "metadata": {},
   "source": [
    "- Video record, slide bài giảng, file notebook demo của thầy Kiên\n",
    "- Documentation của các thư viện trong Python đã import (matplotlib, pandas, numpy, seaborn)\n",
    "- Link [kaggle](https://www.kaggle.com/imakash3011/customer-personality-analysis) của file dữ liệu\n",
    "- Vẽ radar plot https://www.pythoncharts.com/matplotlib/radar-charts/"
   ]
  }
 ],
 "metadata": {
  "kernelspec": {
   "display_name": "Python 3 (ipykernel)",
   "language": "python",
   "name": "python3"
  },
  "language_info": {
   "codemirror_mode": {
    "name": "ipython",
    "version": 3
   },
   "file_extension": ".py",
   "mimetype": "text/x-python",
   "name": "python",
   "nbconvert_exporter": "python",
   "pygments_lexer": "ipython3",
   "version": "3.8.8"
  }
 },
 "nbformat": 4,
 "nbformat_minor": 5
}
